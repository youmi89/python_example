{
  "nbformat": 4,
  "nbformat_minor": 0,
  "metadata": {
    "colab": {
      "provenance": []
    },
    "kernelspec": {
      "name": "python3",
      "display_name": "Python 3"
    },
    "language_info": {
      "name": "python"
    }
  },
  "cells": [
    {
      "cell_type": "code",
      "execution_count": null,
      "metadata": {
        "id": "3EId_1E7CDHc"
      },
      "outputs": [],
      "source": []
    },
    {
      "cell_type": "markdown",
      "source": [
        "\n",
        "\n",
        "*   colab에 좋은 점 : 시각화가 잘되어 있고,\n",
        "설치가 필요없고, 학습을 빠르게 할수 있다.\n",
        "*   .py에 좋은 점: 실무에서는 colab으로 개발하는 것이 아닙니다.\n",
        "\n"
      ],
      "metadata": {
        "id": "uFyi3Uc2ZXur"
      }
    },
    {
      "cell_type": "markdown",
      "source": [
        "# colad\n",
        "\n",
        "- googie id만 있으면 ram 12G , diak나 되는 원격 컴퓨터를 무료로 준다!\n",
        "-여기에는 python 환경이 모두 설정이 되어 있어서 별도의 설정이 필요없다 !\n",
        "-google drive가 자동 연동되어서 별도로 다운로느해서 저장할필요가 없다.\n",
        "-ctrl + Enter : 현재 실행 재실행\n"
      ],
      "metadata": {
        "id": "xPb7VQfPFRAS"
      }
    },
    {
      "cell_type": "markdown",
      "source": [
        "# 마크업과 마크다운"
      ],
      "metadata": {
        "id": "244RcVn9ZSJW"
      }
    },
    {
      "cell_type": "code",
      "source": [
        "- HTML은 웹 브라우저나 고급 문서를 표현\n",
        "<h1>hello world</h1>\n",
        "<h2>hello world</h2>\n",
        "<p>hello world</p>\n",
        "\n",
        "- Markdown은 서식이 필요치 않은 문서를 표현\n",
        "# hello world\n",
        "## hello world\n"
      ],
      "metadata": {
        "id": "uUaFR8ikZVGi"
      },
      "execution_count": null,
      "outputs": []
    },
    {
      "cell_type": "code",
      "source": [
        "# hello world\n",
        "## hello world\n",
        "### hello world\n",
        "\n",
        "- hello world\n",
        "- hello world\n",
        "- hello world\n",
        "\n",
        "1. hello world\n",
        "2. hello world\n",
        "3. hello world"
      ],
      "metadata": {
        "id": "s94KhR4xZ5T2"
      },
      "execution_count": null,
      "outputs": []
    },
    {
      "cell_type": "markdown",
      "source": [
        "# range"
      ],
      "metadata": {
        "id": "dVAbJv81RCJK"
      }
    },
    {
      "cell_type": "code",
      "source": [
        "range\n",
        "I = [10, 20, 30, 40]"
      ],
      "metadata": {
        "id": "RkI_veg1Is4T"
      },
      "execution_count": null,
      "outputs": []
    },
    {
      "cell_type": "code",
      "source": [
        "range(0, 10)\n",
        "# [0, 1, 2, 3, 4, 5, 6, 7, 8, 9] # 왜 그렇게 출력이 안되는것인가.."
      ],
      "metadata": {
        "id": "Ouw7fAR5K2ir"
      },
      "execution_count": null,
      "outputs": []
    },
    {
      "cell_type": "code",
      "source": [
        "range(0, 10)"
      ],
      "metadata": {
        "id": "9adIeHKDKgSy"
      },
      "execution_count": null,
      "outputs": []
    },
    {
      "cell_type": "markdown",
      "source": [
        "# range()는 pytho 2. x에서는 list였습니다.\n",
        "type(range(0, 10))\n"
      ],
      "metadata": {
        "id": "wc3OokbPLgDW"
      }
    },
    {
      "cell_type": "code",
      "source": [
        "# @title 기본 제목 텍스트\n",
        "# 파이썬은 속도를 올리기 위한 작업을 매 버젼마다  해왔다\n",
        "# 최종목표는 c의 속도를 따라 잡는것\n",
        "# range(100000000000000000000) 이렇게 데이터를 생각한다고 생각해보자\n",
        "# 0 ~ 10000000000000000000의 숫자를 모드 메모리에 올려야 한다\n",
        "# xrange() 라는것을 만들어서 이를 해결하다\n",
        "# xrange는 숫자를 생성하지 않고, start, stop, step 값으로 호출을 할때 하나씩\n",
        "# 생성을 하는 방식을 새롭게 도입했다\n",
        "# xrange가 3.x 로 오면서 range가 된것"
      ],
      "metadata": {
        "id": "VRunLvB4KBC8"
      },
      "execution_count": null,
      "outputs": []
    },
    {
      "cell_type": "markdown",
      "source": [],
      "metadata": {
        "id": "ulqkWEdoOCjz"
      }
    },
    {
      "cell_type": "markdown",
      "source": [
        "# range()의 인덱싱\n",
        "range(100)[3]\n",
        "\n",
        "range(100, 1000, 100)[3]"
      ],
      "metadata": {
        "id": "Yp6NK9KFPpRt"
      }
    },
    {
      "cell_type": "code",
      "source": [
        "# renge()의 슬라이싱\n",
        "range(100)[1:10]\n"
      ],
      "metadata": {
        "colab": {
          "base_uri": "https://localhost:8080/"
        },
        "id": "TWYnfxrPQJJr",
        "outputId": "ff218505-382a-4588-9442-34e13c23bb06"
      },
      "execution_count": null,
      "outputs": [
        {
          "output_type": "execute_result",
          "data": {
            "text/plain": [
              "range(1, 10)"
            ]
          },
          "metadata": {},
          "execution_count": 3
        }
      ]
    },
    {
      "cell_type": "markdown",
      "source": [
        "# print 라는 것은 무엇일까?\n"
      ],
      "metadata": {
        "id": "L5huoj1TRf9D"
      }
    },
    {
      "cell_type": "code",
      "source": [
        "def hello():\n",
        "    x = 10\n",
        "    y = 20\n",
        "    return x + y"
      ],
      "metadata": {
        "id": "AF8GOdYuQWMD"
      },
      "execution_count": null,
      "outputs": []
    },
    {
      "cell_type": "markdown",
      "source": [
        "# 변수\n"
      ],
      "metadata": {
        "id": "0BPS1dSBSDrv"
      }
    },
    {
      "cell_type": "markdown",
      "source": [
        "a = 10\n",
        "\n",
        "b = a\n",
        "\n",
        "c = b\n",
        "\n",
        "c\n",
        "\n"
      ],
      "metadata": {
        "id": "nDLJR2smSI0s"
      }
    },
    {
      "cell_type": "markdown",
      "source": [
        "```\n",
        "b = 100\n",
        "c\n",
        "```"
      ],
      "metadata": {
        "id": "6l_IGEYtTieB"
      }
    },
    {
      "cell_type": "markdown",
      "source": [
        "#type, dir, id"
      ],
      "metadata": {
        "id": "w4C4d40uUSxl"
      }
    },
    {
      "cell_type": "markdown",
      "source": [
        "- type은 앞으로도 자주 사용됩니다. 왜냐하면 우리가 앞으로 사용할 데이터 자료형은 기본 자료형이 아닌 경우가 많기 때문이에요.\n"
      ],
      "metadata": {
        "id": "9H7x_6FrWNv2"
      }
    },
    {
      "cell_type": "code",
      "source": [
        "i = [10, 20, 30, 40]\n",
        "print(type(i)) # print와 print를 안하는 것은 왜 차이가 있는가?"
      ],
      "metadata": {
        "colab": {
          "base_uri": "https://localhost:8080/"
        },
        "id": "JZirlx4mUOtn",
        "outputId": "93893df7-13fd-4b23-a271-58685aa695fe"
      },
      "execution_count": null,
      "outputs": [
        {
          "output_type": "stream",
          "name": "stdout",
          "text": [
            "<class 'list'>\n"
          ]
        }
      ]
    },
    {
      "cell_type": "code",
      "source": [
        "print(type(hello))"
      ],
      "metadata": {
        "colab": {
          "base_uri": "https://localhost:8080/"
        },
        "id": "LmMFHc_oUsBk",
        "outputId": "95beda49-a837-4d82-b054-b30b2b30ef34"
      },
      "execution_count": null,
      "outputs": [
        {
          "output_type": "stream",
          "name": "stdout",
          "text": [
            "<class 'function'>\n"
          ]
        }
      ]
    },
    {
      "cell_type": "code",
      "source": [
        "a = 10\n",
        "print(type(a))"
      ],
      "metadata": {
        "colab": {
          "base_uri": "https://localhost:8080/"
        },
        "id": "6EI8_zH_U0Bb",
        "outputId": "60400847-d7da-47b5-9ca5-fcaf2288ae4c"
      },
      "execution_count": null,
      "outputs": [
        {
          "output_type": "stream",
          "name": "stdout",
          "text": [
            "<class 'int'>\n"
          ]
        }
      ]
    },
    {
      "cell_type": "code",
      "source": [
        "print(a) # a 정수형을 보장할수 없다."
      ],
      "metadata": {
        "colab": {
          "base_uri": "https://localhost:8080/"
        },
        "id": "LlTCwnxsU-Nb",
        "outputId": "32b83c6b-bbe6-4060-8907-9c1c271c1053"
      },
      "execution_count": null,
      "outputs": [
        {
          "output_type": "stream",
          "name": "stdout",
          "text": [
            "10\n"
          ]
        }
      ]
    },
    {
      "cell_type": "code",
      "source": [
        "# 타입 확인이 이만큼 중요하다는 것을 보여드리기 위한 예제 2개\n",
        "# 예 1) 보여지는게 10이라고 해서 int 형이라고 생각하지 말자\n",
        "import numpy as np\n",
        "data = np.array(10)\n",
        "print(data)\n",
        "print(type(data))"
      ],
      "metadata": {
        "colab": {
          "base_uri": "https://localhost:8080/"
        },
        "id": "XYlWGsOTVKyq",
        "outputId": "5c27df57-fd8b-4bad-da0f-6683cceadae3"
      },
      "execution_count": null,
      "outputs": [
        {
          "output_type": "stream",
          "name": "stdout",
          "text": [
            "10\n",
            "<class 'numpy.ndarray'>\n"
          ]
        }
      ]
    },
    {
      "cell_type": "code",
      "source": [
        "# 예 2) 타입을 확인해야 하는 이유는 아래와 같아요. 기본 연산이 다르기 때문이죠.\n",
        "print([1, 2, 3] + [4, 5, 6])\n",
        "print(np.array([1, 2, 3]) + np.array([4, 5, 6]))"
      ],
      "metadata": {
        "colab": {
          "base_uri": "https://localhost:8080/"
        },
        "id": "V7idFImtV3L1",
        "outputId": "c990c9c3-3423-42bc-f92f-65dc8ecc351a"
      },
      "execution_count": null,
      "outputs": [
        {
          "output_type": "stream",
          "name": "stdout",
          "text": [
            "[1, 2, 3, 4, 5, 6]\n",
            "[5 7 9]\n"
          ]
        }
      ]
    },
    {
      "cell_type": "code",
      "source": [
        "l = [1, 2, 3, 4]\n",
        "dir(l) # 메서드 + 멤버\n",
        "\n",
        "# 이게 왜 중요할까? 코딩하다가 메서드 까먹을까봐 중요하다고 하신걸까?"
      ],
      "metadata": {
        "colab": {
          "base_uri": "https://localhost:8080/"
        },
        "id": "UmX7ivMTWiMt",
        "outputId": "f240982b-71ea-461d-e83a-f99875f84ed5"
      },
      "execution_count": null,
      "outputs": [
        {
          "output_type": "execute_result",
          "data": {
            "text/plain": [
              "['__add__',\n",
              " '__class__',\n",
              " '__class_getitem__',\n",
              " '__contains__',\n",
              " '__delattr__',\n",
              " '__delitem__',\n",
              " '__dir__',\n",
              " '__doc__',\n",
              " '__eq__',\n",
              " '__format__',\n",
              " '__ge__',\n",
              " '__getattribute__',\n",
              " '__getitem__',\n",
              " '__getstate__',\n",
              " '__gt__',\n",
              " '__hash__',\n",
              " '__iadd__',\n",
              " '__imul__',\n",
              " '__init__',\n",
              " '__init_subclass__',\n",
              " '__iter__',\n",
              " '__le__',\n",
              " '__len__',\n",
              " '__lt__',\n",
              " '__mul__',\n",
              " '__ne__',\n",
              " '__new__',\n",
              " '__reduce__',\n",
              " '__reduce_ex__',\n",
              " '__repr__',\n",
              " '__reversed__',\n",
              " '__rmul__',\n",
              " '__setattr__',\n",
              " '__setitem__',\n",
              " '__sizeof__',\n",
              " '__str__',\n",
              " '__subclasshook__',\n",
              " 'append',\n",
              " 'clear',\n",
              " 'copy',\n",
              " 'count',\n",
              " 'extend',\n",
              " 'index',\n",
              " 'insert',\n",
              " 'pop',\n",
              " 'remove',\n",
              " 'reverse',\n",
              " 'sort']"
            ]
          },
          "metadata": {},
          "execution_count": 18
        }
      ]
    },
    {
      "cell_type": "code",
      "source": [
        "# 이 빌트인 펑션이 왜 중요하냐면, 앞으로 여러분들이 만날 자료형들은\n",
        "# 새롭게 만나는 자료형들입니다.\n",
        "# 예를 들어, 아래 타입을 한 번 살펴보도록 하겠습니다.\n",
        "\n",
        "import numpy as np\n",
        "\n",
        "data = np.array([[10, 20, 30], [40, 50, 60]])\n",
        "dir(data)\n",
        "# 아래 목록만 봐도 어떤 자료형인지 짐작할 수 있고\n",
        "# 원하는 메서드를 바로 발견할 수도 있습니다.\n",
        "\n",
        "print(data.T)\n"
      ],
      "metadata": {
        "colab": {
          "base_uri": "https://localhost:8080/"
        },
        "id": "sejAS_sjYzGi",
        "outputId": "4056e713-2cb4-4a37-ae6d-f5a253ec09f2"
      },
      "execution_count": null,
      "outputs": [
        {
          "output_type": "stream",
          "name": "stdout",
          "text": [
            "[[10 40]\n",
            " [20 50]\n",
            " [30 60]]\n"
          ]
        }
      ]
    },
    {
      "cell_type": "markdown",
      "source": [
        "# id\n"
      ],
      "metadata": {
        "id": "hl5mrP_Ydhlz"
      }
    },
    {
      "cell_type": "code",
      "source": [
        "# id\n",
        "\n",
        "a = 10\n",
        "b = a\n",
        "c = b\n",
        "# 화살표는 어떻게 그렸나?\n",
        "id(a), id(b), id(c)\n",
        "\n",
        "# id는 해당 변수가 가리키고 있는 최종 목적지"
      ],
      "metadata": {
        "colab": {
          "base_uri": "https://localhost:8080/"
        },
        "id": "rOKbSuRUdkxi",
        "outputId": "48e442e2-37ba-4c84-dc9e-ac9c56672613"
      },
      "execution_count": null,
      "outputs": [
        {
          "output_type": "execute_result",
          "data": {
            "text/plain": [
              "(10751144, 10751144, 10751144)"
            ]
          },
          "metadata": {},
          "execution_count": 21
        }
      ]
    },
    {
      "cell_type": "code",
      "source": [
        "a = 10\n",
        "b = 10\n",
        "\n",
        "id(a), id(b) # 다른 언어에서는 이 값이 다르다. 그러면 파이썬에서는 같은가? 아니요\n",
        "\n"
      ],
      "metadata": {
        "colab": {
          "base_uri": "https://localhost:8080/"
        },
        "id": "URlgHDQld3bm",
        "outputId": "3f780da0-30d7-4f8e-bea0-15a0d03b9165"
      },
      "execution_count": null,
      "outputs": [
        {
          "output_type": "execute_result",
          "data": {
            "text/plain": [
              "(10751144, 10751144)"
            ]
          },
          "metadata": {},
          "execution_count": 22
        }
      ]
    },
    {
      "cell_type": "code",
      "source": [
        "a = 10000\n",
        "b = 10000\n",
        "\n",
        "id(a), id(b)\n"
      ],
      "metadata": {
        "colab": {
          "base_uri": "https://localhost:8080/"
        },
        "id": "Bq5qbf7hefBX",
        "outputId": "012ddb4c-0388-460e-c13d-a6e2253c38b8"
      },
      "execution_count": null,
      "outputs": [
        {
          "output_type": "execute_result",
          "data": {
            "text/plain": [
              "(139447046720752, 139447046720688)"
            ]
          },
          "metadata": {},
          "execution_count": 23
        }
      ]
    },
    {
      "cell_type": "markdown",
      "source": [
        "#print와 print를 안하는 것에 차이"
      ],
      "metadata": {
        "id": "NLGdwUI0iIAG"
      }
    },
    {
      "cell_type": "code",
      "source": [
        "# 아직 class를 안배웠지만, 이 차이를 설명하기 위해 잠시 이 코드를 사용하겠습니다.\n",
        "\n",
        "class CustomInt:\n",
        "    def __repr__(self):\n",
        "        return 'hello'\n",
        "\n",
        "    def __str__(self):\n",
        "        return 'hello world'"
      ],
      "metadata": {
        "id": "_PK4IV6Qe_0x"
      },
      "execution_count": null,
      "outputs": []
    },
    {
      "cell_type": "code",
      "source": [
        "a = CustomInt()\n",
        "a"
      ],
      "metadata": {
        "colab": {
          "base_uri": "https://localhost:8080/"
        },
        "id": "MvJba8VTfX5M",
        "outputId": "c4300c74-d2ba-482b-ab65-cc4d5d0f4a3c"
      },
      "execution_count": null,
      "outputs": [
        {
          "output_type": "execute_result",
          "data": {
            "text/plain": [
              "hello"
            ]
          },
          "metadata": {},
          "execution_count": 29
        }
      ]
    },
    {
      "cell_type": "code",
      "source": [
        "print(a)"
      ],
      "metadata": {
        "colab": {
          "base_uri": "https://localhost:8080/"
        },
        "id": "biyay-aFfr51",
        "outputId": "18b0ca4b-f14e-43c9-d9b5-65c8e929c8e6"
      },
      "execution_count": null,
      "outputs": [
        {
          "output_type": "stream",
          "name": "stdout",
          "text": [
            "hello world\n"
          ]
        }
      ]
    },
    {
      "cell_type": "code",
      "source": [
        "a = 10\n",
        "print(type(a))\n",
        "print(a)"
      ],
      "metadata": {
        "colab": {
          "base_uri": "https://localhost:8080/"
        },
        "id": "3OnCio04fvf8",
        "outputId": "5734e951-d4a0-4e84-808d-561ec64ce3f2"
      },
      "execution_count": null,
      "outputs": [
        {
          "output_type": "stream",
          "name": "stdout",
          "text": [
            "<class 'int'>\n",
            "10\n"
          ]
        }
      ]
    },
    {
      "cell_type": "code",
      "source": [
        "# print  -> 해당 인스턴스에 __str__함수호출\n",
        "# 그냥출력 -> 해당 인스턴스에 __repr__함수호출"
      ],
      "metadata": {
        "id": "xxYTok87fjps"
      },
      "execution_count": null,
      "outputs": []
    },
    {
      "cell_type": "code",
      "source": [
        "a = 10\n",
        "dir(a)"
      ],
      "metadata": {
        "id": "Og4fD8VWjRmd"
      },
      "execution_count": null,
      "outputs": []
    },
    {
      "cell_type": "markdown",
      "source": [
        "# python built-in functions"
      ],
      "metadata": {
        "id": "Y-FvnKFLk2m-"
      }
    },
    {
      "cell_type": "markdown",
      "source": [
        "* 링크: https://docs.python.org/3/library/functions.html"
      ],
      "metadata": {
        "id": "L8Ati0lgl6OZ"
      }
    },
    {
      "cell_type": "code",
      "source": [
        "# 자주 사용하는 functions\n",
        "abs([True, True, False]) # 안에 있는 값이 다 True 여야 True!\n",
        "all\n",
        "any\n",
        "bin\n",
        "# enumerate\n",
        "list(enumerate('hello'))\n",
        "list(enumerate('hello', 100))\n",
        "\n",
        "for i in enumerate('hello'):\n",
        "    print(i)\n",
        "\n",
        "for index, value in enumerate('hello'):\n",
        "    print(i)\n",
        "\n",
        "for i, v in enumerate('hello'):\n",
        "    print(i)\n",
        "\n",
        "for i in range(len('hello')): # 이렇게 쓰실거면\n",
        "    print(i)\n",
        "\n",
        "for i, _ in enumerate('hello'): # 이렇게 쓰시는 것을 권합니다.\n",
        "    print(i)\n",
        "# isinstance #claee 파트에서 다룰내용\n",
        "# issubciaes\n",
        "\n",
        "iter\n",
        "next\n",
        "\n",
        "locals\n",
        "globals\n",
        "\n",
        "max\n",
        "min\n",
        "sum\n"
      ],
      "metadata": {
        "id": "8W7EnhMFk-y2"
      },
      "execution_count": null,
      "outputs": []
    },
    {
      "cell_type": "markdown",
      "source": [],
      "metadata": {
        "id": "EkNvq8cQl-oi"
      }
    },
    {
      "cell_type": "code",
      "source": [
        "# 자료형을 만드는 built-in functions\n",
        "# int\n",
        "# float\n",
        "# str\n",
        "# complex\n",
        "# list\n",
        "# tuple\n",
        "# dict\n",
        "# set"
      ],
      "metadata": {
        "id": "AvnlnyMgmDMu"
      },
      "execution_count": null,
      "outputs": []
    },
    {
      "cell_type": "code",
      "source": [
        "abs(-10) # 절대값, 실행하면 나오는 값 (-10 아규먼트)\n",
        "all([True, True, False]) # 안에 있는 값이 다 True여야 True!\n",
        "any([True, True, False]) # 하나라도 True라면 True!\n",
        "bin(10) # 2진수로 바꿔줍니다. 알고리즘 문제에서 아주 간혹 출제 됩니다."
      ],
      "metadata": {
        "id": "BPMUVDvrnAyS"
      },
      "execution_count": null,
      "outputs": []
    },
    {
      "cell_type": "markdown",
      "source": [],
      "metadata": {
        "id": "uh5kQ-Df5BTL"
      }
    },
    {
      "cell_type": "code",
      "source": [
        "# enumerate\n",
        "# len\n",
        "len([10, 20, 30])\n",
        "\n",
        "# format\n",
        "format(10, 'b')\n",
        "format(10000000, '.') # 이코드 정말 많이 쓰여요!\n",
        "\n",
        "# input\n",
        "input('입력하세요!') # 주의할점 : 숫자를 입력해도 문자로 입력받는다\n",
        "\n",
        "# range(start, stop, step)\n",
        "# range는 리스트가 아니라, range타입 2.x에서 리스트였다"
      ],
      "metadata": {
        "id": "bN0aCvBAmEx9",
        "colab": {
          "base_uri": "https://localhost:8080/"
        },
        "outputId": "3d606e1a-1979-44f2-f153-338b1f318fd1"
      },
      "execution_count": null,
      "outputs": [
        {
          "output_type": "execute_result",
          "data": {
            "text/plain": [
              "3"
            ]
          },
          "metadata": {},
          "execution_count": 1
        }
      ]
    },
    {
      "cell_type": "markdown",
      "source": [
        "# function"
      ],
      "metadata": {
        "id": "L23WJ9JF4oql"
      }
    },
    {
      "cell_type": "code",
      "source": [
        "# 첫번째 이유)\n",
        "# function이라는 것이 왜 필요했을까?\n",
        "\n",
        "x = 10 # 이 코드가 반복되니 이 코드의 이름을 hello라고 하고, 이 코드 자리에 hello를 놓자!\n",
        "y = 20\n",
        "print(x + y)\n",
        "\n",
        "a = 10\n",
        "\n",
        "x = 10\n",
        "y = 20\n",
        "print(x + y)\n",
        "\n",
        "b = 20\n",
        "\n",
        "x = 10\n",
        "y = 20\n",
        "print(x + y)\n",
        "\n",
        "a + b\n",
        "\n",
        "x = 10\n",
        "y = 20\n",
        "print(x + y)\n",
        "\n",
        "a - b\n",
        "\n",
        "x = 10\n",
        "y = 20\n",
        "print(x + y)"
      ],
      "metadata": {
        "id": "Otw_aKl75rf2"
      },
      "execution_count": null,
      "outputs": []
    },
    {
      "cell_type": "code",
      "source": [
        "# 두번째 이유)\n",
        "\n",
        "수만줄의 코드도 아래와같이 함수로 쌓여 있으면 '구조물파악' 하기 쉽다"
      ],
      "metadata": {
        "id": "Kl1zpx195SEf"
      },
      "execution_count": null,
      "outputs": []
    },
    {
      "cell_type": "code",
      "source": [
        "# 세번째 이유)\n",
        "# 알지 않아도 되는 코드를 들여다보지 않을수 있다.\n",
        "# 추상화\n",
        "# 코드를 사용한다고해서 세부적인것을 알아볼필요가 없다\n",
        "# 파이썬의 추상화란\n",
        "# 복잡한 내부 구현을 숨기고,\n",
        "#필요한 기능만 외부에 노출시켜 코드를 더 이해하기 쉽고\n",
        "#사용하기 편리하게 만드는 개념입니다."
      ],
      "metadata": {
        "id": "92olA-pg5LVR"
      },
      "execution_count": null,
      "outputs": []
    },
    {
      "cell_type": "code",
      "source": [
        "def hello():\n",
        "    x = 10\n",
        "    y = 20\n",
        "    return x + y"
      ],
      "metadata": {
        "id": "dkUS6FFY8EHh"
      },
      "execution_count": null,
      "outputs": []
    },
    {
      "cell_type": "code",
      "source": [
        "# 파라미터와 아규먼트\n",
        "\n",
        "def xysum(x, y): # 함수를 정의하는 부분\n",
        "    return x + y\n",
        "\n",
        "xysum(10, 20) # 함수를 호출하는 부분"
      ],
      "metadata": {
        "id": "FVX3TyYi8SRW"
      },
      "execution_count": null,
      "outputs": []
    },
    {
      "cell_type": "code",
      "source": [
        "# 파선아실(파라미터는 선언할 때, 아규먼트는 실행할 때)\n",
        "\n",
        "def xysum(x, y): # 함수를 정의하는 부분\n",
        "    return x + y # return-> 호출한 곳에 그대로 주입\n",
        "\n",
        "xysum(10, 20) # 함수를 호출하는 부분"
      ],
      "metadata": {
        "id": "6NSUcjf48gii"
      },
      "execution_count": null,
      "outputs": []
    },
    {
      "cell_type": "code",
      "source": [
        "def xysum(x, y):\n",
        "    return x + y\n",
        " resuli = xysum(10, 20) + xysum"
      ],
      "metadata": {
        "id": "NTC3Nt798ijh"
      },
      "execution_count": null,
      "outputs": []
    },
    {
      "cell_type": "code",
      "source": [
        "None\n",
        "print(None)"
      ],
      "metadata": {
        "colab": {
          "base_uri": "https://localhost:8080/"
        },
        "id": "c24q-eq692GF",
        "outputId": "16e8ae32-c1d0-48ac-a9ca-0149c6ace17e"
      },
      "execution_count": null,
      "outputs": [
        {
          "output_type": "stream",
          "name": "stdout",
          "text": [
            "None\n"
          ]
        }
      ]
    },
    {
      "cell_type": "code",
      "source": [
        "def a(x, y):\n",
        "    z = x + y\n",
        "    return None\n",
        "print(a(10, 20))\n"
      ],
      "metadata": {
        "colab": {
          "base_uri": "https://localhost:8080/"
        },
        "id": "MLFgYTfF9-Bv",
        "outputId": "33196714-32d7-40ae-8fdc-16d262a68f68"
      },
      "execution_count": null,
      "outputs": [
        {
          "output_type": "stream",
          "name": "stdout",
          "text": [
            "None\n"
          ]
        }
      ]
    },
    {
      "cell_type": "code",
      "source": [
        "print(print(print('hello')))"
      ],
      "metadata": {
        "colab": {
          "base_uri": "https://localhost:8080/"
        },
        "id": "TeLJ7vbW-Xrl",
        "outputId": "684c0fae-6ee6-4534-c0d8-ede43772d71e"
      },
      "execution_count": null,
      "outputs": [
        {
          "output_type": "stream",
          "name": "stdout",
          "text": [
            "hello\n",
            "None\n",
            "None\n"
          ]
        }
      ]
    },
    {
      "cell_type": "code",
      "source": [
        "# 파라미터가 있는 함수 <- 아규먼트\n",
        "def hello(a):\n",
        "    return a\n",
        "\n",
        "# 파라미터가 없는 함수\n",
        "def hello():\n",
        "    return 'hello world'"
      ],
      "metadata": {
        "id": "4dj-UTnn-hle"
      },
      "execution_count": null,
      "outputs": []
    },
    {
      "cell_type": "code",
      "source": [
        "# 리턴값이 있는 함수 <- 파라미터\n",
        "def add(a, b):\n",
        "    return a + b\n",
        "\n",
        "# 리턴값이 없는 함수 << none이 들어감\n",
        "def add(a, b):\n",
        "    print(a + b)"
      ],
      "metadata": {
        "id": "3MFBjgVP-Rru"
      },
      "execution_count": null,
      "outputs": []
    },
    {
      "cell_type": "code",
      "source": [
        "# 문제1: 주식 그래프를 그리려고 한다.\n",
        "# 주식 그래프는 2x + 15와 같은 형식으로 그려지고 x는 10이라고 주어졌을 때, y값이 얼마인지 구하는 함수를 만드세요.\n",
        "\n",
        "def solution(x):\n",
        "    y = 2 * x + 15\n",
        "    return y\n",
        "print(solution(10))\n"
      ],
      "metadata": {
        "colab": {
          "base_uri": "https://localhost:8080/"
        },
        "id": "ryCZN3u2AB16",
        "outputId": "5299a45e-3fdb-432e-f590-913734ede205"
      },
      "execution_count": null,
      "outputs": [
        {
          "output_type": "stream",
          "name": "stdout",
          "text": [
            "35\n"
          ]
        }
      ]
    },
    {
      "cell_type": "code",
      "source": [
        "# 문제2: [10, 20, 30] + [1, 2, 3]이라고 했을 때 이 두 행렬을 요소별로 더하는 함수를 만드세요.\n",
        "\n",
        "def solution(a, b):\n",
        "    return [x + y for x, y in zip(a, b)]\n",
        "\n",
        "print(solution([10, 20, 30], [1, 2, 3]))"
      ],
      "metadata": {
        "colab": {
          "base_uri": "https://localhost:8080/"
        },
        "id": "uX9rzwziBXQy",
        "outputId": "090cfb57-d4de-46a4-b77c-4097c6977657"
      },
      "execution_count": null,
      "outputs": [
        {
          "output_type": "stream",
          "name": "stdout",
          "text": [
            "[11, 22, 33]\n"
          ]
        }
      ]
    },
    {
      "cell_type": "code",
      "source": [
        "# 풀이\n",
        "def solution(a, b):\n",
        "    result = []\n",
        "    for i, _ in enumerate(a):\n",
        "        result.append(a[i] + b[i])\n",
        "    return result\n",
        "\n",
        "solution([10, 20, 30], [1, 2, 3])"
      ],
      "metadata": {
        "colab": {
          "base_uri": "https://localhost:8080/"
        },
        "id": "d51trI1lMnpH",
        "outputId": "81d46d7e-e903-4a13-c786-b7084032bb52"
      },
      "execution_count": null,
      "outputs": [
        {
          "output_type": "execute_result",
          "data": {
            "text/plain": [
              "[11, 22, 33]"
            ]
          },
          "metadata": {},
          "execution_count": 49
        }
      ]
    },
    {
      "cell_type": "code",
      "source": [],
      "metadata": {
        "id": "cFB9EU4SMr1-"
      },
      "execution_count": null,
      "outputs": []
    },
    {
      "cell_type": "code",
      "source": [
        "# 풀이\n",
        "def solution(a, b):\n",
        "    for i, v in enumerate(a):\n",
        "        a[i] = v + b[i]\n",
        "    return a\n",
        "\n",
        "solution([10, 20, 30], [1, 2, 3])"
      ],
      "metadata": {
        "colab": {
          "base_uri": "https://localhost:8080/"
        },
        "id": "JLHGECotMWtC",
        "outputId": "97dfa8cf-cdc1-4213-d14c-b61e33cb326b"
      },
      "execution_count": null,
      "outputs": [
        {
          "output_type": "execute_result",
          "data": {
            "text/plain": [
              "[11, 22, 33]"
            ]
          },
          "metadata": {},
          "execution_count": 48
        }
      ]
    },
    {
      "cell_type": "code",
      "source": [
        "# 문제2: [10, 20, 30] + [1, 2, 3]이라고 했을 때 이 두 행렬을 요소별로 더하는 함수를 만드세요.\n",
        "# 좀 더 우아한 풀이\n",
        "\n",
        "def solution(a, b):\n",
        "    return list(map(sum, (zip([10, 20, 30], [1, 2, 3]))))\n",
        "\n",
        "solution([10, 20, 30], [1, 2, 3])"
      ],
      "metadata": {
        "colab": {
          "base_uri": "https://localhost:8080/"
        },
        "id": "6D9Dg3VHNnyb",
        "outputId": "4a881a35-abe1-41a1-f96e-574671b380cc"
      },
      "execution_count": null,
      "outputs": [
        {
          "output_type": "execute_result",
          "data": {
            "text/plain": [
              "[11, 22, 33]"
            ]
          },
          "metadata": {},
          "execution_count": 50
        }
      ]
    },
    {
      "cell_type": "code",
      "source": [
        "# 문제3: 행렬(리스트의 리스트)의 모든 요소에 특정 숫자를 곱하는 함수를 만드세요.\n",
        "# 예: [1, 2, 3, 4] * 2 = [2, 4, 6, 8]\n",
        "\n",
        "def solution(matrix, multiplier):\n",
        "    pass\n",
        "\n",
        "solution([1, 2, 3, 4], 2"
      ],
      "metadata": {
        "id": "49ZDfieCBa1c"
      },
      "execution_count": null,
      "outputs": []
    },
    {
      "cell_type": "markdown",
      "source": [],
      "metadata": {
        "id": "wT4eRwpcPJeX"
      }
    },
    {
      "cell_type": "code",
      "source": [
        "# 풀이\n",
        "def solution(matrix, multiplier):\n",
        "    result = []\n",
        "    for i in matrix:\n",
        "        result.append(i * multiplier)\n",
        "    return result\n",
        "\n",
        "solution([1, 2, 3, 4], 2)"
      ],
      "metadata": {
        "colab": {
          "base_uri": "https://localhost:8080/"
        },
        "id": "kjCqPfhdOXVL",
        "outputId": "415db649-b680-4292-b18f-f5d50247ad2b"
      },
      "execution_count": null,
      "outputs": [
        {
          "output_type": "execute_result",
          "data": {
            "text/plain": [
              "[2, 4, 6, 8]"
            ]
          },
          "metadata": {},
          "execution_count": 51
        }
      ]
    },
    {
      "cell_type": "code",
      "source": [
        "# 풀이\n",
        "def solution(matrix, multiplier):\n",
        "    return [i * multiplier for i in matrix]\n",
        "\n",
        "solution([1, 2, 3, 4], 2)"
      ],
      "metadata": {
        "colab": {
          "base_uri": "https://localhost:8080/"
        },
        "id": "SV38T3_9PKn7",
        "outputId": "e889c8d9-a877-4d35-952d-36790ca19d74"
      },
      "execution_count": null,
      "outputs": [
        {
          "output_type": "execute_result",
          "data": {
            "text/plain": [
              "[2, 4, 6, 8]"
            ]
          },
          "metadata": {},
          "execution_count": 52
        }
      ]
    },
    {
      "cell_type": "code",
      "source": [
        "# 풀이\n",
        "s = []\n",
        "for i in range(1, 10, 2):\n",
        "    s.append(i)\n",
        "s"
      ],
      "metadata": {
        "colab": {
          "base_uri": "https://localhost:8080/"
        },
        "id": "ZM5PjGOoPPLy",
        "outputId": "c73702b6-24d7-454f-d98e-699474d1fbab"
      },
      "execution_count": null,
      "outputs": [
        {
          "output_type": "execute_result",
          "data": {
            "text/plain": [
              "[1, 3, 5, 7, 9]"
            ]
          },
          "metadata": {},
          "execution_count": 55
        }
      ]
    },
    {
      "cell_type": "code",
      "source": [
        "# 풀이\n",
        " [i for i in range(1, 10, 2)]"
      ],
      "metadata": {
        "colab": {
          "base_uri": "https://localhost:8080/"
        },
        "id": "kLWF4z6BPtRS",
        "outputId": "54e17e0d-44bb-407c-abb3-8b773dbd3c80"
      },
      "execution_count": null,
      "outputs": [
        {
          "output_type": "execute_result",
          "data": {
            "text/plain": [
              "[1, 3, 5, 7, 9]"
            ]
          },
          "metadata": {},
          "execution_count": 56
        }
      ]
    },
    {
      "cell_type": "code",
      "source": [
        "# 안좋은 코드 (가독성이 안좋음)\n",
        "# 아래와 같은 코드는 가독성이 떨어지기 때문에 좋은 코드라고 보기 어렵습니다.\n",
        "# 파이썬에서는 읽기 좋은 코드에 가치를 높게 평가합니다!\n",
        "[f'{i} X {j} = {i * j}' for i in range(2, 10) for j in range(1, 10)]"
      ],
      "metadata": {
        "colab": {
          "base_uri": "https://localhost:8080/"
        },
        "id": "qN8v9GBlP2fU",
        "outputId": "be5c8db1-a13e-49ac-cfb5-3d9ebfad4cda"
      },
      "execution_count": null,
      "outputs": [
        {
          "output_type": "execute_result",
          "data": {
            "text/plain": [
              "['2 X 1 = 2',\n",
              " '2 X 2 = 4',\n",
              " '2 X 3 = 6',\n",
              " '2 X 4 = 8',\n",
              " '2 X 5 = 10',\n",
              " '2 X 6 = 12',\n",
              " '2 X 7 = 14',\n",
              " '2 X 8 = 16',\n",
              " '2 X 9 = 18',\n",
              " '3 X 1 = 3',\n",
              " '3 X 2 = 6',\n",
              " '3 X 3 = 9',\n",
              " '3 X 4 = 12',\n",
              " '3 X 5 = 15',\n",
              " '3 X 6 = 18',\n",
              " '3 X 7 = 21',\n",
              " '3 X 8 = 24',\n",
              " '3 X 9 = 27',\n",
              " '4 X 1 = 4',\n",
              " '4 X 2 = 8',\n",
              " '4 X 3 = 12',\n",
              " '4 X 4 = 16',\n",
              " '4 X 5 = 20',\n",
              " '4 X 6 = 24',\n",
              " '4 X 7 = 28',\n",
              " '4 X 8 = 32',\n",
              " '4 X 9 = 36',\n",
              " '5 X 1 = 5',\n",
              " '5 X 2 = 10',\n",
              " '5 X 3 = 15',\n",
              " '5 X 4 = 20',\n",
              " '5 X 5 = 25',\n",
              " '5 X 6 = 30',\n",
              " '5 X 7 = 35',\n",
              " '5 X 8 = 40',\n",
              " '5 X 9 = 45',\n",
              " '6 X 1 = 6',\n",
              " '6 X 2 = 12',\n",
              " '6 X 3 = 18',\n",
              " '6 X 4 = 24',\n",
              " '6 X 5 = 30',\n",
              " '6 X 6 = 36',\n",
              " '6 X 7 = 42',\n",
              " '6 X 8 = 48',\n",
              " '6 X 9 = 54',\n",
              " '7 X 1 = 7',\n",
              " '7 X 2 = 14',\n",
              " '7 X 3 = 21',\n",
              " '7 X 4 = 28',\n",
              " '7 X 5 = 35',\n",
              " '7 X 6 = 42',\n",
              " '7 X 7 = 49',\n",
              " '7 X 8 = 56',\n",
              " '7 X 9 = 63',\n",
              " '8 X 1 = 8',\n",
              " '8 X 2 = 16',\n",
              " '8 X 3 = 24',\n",
              " '8 X 4 = 32',\n",
              " '8 X 5 = 40',\n",
              " '8 X 6 = 48',\n",
              " '8 X 7 = 56',\n",
              " '8 X 8 = 64',\n",
              " '8 X 9 = 72',\n",
              " '9 X 1 = 9',\n",
              " '9 X 2 = 18',\n",
              " '9 X 3 = 27',\n",
              " '9 X 4 = 36',\n",
              " '9 X 5 = 45',\n",
              " '9 X 6 = 54',\n",
              " '9 X 7 = 63',\n",
              " '9 X 8 = 72',\n",
              " '9 X 9 = 81']"
            ]
          },
          "metadata": {},
          "execution_count": 57
        }
      ]
    },
    {
      "cell_type": "code",
      "source": [
        "# 문제 4\n",
        "# 프로그래머스(카카오 코딩 테스트 보는 공간)에 문제 하나 풀어보자\n",
        "# https://school.programmers.co.kr/learn/courses/30/lessons/181928\n",
        "def solution(num_list):\n",
        "    짝수 = ''\n",
        "    홀수 = ''\n",
        "    for i in num_list:\n",
        "        if i % 2 == 0:\n",
        "            짝수 += str(i)\n",
        "        else:\n",
        "            홀수 += str(i)\n",
        "    answer = int(짝수) + int(홀수)\n",
        "    return answer\n",
        "solution([3, 4, 5, 2, 1])"
      ],
      "metadata": {
        "colab": {
          "base_uri": "https://localhost:8080/"
        },
        "id": "N_i6FhHpQNhb",
        "outputId": "604f7299-f18f-4e37-821c-318a9ab56546"
      },
      "execution_count": null,
      "outputs": [
        {
          "output_type": "execute_result",
          "data": {
            "text/plain": [
              "393"
            ]
          },
          "metadata": {},
          "execution_count": 59
        }
      ]
    },
    {
      "cell_type": "code",
      "source": [
        "# 파라미터에 기본값이 정해져 있는 경우!\n",
        "\n",
        "def add(x = 10, y = 20):\n",
        "    return x + y\n",
        "\n",
        "add()"
      ],
      "metadata": {
        "colab": {
          "base_uri": "https://localhost:8080/"
        },
        "id": "IqON7MWyVvDB",
        "outputId": "92130662-efe0-4dd8-da38-655933e2063c"
      },
      "execution_count": null,
      "outputs": [
        {
          "output_type": "execute_result",
          "data": {
            "text/plain": [
              "30"
            ]
          },
          "metadata": {},
          "execution_count": 60
        }
      ]
    },
    {
      "cell_type": "code",
      "source": [
        "# 지역변수 전역변수\n",
        "\n",
        "x = 10\n",
        "\n",
        "def hello():\n",
        "    print(x)\n",
        "\n",
        "hello()"
      ],
      "metadata": {
        "colab": {
          "base_uri": "https://localhost:8080/"
        },
        "id": "DlW_F7afWkHa",
        "outputId": "81b5c236-d0b8-4915-9d51-0eaf72ba399c"
      },
      "execution_count": null,
      "outputs": [
        {
          "output_type": "stream",
          "name": "stdout",
          "text": [
            "10\n"
          ]
        }
      ]
    },
    {
      "cell_type": "code",
      "source": [],
      "metadata": {
        "id": "qLD8H1MLWrg2"
      },
      "execution_count": null,
      "outputs": []
    },
    {
      "cell_type": "code",
      "source": [
        "# 지역변수_ 전역변수\n",
        "x = 10\n",
        "def hello():\n",
        "\n",
        "hello()\n"
      ],
      "metadata": {
        "colab": {
          "base_uri": "https://localhost:8080/",
          "height": 106
        },
        "id": "VqpEEzT6V0Xn",
        "outputId": "4f8d0fb9-33d8-4ed1-8c3d-a3edb5dae734"
      },
      "execution_count": null,
      "outputs": [
        {
          "output_type": "error",
          "ename": "IndentationError",
          "evalue": "expected an indented block after function definition on line 3 (<ipython-input-70-1e071335629b>, line 5)",
          "traceback": [
            "\u001b[0;36m  File \u001b[0;32m\"<ipython-input-70-1e071335629b>\"\u001b[0;36m, line \u001b[0;32m5\u001b[0m\n\u001b[0;31m    hello()\u001b[0m\n\u001b[0m    ^\u001b[0m\n\u001b[0;31mIndentationError\u001b[0m\u001b[0;31m:\u001b[0m expected an indented block after function definition on line 3\n"
          ]
        }
      ]
    },
    {
      "cell_type": "code",
      "source": [],
      "metadata": {
        "id": "NPGKel3_d65D"
      },
      "execution_count": null,
      "outputs": []
    },
    {
      "cell_type": "code",
      "source": [
        "# 지역변수 전역변수\n",
        "x = 10\n",
        "\n",
        "def hello():\n",
        "    x += 1 # 밖에 있는 변수를 수정할 수는 없습니다.\n",
        "\n",
        "hello()"
      ],
      "metadata": {
        "id": "gkW8vYQTWdi6"
      },
      "execution_count": null,
      "outputs": []
    },
    {
      "cell_type": "code",
      "source": [
        "x = 10 # 전역변수 x 10\n",
        "\n",
        "def hello():\n",
        "    x = 100 # 지역변수 * 100\n",
        "hello()\n",
        "\n"
      ],
      "metadata": {
        "id": "wwYkXzaZXILF"
      },
      "execution_count": null,
      "outputs": []
    },
    {
      "cell_type": "code",
      "source": [
        "# 아주 짧은 코드에서는 맞는 얘기지만\n",
        "# 실무에서는 깨끗한코드, 구조화 되어있는 코드, 견고한 코드가 필요하다\n",
        "\n",
        "x = 10\n",
        "x  += 10\n",
        "\n",
        "print(x)"
      ],
      "metadata": {
        "colab": {
          "base_uri": "https://localhost:8080/"
        },
        "id": "kbo2SRwUX0Tq",
        "outputId": "45d00262-b04d-44d4-8007-e2dd632d7b81"
      },
      "execution_count": null,
      "outputs": [
        {
          "output_type": "stream",
          "name": "stdout",
          "text": [
            "20\n"
          ]
        }
      ]
    },
    {
      "cell_type": "code",
      "source": [
        "# 대부분 아래 코드는 안좋은 사례\n",
        "\n",
        "x = 10\n",
        "def hello():\n",
        "    #global(x)  << 쓰지말아라\n",
        "    x += 100\n",
        "hello()\n",
        "print(x)"
      ],
      "metadata": {
        "id": "_tQBZQaWYJbk"
      },
      "execution_count": null,
      "outputs": []
    },
    {
      "cell_type": "code",
      "source": [
        "locals()\n",
        "globals()"
      ],
      "metadata": {
        "id": "hLsrvKriYubB"
      },
      "execution_count": null,
      "outputs": []
    },
    {
      "cell_type": "code",
      "source": [
        "def add(a, b):\n",
        "    z = a + b\n",
        "    print(locals()) # < 메모리 효율최적화할때 사용\n"
      ],
      "metadata": {
        "id": "ACoqA9tOY9n2"
      },
      "execution_count": null,
      "outputs": []
    },
    {
      "cell_type": "code",
      "source": [
        "## sorted <제일중요함\n",
        "\n",
        "s = [10, 20, 5, 4, 3, 8, 19, 3, 2]\n",
        "sorted(s) # 오름차순\n",
        "sorted s. reverse=True # 내림차순\n",
        "\n",
        "# 학년, 반, 번, 이름, 국어, 영어, 수학\n",
        "data = [\n",
        "    [1, 1, 5, '홍길동', 78, 54, 39],          # 3\n",
        "    [1, 1, 2, '김철수', 92, 88, 75],          # 3\n",
        "    [1, 2, 7, '이', 87, 91, 82],              # 1\n",
        "    [1, 2, 3, '박민수', 65, 72, 84],          # 3\n",
        "    [1, 1, 8, '정수진', 91, 85, 93],          # 3\n",
        "    [1, 3, 1, '강', 76, 79, 88],              # 1\n",
        "    [1, 2, 4, '윤서연미래별하', 89, 94, 90],  # 7\n",
        "    [1, 3, 6, '장현우', 82, 67, 71],          # 3\n",
        "    [1, 1, 10, '조', 95, 89, 97],             # 1\n",
        "    [1, 3, 9, '최준호빛나라', 73, 80, 76]     # 6\n",
        "]\n",
        "\n",
        "# 문제 2 이름의 글자수 대로 정렬해주세요.\n",
        "def f(x):\n",
        "    return len(x[3])\n",
        "\n",
        "def f(x):\n",
        "    return sum(x[4:])\n",
        "\n",
        "sorted(data, key=f, reverse=True)\n",
        "sorted(data, key=f)"
      ],
      "metadata": {
        "colab": {
          "base_uri": "https://localhost:8080/",
          "height": 110
        },
        "id": "Z4l0zSs4bHst",
        "outputId": "3e414417-3b4b-47da-cc70-015adcf46c1e"
      },
      "execution_count": null,
      "outputs": [
        {
          "output_type": "error",
          "ename": "SyntaxError",
          "evalue": "invalid syntax (<ipython-input-4-24d4c1e1d18b>, line 5)",
          "traceback": [
            "\u001b[0;36m  File \u001b[0;32m\"<ipython-input-4-24d4c1e1d18b>\"\u001b[0;36m, line \u001b[0;32m5\u001b[0m\n\u001b[0;31m    sorted s. reverse=True # 내림차순\u001b[0m\n\u001b[0m           ^\u001b[0m\n\u001b[0;31mSyntaxError\u001b[0m\u001b[0;31m:\u001b[0m invalid syntax\n"
          ]
        }
      ]
    },
    {
      "cell_type": "code",
      "source": [
        "def user_f(aaa, bbb=100):\n",
        "    return aaa + bbb\n",
        "\n",
        "user_f(1000)"
      ],
      "metadata": {
        "colab": {
          "base_uri": "https://localhost:8080/"
        },
        "id": "93BumyuVdun-",
        "outputId": "b4782a19-3277-45d2-8a01-bf6d5b78ad94"
      },
      "execution_count": null,
      "outputs": [
        {
          "output_type": "execute_result",
          "data": {
            "text/plain": [
              "1100"
            ]
          },
          "metadata": {},
          "execution_count": 2
        }
      ]
    },
    {
      "cell_type": "code",
      "source": [
        "# 문제 3 국어 점수와 수학 점수가 가장 점수차가 큰 순서대로 정렬해주세요.\n",
        "# 학년, 반, 번, 이름, 국어, 영어, 수학\n",
        "data = [\n",
        "    [1, 1, 5, '홍길동', 78, 54, 39],          # ?\n",
        "    [1, 1, 2, '김철수', 92, 88, 75],          # ?\n",
        "    [1, 2, 7, '이', 87, 91, 82],              # ?\n",
        "    [1, 2, 3, '박민수', 65, 72, 84],          # ?\n",
        "    [1, 1, 8, '정수진', 91, 85, 93],          # ?\n",
        "    [1, 3, 1, '강', 76, 79, 88],              # ?\n",
        "    [1, 2, 4, '윤서연미래별하', 89, 94, 90],  # ?\n",
        "    [1, 3, 6, '장현우', 82, 67, 71],          # ?\n",
        "    [1, 1, 10, '조', 95, 89, 97],             # ?\n",
        "    [1, 3, 9, '최준호빛나라', 73, 80, 76]     # ?\n",
        "]\n",
        "\n",
        "# 문제 3 국어 점수와 수학 점수가 가장 점수차가 큰 순서대로 정렬해주세요.\n",
        "def f(x):\n",
        "    return abs(x[4] - x[6])\n",
        "\n",
        "sorted(data, key=f, reverse=True)\n"
      ],
      "metadata": {
        "colab": {
          "base_uri": "https://localhost:8080/"
        },
        "id": "jXFOuyzueUlJ",
        "outputId": "c9dedbd4-5740-4abb-bf38-83a5ea422966"
      },
      "execution_count": null,
      "outputs": [
        {
          "output_type": "execute_result",
          "data": {
            "text/plain": [
              "[[1, 1, 5, '홍길동', 78, 54, 39],\n",
              " [1, 2, 3, '박민수', 65, 72, 84],\n",
              " [1, 1, 2, '김철수', 92, 88, 75],\n",
              " [1, 3, 1, '강', 76, 79, 88],\n",
              " [1, 3, 6, '장현우', 82, 67, 71],\n",
              " [1, 2, 7, '이', 87, 91, 82],\n",
              " [1, 3, 9, '최준호빛나라', 73, 80, 76],\n",
              " [1, 1, 8, '정수진', 91, 85, 93],\n",
              " [1, 1, 10, '조', 95, 89, 97],\n",
              " [1, 2, 4, '윤서연미래별하', 89, 94, 90]]"
            ]
          },
          "metadata": {},
          "execution_count": 9
        }
      ]
    },
    {
      "cell_type": "code",
      "source": [
        "# 1차원의 점들이 주어졌을 때,\n",
        "# 그 중 가장 거리가 짧은 것의 쌍을 출력하는 함수를 작성하시오.\n",
        "# (단 점들의 배열은 모두 정렬되어있다고 가정한다.)\n",
        "\n",
        "# 예를들어 S={1, 3, 4, 8, 13, 17, 20} 이 주어졌다면, 결과값은 (3, 4)가 될 것이다.\n",
        "\n",
        "# 이렇게 풀지 마세요. 파이써닉하지 않습니다.\n",
        "s = [1, 3, 4, 8, 13, 17, 20]\n",
        "\n",
        "for i in range(len(s)):\n",
        "    pass"
      ],
      "metadata": {
        "id": "xNWpNaAeoPs7"
      },
      "execution_count": null,
      "outputs": []
    },
    {
      "cell_type": "code",
      "source": [
        "data = [\n",
        "    [1, 3],\n",
        "    [3, 4],\n",
        "    [4, 8],\n",
        "    [8, 13],\n",
        "    [13, 17],\n",
        "    [17, 20],\n",
        "]\n",
        "\n",
        "def f(x):\n",
        "    return x[1] - x[0]\n",
        "\n",
        "sorted(data, key=f)"
      ],
      "metadata": {
        "colab": {
          "base_uri": "https://localhost:8080/"
        },
        "id": "P9D4YZtkn50p",
        "outputId": "32d20ddf-5adb-49e0-cc93-540777dbbc9d"
      },
      "execution_count": null,
      "outputs": [
        {
          "output_type": "execute_result",
          "data": {
            "text/plain": [
              "[[3, 4], [1, 3], [17, 20], [4, 8], [13, 17], [8, 13]]"
            ]
          },
          "metadata": {},
          "execution_count": 10
        }
      ]
    },
    {
      "cell_type": "code",
      "source": [
        "s = [1, 3, 4, 8, 13, 17, 20]\n",
        "\n",
        "def f(x):\n",
        "    return x[1] - x[0]\n",
        "\n",
        "sorted(zip(s, s[1:]), key=f)"
      ],
      "metadata": {
        "id": "2wFXupghpIOo"
      },
      "execution_count": null,
      "outputs": []
    },
    {
      "cell_type": "code",
      "source": [
        "# sorted 에서 자주 나오는 유형 2번째!\n",
        "# 정렬 기준이 나에게 없는경우?"
      ],
      "metadata": {
        "id": "WJYZLAASpcYn"
      },
      "execution_count": null,
      "outputs": []
    },
    {
      "cell_type": "code",
      "source": [
        "# 특정 형태의 함수가 들어가야 하나요? 아닙니다.\n",
        "# 일반 def 되는 함수 또는 lambda 함수 모두 함수의 형태면 가능합니다!\n",
        "# 이 함수의 return 되는 값에 따라 정렬을 해줍니다."
      ],
      "metadata": {
        "id": "9T43RivhfVfV"
      },
      "execution_count": null,
      "outputs": []
    },
    {
      "cell_type": "code",
      "source": [
        "# sorted에서 자주 나오는 유형2번째!\n",
        "# 정렬 기준이 나에게 없는경우!?\n",
        "\n",
        "data1 = [\n",
        "    'Moby Dick',              # 1851\n",
        "    'To Kill a Mockingbird',  # 1960\n",
        "    '1984'                    # 1949\n",
        "    ]\n",
        "data2 = {'Moby Dick': 1851, 'To Kill a Mockingbird': 1960, '1984': 1949}\n",
        "\n",
        "def f(x):\n",
        "    return data2[x]\n",
        "\n",
        "sorted(data1, key=f)"
      ],
      "metadata": {
        "colab": {
          "base_uri": "https://localhost:8080/"
        },
        "id": "faclRpGHrg01",
        "outputId": "8142fc37-89cd-4faf-e828-f00122888c8b"
      },
      "execution_count": null,
      "outputs": [
        {
          "output_type": "execute_result",
          "data": {
            "text/plain": [
              "['Moby Dick', '1984', 'To Kill a Mockingbird']"
            ]
          },
          "metadata": {},
          "execution_count": 11
        }
      ]
    },
    {
      "cell_type": "code",
      "source": [
        "# 우편번호 정렬\n",
        "# 우편번호 오름차순 순서대로 주소를 정렬하는 코드\n",
        "data = [\n",
        "    ['A동',\n",
        "     'B동',\n",
        "     'C동'],\n",
        "    {'A동': 63007, 'B동': 63010, 'C동': 63002}\n",
        "]\n",
        "\n",
        "data1 = data[0]\n",
        "data2 = data[1]\n",
        "\n",
        "def f(x):\n",
        "    return data2[x]\n",
        "\n",
        "sorted(data1, key=f)"
      ],
      "metadata": {
        "colab": {
          "base_uri": "https://localhost:8080/"
        },
        "id": "sDRgj4xTrhrS",
        "outputId": "e8a7de7b-b5e0-4016-d4f3-23b19f8006d9"
      },
      "execution_count": null,
      "outputs": [
        {
          "output_type": "execute_result",
          "data": {
            "text/plain": [
              "['C동', 'A동', 'B동']"
            ]
          },
          "metadata": {},
          "execution_count": 13
        }
      ]
    },
    {
      "cell_type": "code",
      "source": [
        "result = 0\n",
        "for i in range(1, 11):\n",
        "    if i % 2 == 0:\n",
        "        result += i\n",
        "\n",
        "result"
      ],
      "metadata": {
        "colab": {
          "base_uri": "https://localhost:8080/"
        },
        "id": "3V9sZiOE6raf",
        "outputId": "ddb153c6-e2c8-4e0a-a8ac-7c54d487014f"
      },
      "execution_count": null,
      "outputs": [
        {
          "output_type": "execute_result",
          "data": {
            "text/plain": [
              "30"
            ]
          },
          "metadata": {},
          "execution_count": 6
        }
      ]
    },
    {
      "cell_type": "code",
      "source": [
        "def f(x):\n",
        "    return x % 2 == 0\n",
        "\n",
        "list(filter(f, range(1, 11)))"
      ],
      "metadata": {
        "colab": {
          "base_uri": "https://localhost:8080/"
        },
        "id": "YfldWBHM6uWh",
        "outputId": "dc45da14-89d7-48b2-cecd-f8d4c9b6637f"
      },
      "execution_count": null,
      "outputs": [
        {
          "output_type": "execute_result",
          "data": {
            "text/plain": [
              "[2, 4, 6, 8, 10]"
            ]
          },
          "metadata": {},
          "execution_count": 7
        }
      ]
    },
    {
      "cell_type": "code",
      "source": [
        "def f(x):\n",
        "    return x % 2 == 0\n",
        "\n",
        "sum(filter(f, range(1, 11)))"
      ],
      "metadata": {
        "colab": {
          "base_uri": "https://localhost:8080/"
        },
        "id": "NkofcbUx6xEg",
        "outputId": "83017616-f9ae-40ab-c8d1-ed86c4fa32e8"
      },
      "execution_count": null,
      "outputs": [
        {
          "output_type": "execute_result",
          "data": {
            "text/plain": [
              "30"
            ]
          },
          "metadata": {},
          "execution_count": 8
        }
      ]
    },
    {
      "cell_type": "code",
      "source": [
        "list(reversed([10, 20, 30]))\n",
        "list(range(10))\n",
        "\n",
        "# 메모리 속도를 위해 사용"
      ],
      "metadata": {
        "colab": {
          "base_uri": "https://localhost:8080/"
        },
        "id": "vEB2AjR-sjus",
        "outputId": "78267f54-62a8-49a1-e312-d6b082ba52b2"
      },
      "execution_count": null,
      "outputs": [
        {
          "output_type": "execute_result",
          "data": {
            "text/plain": [
              "[0, 1, 2, 3, 4, 5, 6, 7, 8, 9]"
            ]
          },
          "metadata": {},
          "execution_count": 14
        }
      ]
    },
    {
      "cell_type": "code",
      "source": [
        "result = 0\n",
        "for i in range(1, 11):\n",
        "    if i % 2 == 0:\n",
        "        result += i\n",
        "\n",
        "result"
      ],
      "metadata": {
        "colab": {
          "base_uri": "https://localhost:8080/"
        },
        "id": "xRDuuy5ivXgH",
        "outputId": "c71aed0e-0bcc-41c3-ba0c-9433d78c0479"
      },
      "execution_count": null,
      "outputs": [
        {
          "output_type": "execute_result",
          "data": {
            "text/plain": [
              "30"
            ]
          },
          "metadata": {},
          "execution_count": 17
        }
      ]
    },
    {
      "cell_type": "code",
      "source": [
        "# 항공사, 편명, 좌석번호, 이름, 나이, 짐무게(kg), 마일리지\n",
        "data = [\n",
        "    ['대한항공', 'KE607', '12A', '김민준', 42, 23, 5280],\n",
        "    ['아시아나', 'OZ721', '8C', '이', 29, 18, 3450],\n",
        "    ['제주항공', '7C101', '15F', '박지민', 35, 15, 720],\n",
        "    ['진에어', 'LJ211', '4D', '최서우미래한별', 51, 27, 8900],\n",
        "    ['에어부산', 'BX213', '21B', '정', 24, 12, 1250],\n",
        "    ['티웨이', 'TW305', '19E', '강민석', 38, 20, 2760],\n",
        "    ['에어서울', 'RS808', '3C', '윤지현', 47, 16, 4320],\n",
        "    ['대한항공', 'KE123', '7F', '송', 33, 21, 6780],\n",
        "    ['아시아나', 'OZ562', '11D', '장하은별님달빛', 26, 19, 1890],\n",
        "    ['제주항공', '7C505', '17B', '황수진', 40, 14, 940]\n",
        "]\n",
        "\n",
        "def f(x):\n",
        "    return x[4] >= 30\n",
        "for i in filter(f, data):\n",
        "    print(i)\n"
      ],
      "metadata": {
        "colab": {
          "base_uri": "https://localhost:8080/"
        },
        "id": "rKN0_8MhvkaT",
        "outputId": "e8bc9dac-a335-4086-a651-081dd1f774a7"
      },
      "execution_count": null,
      "outputs": [
        {
          "output_type": "stream",
          "name": "stdout",
          "text": [
            "['대한항공', 'KE607', '12A', '김민준', 42, 23, 5280]\n",
            "['제주항공', '7C101', '15F', '박지민', 35, 15, 720]\n",
            "['진에어', 'LJ211', '4D', '최서우미래한별', 51, 27, 8900]\n",
            "['티웨이', 'TW305', '19E', '강민석', 38, 20, 2760]\n",
            "['에어서울', 'RS808', '3C', '윤지현', 47, 16, 4320]\n",
            "['대한항공', 'KE123', '7F', '송', 33, 21, 6780]\n",
            "['제주항공', '7C505', '17B', '황수진', 40, 14, 940]\n"
          ]
        }
      ]
    },
    {
      "cell_type": "code",
      "source": [
        "# list 변환하는 것은 하나씩 순회를 돌며 메모리에 적제하기 떄문에 아래와 같은 경우.\n",
        "# map (함수, itrable)\n",
        "def f(x):\n",
        "    return x ** 2\n",
        "\n",
        "list(map(f, [1, 2, 3, 4]))"
      ],
      "metadata": {
        "colab": {
          "base_uri": "https://localhost:8080/"
        },
        "id": "iCB9ByraGP5L",
        "outputId": "b1f7fc18-c27c-435f-8f2d-9e8b2b508db2"
      },
      "execution_count": null,
      "outputs": [
        {
          "output_type": "execute_result",
          "data": {
            "text/plain": [
              "[1, 4, 9, 16]"
            ]
          },
          "metadata": {},
          "execution_count": 22
        }
      ]
    },
    {
      "cell_type": "code",
      "source": [
        "# 항공사, 편명, 좌석번호, 이름, 나이, 짐무게(kg), 마일리지\n",
        "data = [\n",
        "    ['대한항공', 'KE607', '12A', '김민준', 42, 23, 5280],\n",
        "    ['아시아나', 'OZ721', '8C', '이', 29, 18, 3450],\n",
        "    ['제주항공', '7C101', '15F', '박지민', 35, 15, 720],\n",
        "    ['진에어', 'LJ211', '4D', '최서우미래한별', 51, 27, 8900],\n",
        "    ['에어부산', 'BX213', '21B', '정', 24, 12, 1250],\n",
        "    ['티웨이', 'TW305', '19E', '강민석', 38, 20, 2760],\n",
        "    ['에어서울', 'RS808', '3C', '윤지현', 47, 16, 4320],\n",
        "    ['대한항공', 'KE123', '7F', '송', 33, 21, 6780],\n",
        "    ['아시아나', 'OZ562', '11D', '장하은별님달빛', 26, 19, 1890],\n",
        "    ['제주항공', '7C505', '17B', '황수진', 40, 14, 940]\n",
        "]\n",
        "\n",
        "# filter와 동일한 함수를 썼을 경우\n",
        "def f(x):\n",
        "    return x[4] >= 30\n",
        "\n",
        "list(map(f, data)) # [True, False, True, True, False, True, True, True, False, True]"
      ],
      "metadata": {
        "colab": {
          "base_uri": "https://localhost:8080/"
        },
        "id": "LS7FJWK6HWnm",
        "outputId": "24eecfea-3e3b-41aa-e923-0bb62a28ea2a"
      },
      "execution_count": null,
      "outputs": [
        {
          "output_type": "execute_result",
          "data": {
            "text/plain": [
              "[True, False, True, True, False, True, True, True, False, True]"
            ]
          },
          "metadata": {},
          "execution_count": 23
        }
      ]
    },
    {
      "cell_type": "code",
      "source": [
        "# 항공사, 편명, 좌석번호, 이름, 나이, 짐무게(kg), 마일리지\n",
        "data = [\n",
        "    ['대한항공', 'KE607', '12A', '김민준', 42, 23, 5280],\n",
        "    ['아시아나', 'OZ721', '8C', '이', 29, 18, 3450],\n",
        "    ['제주항공', '7C101', '15F', '박지민', 35, 15, 720],\n",
        "    ['진에어', 'LJ211', '4D', '최서우미래한별', 51, 27, 8900],\n",
        "    ['에어부산', 'BX213', '21B', '정', 24, 12, 1250],\n",
        "    ['티웨이', 'TW305', '19E', '강민석', 38, 20, 2760],\n",
        "    ['에어서울', 'RS808', '3C', '윤지현', 47, 16, 4320],\n",
        "    ['대한항공', 'KE123', '7F', '송', 33, 21, 6780],\n",
        "    ['아시아나', 'OZ562', '11D', '장하은별님달빛', 26, 19, 1890],\n",
        "    ['제주항공', '7C505', '17B', '황수진', 40, 14, 940]\n",
        "]\n",
        "\n",
        "# 새로운 리스트를 만들 값을 return 해줬을 때\n",
        "def f(x):\n",
        "    return x[4]\n",
        "\n",
        "list(map(f, data)) # [42, 29, 35, 51, 24, 38, 47, 33, 26, 40]"
      ],
      "metadata": {
        "colab": {
          "base_uri": "https://localhost:8080/"
        },
        "id": "ahlKYGOywbU1",
        "outputId": "11b08ca4-deae-46d7-a752-da94ed2916cb"
      },
      "execution_count": null,
      "outputs": [
        {
          "output_type": "execute_result",
          "data": {
            "text/plain": [
              "[42, 29, 35, 51, 24, 38, 47, 33, 26, 40]"
            ]
          },
          "metadata": {},
          "execution_count": 9
        }
      ]
    },
    {
      "cell_type": "code",
      "source": [
        "# 항공사, 편명, 좌석번호, 이름, 나이, 짐무게(kg), 마일리지\n",
        "data = [\n",
        "    ['대한항공', 'KE607', '12A', '김민준', 42, 23, 5280],\n",
        "    ['아시아나', 'OZ721', '8C', '이', 29, 18, 3450],\n",
        "    ['제주항공', '7C101', '15F', '박지민', 35, 15, 720],\n",
        "    ['진에어', 'LJ211', '4D', '최서우미래한별', 51, 27, 8900],\n",
        "    ['에어부산', 'BX213', '21B', '정', 24, 12, 1250],\n",
        "    ['티웨이', 'TW305', '19E', '강민석', 38, 20, 2760],\n",
        "    ['에어서울', 'RS808', '3C', '윤지현', 47, 16, 4320],\n",
        "    ['대한항공', 'KE123', '7F', '송', 33, 21, 6780],\n",
        "    ['아시아나', 'OZ562', '11D', '장하은별님달빛', 26, 19, 1890],\n",
        "    ['제주항공', '7C505', '17B', '황수진', 40, 14, 940]\n",
        "]\n",
        "\n",
        "# 새로운 리스트를 만들 값을 return 해줬을 때\n",
        "def f(x):\n",
        "    return 1\n",
        "\n",
        "list(map(f, data)) # [1, 1, 1, 1, ...]"
      ],
      "metadata": {
        "id": "7NMczO067gBj"
      },
      "execution_count": null,
      "outputs": []
    },
    {
      "cell_type": "code",
      "source": [
        "# 항공사, 편명, 좌석번호, 이름, 나이, 짐무게(kg), 마일리지\n",
        "data = [\n",
        "    ['대한항공', 'KE607', '12A', '김민준', 42, 23, 5280],\n",
        "    ['아시아나', 'OZ721', '8C', '이', 29, 18, 3450],\n",
        "    ['제주항공', '7C101', '15F', '박지민', 35, 15, 720],\n",
        "    ['진에어', 'LJ211', '4D', '최서우미래한별', 51, 27, 8900],\n",
        "    ['에어부산', 'BX213', '21B', '정', 24, 12, 1250],\n",
        "    ['티웨이', 'TW305', '19E', '강민석', 38, 20, 2760],\n",
        "    ['에어서울', 'RS808', '3C', '윤지현', 47, 16, 4320],\n",
        "    ['대한항공', 'KE123', '7F', '송', 33, 21, 6780],\n",
        "    ['아시아나', 'OZ562', '11D', '장하은별님달빛', 26, 19, 1890],\n",
        "    ['제주항공', '7C505', '17B', '황수진', 40, 14, 940]\n",
        "]\n",
        "\n",
        "# 문제: 편명과 이름으로 된 새로운 리스트를 만들어주세요.\n",
        "# [['KE607', '김민준'] ...] 이런식으로 나와야 합니다.\n",
        "def f(x):\n",
        "    return [x[1], x[3]]\n",
        "\n",
        "list(map(f, data)) # [['KE607', '김민준'], ... ]"
      ],
      "metadata": {
        "colab": {
          "base_uri": "https://localhost:8080/"
        },
        "id": "cjzNvFeLIx-5",
        "outputId": "0bb15042-029e-4549-e7e0-7e1bf88007ce"
      },
      "execution_count": null,
      "outputs": [
        {
          "output_type": "execute_result",
          "data": {
            "text/plain": [
              "[['KE607', '김민준'],\n",
              " ['OZ721', '이'],\n",
              " ['7C101', '박지민'],\n",
              " ['LJ211', '최서우미래한별'],\n",
              " ['BX213', '정'],\n",
              " ['TW305', '강민석'],\n",
              " ['RS808', '윤지현'],\n",
              " ['KE123', '송'],\n",
              " ['OZ562', '장하은별님달빛'],\n",
              " ['7C505', '황수진']]"
            ]
          },
          "metadata": {},
          "execution_count": 30
        }
      ]
    },
    {
      "cell_type": "code",
      "source": [
        "# map은 어떤 데이터를 '추출' 할 때 많이 사용한다.\n",
        "# pront-end는 입사문제로  map을 자주 출제 한다"
      ],
      "metadata": {
        "id": "W1Iy9euqH3D8"
      },
      "execution_count": null,
      "outputs": []
    },
    {
      "cell_type": "code",
      "source": [
        "# 30살 이상인 사람들의 나이 합을 구해주세요\n",
        "# 30살 이상인 사람들 filter 해서 나이를 더한 다음 필터링한 사람들의 len 만큼 나눠주면 되겠다\n",
        "\n",
        "# 방법 1: 나이만 map 해서 뽑고 filter로 30살 이상인 사람 추출 해서 sum.len\n",
        "# 방법 2. filter 로 30살 이상인 사람 추출한 다음 map으로 나이만 뽑고 sum/len\n",
        "# 방법1\n",
        "# 일부러 f, ff 이런식으로 함수명을 작성하고 있는데\n",
        "# 실무에서는 실제 기능에 맞춰 함수명을 작성합니다.\n",
        "# 함수명을 작성하는 것부터가 큰 스트레스입니다.\n",
        "# ChatGPT로 많이 하기 때문에 요즘에는 스트레스까진 아닙니다.\n",
        "# def f(x):\n",
        "#     return x[4]\n",
        "\n",
        "# def ff(x):\n",
        "#     return x >= 30\n",
        "\n",
        "# sum(filter(ff, map(f, data)))\n",
        "\n",
        "# 방법2\n",
        "def f(x):\n",
        "    return x[4] >= 30\n",
        "\n",
        "def ff(x):\n",
        "    return x[4]\n",
        "\n",
        "sum(map(ff, filter(f, data)))"
      ],
      "metadata": {
        "id": "oK-Ag0QTKZ4k",
        "colab": {
          "base_uri": "https://localhost:8080/"
        },
        "outputId": "5c3bb88a-528c-4c56-cbc2-7df5974dc78f"
      },
      "execution_count": null,
      "outputs": [
        {
          "output_type": "execute_result",
          "data": {
            "text/plain": [
              "286"
            ]
          },
          "metadata": {},
          "execution_count": 17
        }
      ]
    },
    {
      "cell_type": "code",
      "source": [
        "# 문제 1: 짐무게가 20kg 이상인 승객들의 마일리지 평균을 구해주세요!\n",
        "# 문제 2: 아시아나 항공을 이용하는 40세 미만 승객들의 이름 길이 합을 구해주세요!\n",
        "# 항공사, 편명, 좌석번호, 이름, 나이, 짐무게(kg), 마일리지\n",
        "data = [\n",
        "    ['대한항공', 'KE607', '12A', '김민준', 42, 23, 5280],\n",
        "    ['아시아나', 'OZ721', '8C', '이', 29, 18, 3450],\n",
        "    ['제주항공', '7C101', '15F', '박지민', 35, 15, 720],\n",
        "    ['진에어', 'LJ211', '4D', '최서우미래한별', 51, 27, 8900],\n",
        "    ['에어부산', 'BX213', '21B', '정', 24, 12, 1250],\n",
        "    ['티웨이', 'TW305', '19E', '강민석', 38, 20, 2760],\n",
        "    ['에어서울', 'RS808', '3C', '윤지현', 47, 16, 4320],\n",
        "    ['대한항공', 'KE123', '7F', '송', 33, 21, 6780],\n",
        "    ['아시아나', 'OZ562', '11D', '장하은별님달빛', 26, 19, 1890],\n",
        "    ['제주항공', '7C505', '17B', '황수진', 40, 14, 940]\n",
        "]\n",
        "# 문제 1: 짐무게가 20kg 이상인 승객들의 마일리지 평균을 구해주세요!\n",
        "# 항공사, 편명, 좌석번호, 이름, 나이, 짐무게(kg), 마일리지\n",
        "data = [\n",
        "    ['대한항공', 'KE607', '12A', '김민준', 42, 23, 5280],\n",
        "    ['아시아나', 'OZ721', '8C', '이', 29, 18, 3450],\n",
        "    ['제주항공', '7C101', '15F', '박지민', 35, 15, 720],\n",
        "    ['진에어', 'LJ211', '4D', '최서우미래한별', 51, 27, 8900],\n",
        "    ['에어부산', 'BX213', '21B', '정', 24, 12, 1250],\n",
        "    ['티웨이', 'TW305', '19E', '강민석', 38, 20, 2760],\n",
        "    ['에어서울', 'RS808', '3C', '윤지현', 47, 16, 4320],\n",
        "    ['대한항공', 'KE123', '7F', '송', 33, 21, 6780],\n",
        "    ['아시아나', 'OZ562', '11D', '장하은별님달빛', 26, 19, 1890],\n",
        "    ['제주항공', '7C505', '17B', '황수진', 40, 14, 940]\n",
        "]\n",
        "\n",
        "# 방법1\n",
        "def f(x):\n",
        "    return x[-2] >= 20\n",
        "\n",
        "def ff(x):\n",
        "    return x[-1]\n",
        "\n",
        "filtering_data = list(map(ff, filter(f, data))) # list 변환했어? 메모리 효율이 안좋은데...\n",
        "sum(filtering_data) / len(filtering_data) # sum을 했어? 한 번 더 순회를 돌아야 하네...\n",
        "\n",
        "# 방법2\n",
        "def f(x):\n",
        "    return x[-2] >= 20\n",
        "\n",
        "def ff(x):\n",
        "    return x[-1]\n",
        "\n",
        "count = 0\n",
        "sum_result = 0\n",
        "for i in map(ff, filter(f, data)): # 2번 순회를 돌아야 하는 것을 1번만 순회돈 것입니다.\n",
        "    count += 1\n",
        "    sum_result += i\n",
        "\n",
        "sum_result / count"
      ],
      "metadata": {
        "colab": {
          "base_uri": "https://localhost:8080/"
        },
        "id": "cBeA7j6l8MPp",
        "outputId": "ae64e9f7-223a-4f6e-9876-5819de873621"
      },
      "execution_count": null,
      "outputs": [
        {
          "output_type": "execute_result",
          "data": {
            "text/plain": [
              "5930.0"
            ]
          },
          "metadata": {},
          "execution_count": 11
        }
      ]
    },
    {
      "cell_type": "code",
      "source": [
        "# 문제 1: 짐무게가 20kg 이상인 승객들의 마일리지 평균을 구해주세요!\n",
        "# 항공사, 편명, 좌석번호, 이름, 나이, 짐무게(kg), 마일리지\n",
        "data = [\n",
        "    ['대한항공', 'KE607', '12A', '김민준', 42, 23, 5280],\n",
        "    ['아시아나', 'OZ721', '8C', '이', 29, 18, 3450],\n",
        "    ['제주항공', '7C101', '15F', '박지민', 35, 15, 720],\n",
        "    ['진에어', 'LJ211', '4D', '최서우미래한별', 51, 27, 8900],\n",
        "    ['에어부산', 'BX213', '21B', '정', 24, 12, 1250],\n",
        "    ['티웨이', 'TW305', '19E', '강민석', 38, 20, 2760],\n",
        "    ['에어서울', 'RS808', '3C', '윤지현', 47, 16, 4320],\n",
        "    ['대한항공', 'KE123', '7F', '송', 33, 21, 6780],\n",
        "    ['아시아나', 'OZ562', '11D', '장하은별님달빛', 26, 19, 1890],\n",
        "    ['제주항공', '7C505', '17B', '황수진', 40, 14, 940]\n",
        "]\n",
        "\n",
        "# 방법1\n",
        "def f(x):\n",
        "    return x[-2] >= 20\n",
        "\n",
        "def ff(x):\n",
        "    return x[-1] # [-1]마지막 마일리지만 출력\n",
        "\n",
        "filtering_data = list(map(ff, filter(f, data))) # list 변환했어? 메모리 효율이 안좋은데...\n",
        "sum(filtering_data) / len(filtering_data) # sum을 했어? 한 번 더 순회를 돌아야 하네...\n",
        " # 효율적으로 좋지않은 코드\n",
        "\n",
        "# 방법2\n",
        "def f(x):\n",
        "    return x[-2] >= 20\n",
        "\n",
        "def ff(x):\n",
        "    return x[-1]\n",
        "\n",
        "count = 0\n",
        "sum_result = 0\n",
        "for i in map(ff, filter(f, data)): # 2번 순회를 돌아야 하는 것을 1번만 순회돈 것입니다.\n",
        "    count += 1\n",
        "    sum_result += i\n",
        "\n",
        "sum_result / count\n",
        "\n",
        "# 문제 2: 아시아나 항공을 이용하는 40세 미만 승객들의 이름 길이 합을 구해주세요!\n",
        "def f(x):\n",
        "    return x[0] == '아시아나' and x[4] < 40\n",
        "\n",
        "def ff(x):\n",
        "    return x[3]\n",
        "\n",
        "len(''.join(map(ff, filter(f, data))))"
      ],
      "metadata": {
        "colab": {
          "base_uri": "https://localhost:8080/"
        },
        "id": "zG0mQqT48hnF",
        "outputId": "5a6146d4-9b69-48dd-cbbf-b6a2fe7cd51d"
      },
      "execution_count": null,
      "outputs": [
        {
          "output_type": "execute_result",
          "data": {
            "text/plain": [
              "8"
            ]
          },
          "metadata": {},
          "execution_count": 18
        }
      ]
    },
    {
      "cell_type": "code",
      "source": [
        "a = [10, 20, 30]\n",
        "b = (100, 200)\n",
        "c = 'hello world'\n",
        "\n",
        "list(zip(a, b, c))\n",
        "\n",
        "# zip 은 묶어주는것, 한번밖에 순회를 돌 수 없다(★)\n",
        "# 해당 변수에서 다시 순화를 돌 수 있도록 초기화를 해줘야 하는데\n",
        "# 초기화를 해주지 않는 함수이다"
      ],
      "metadata": {
        "colab": {
          "base_uri": "https://localhost:8080/"
        },
        "id": "XCRQQ2yJbhJr",
        "outputId": "c733745f-d908-4b30-bf93-3b127146b5b8"
      },
      "execution_count": null,
      "outputs": [
        {
          "output_type": "execute_result",
          "data": {
            "text/plain": [
              "[(10, 100, 'h'), (20, 200, 'e')]"
            ]
          },
          "metadata": {},
          "execution_count": 2
        }
      ]
    },
    {
      "cell_type": "code",
      "source": [
        "iter\n",
        "next\n",
        "\n",
        "s = 'hello'\n",
        "ss = iter(s)\n",
        "next(ss)"
      ],
      "metadata": {
        "colab": {
          "base_uri": "https://localhost:8080/",
          "height": 35
        },
        "id": "3wHKG7N6bpWa",
        "outputId": "3626cedc-4d6e-467a-fc89-7cc453e8c54b"
      },
      "execution_count": null,
      "outputs": [
        {
          "output_type": "execute_result",
          "data": {
            "text/plain": [
              "'h'"
            ],
            "application/vnd.google.colaboratory.intrinsic+json": {
              "type": "string"
            }
          },
          "metadata": {},
          "execution_count": 19
        }
      ]
    },
    {
      "cell_type": "code",
      "source": [
        "# for문을 실핼시켜서 iter을 무조건 실행시킨다"
      ],
      "metadata": {
        "id": "VAGD4YEtJNy1"
      },
      "execution_count": null,
      "outputs": []
    },
    {
      "cell_type": "code",
      "source": [
        "iter\n",
        "next\n",
        "\n",
        "for i in range(10):\n",
        "    print(i)\n",
        "\n",
        "s = 'hello'\n",
        "ss = iter(s) # 나는 이제 값을 순차적으로 꺼낼테니까 꺼낼 준비를 해줘!\n",
        "next(ss) # 다음 값을 꺼내줘!"
      ],
      "metadata": {
        "id": "9fziyCp_bsos"
      },
      "execution_count": null,
      "outputs": []
    },
    {
      "cell_type": "code",
      "source": [
        "# 절대 실행하지 마세요!!\n",
        "# 브라우저가 멈춥니다!\n",
        "# 언제 for를 사용하고 언제 while을 사용하나요?\n",
        "# for는 객체를 순회할 때\n",
        "# while 정해진 수만큼 순회를 하거나, 문한 반복을 할 때\n",
        "\n",
        "# result = [1, 2, 3]\n",
        "\n",
        "# for i in result:\n",
        "#     print(i)\n",
        "#     result.append(i + 1)"
      ],
      "metadata": {
        "id": "sa6Cry41by51"
      },
      "execution_count": null,
      "outputs": []
    },
    {
      "cell_type": "markdown",
      "source": [
        "# 반복문 (while)\n"
      ],
      "metadata": {
        "id": "zdK_c694LFje"
      }
    },
    {
      "cell_type": "code",
      "source": [
        "# 언제 for를 사용하고 언제 while를 사용하는가?\n",
        "# for는 객체를 순회할 떄\n",
        "# while 정해진 수만큼 순회를 하거나 무한 반복할때\n",
        "\n",
        "# result = [1, 2, 3]\n",
        "\n",
        "# for i in result:\n",
        "# print(i)\n",
        "# result.append(i + 1)\n",
        "\n",
        "## 절대 실행하지 말것!!!!\n",
        "# 브라우저가 멈춤!!"
      ],
      "metadata": {
        "id": "F9U937CHLLOL"
      },
      "execution_count": null,
      "outputs": []
    },
    {
      "cell_type": "code",
      "source": [
        "x = 0\n",
        "\n",
        "while x < 10:\n",
        "    print(x)\n",
        "    x += 1 # 종료할 수 있는 연산"
      ],
      "metadata": {
        "id": "TU5YZs-9bzkL"
      },
      "execution_count": null,
      "outputs": []
    },
    {
      "cell_type": "code",
      "source": [
        "# 좋지 않은 코드\n",
        "x = 0\n",
        "result = 0\n",
        "\n",
        "while x < 11:\n",
        "    if x % 2 == 0:\n",
        "        result += x\n",
        "    x += 1 # 종료할 수 있는 연산\n",
        "\n",
        "result"
      ],
      "metadata": {
        "id": "J9t21mIbb1Nu"
      },
      "execution_count": null,
      "outputs": []
    },
    {
      "cell_type": "code",
      "source": [
        "# 위의 코드보다 좋은 코드\n",
        "x = 0\n",
        "result = 0\n",
        "\n",
        "while x < 11:\n",
        "    result += x\n",
        "    x += 2 # 종료할 수 있는 연산\n",
        "\n",
        "result"
      ],
      "metadata": {
        "id": "qhpnZS3lb4Vs"
      },
      "execution_count": null,
      "outputs": []
    },
    {
      "cell_type": "code",
      "source": [
        "# 주의해야 할 점1\n",
        "i = 2\n",
        "j = 1\n",
        "\n",
        "while i < 10:\n",
        "    while j < 10:\n",
        "        print(i, j, i*j)\n",
        "        j += 1\n",
        "    i += 1"
      ],
      "metadata": {
        "id": "DtTdH-87b5mc"
      },
      "execution_count": null,
      "outputs": []
    },
    {
      "cell_type": "code",
      "source": [
        "# 주의해야 할 점2\n",
        "i = 2\n",
        "j = 1\n",
        "\n",
        "while i < 10:\n",
        "    while j < 10:\n",
        "        print(i, j, i*j)\n",
        "        j += 1\n",
        "    i += 1\n",
        "    j = 1"
      ],
      "metadata": {
        "id": "Ad_iiKwQ9D9s"
      },
      "execution_count": null,
      "outputs": []
    },
    {
      "cell_type": "code",
      "source": [
        "day = '토'\n",
        "\n",
        "match day:\n",
        "    case \"월\" | \"화\" | \"수\" | \"목\" | \"금\":\n",
        "        print(\"평일\")\n",
        "    case \"토\" | \"일\":\n",
        "        print(\"주말\")\n",
        "    case _:\n",
        "        print(\"올바른 요일을 입력하세요\")"
      ],
      "metadata": {
        "id": "krRKSoVqcAHf",
        "colab": {
          "base_uri": "https://localhost:8080/"
        },
        "outputId": "e056889d-9a45-4064-92ae-de0e8780e69b"
      },
      "execution_count": null,
      "outputs": [
        {
          "output_type": "stream",
          "name": "stdout",
          "text": [
            "주말\n"
          ]
        }
      ]
    },
    {
      "cell_type": "code",
      "source": [],
      "metadata": {
        "id": "JWSVYPpX9dxy"
      },
      "execution_count": null,
      "outputs": []
    },
    {
      "cell_type": "code",
      "source": [
        "# 이전에는 어떻게 사용했는가?(중요함)\n",
        "\n",
        "day = '토'\n",
        "\n",
        "match day:\n",
        "    case \"월\" | \"화\" | \"수\" | \"목\" | \"금\":\n",
        "        print(\"평일\")\n",
        "    case \"토\" | \"일\":\n",
        "        print(\"주말\")\n",
        "    case _:\n",
        "        print(\"올바른 요일을 입력하세요\")"
      ],
      "metadata": {
        "id": "eHlGZGREcCH-",
        "colab": {
          "base_uri": "https://localhost:8080/"
        },
        "outputId": "e6e5f85a-734b-48aa-e187-1acfd5d2203d"
      },
      "execution_count": null,
      "outputs": [
        {
          "output_type": "stream",
          "name": "stdout",
          "text": [
            "주말\n"
          ]
        }
      ]
    },
    {
      "cell_type": "code",
      "source": [
        "# 이전에는 어떻게 사용했는가? (★★★★★)\n",
        "\n",
        "today = '토'\n",
        "\n",
        "day = {\n",
        "    '월': '평일',\n",
        "    '화': '평일',\n",
        "    '수': '평일',\n",
        "    '목': '평일',\n",
        "    '금': '평일',\n",
        "    '토': '주말',\n",
        "    '일': '주말',\n",
        "}\n",
        "\n",
        "day.get(today, '제대로 입력하세요!')"
      ],
      "metadata": {
        "id": "HTD1ytsj9fse"
      },
      "execution_count": null,
      "outputs": []
    },
    {
      "cell_type": "code",
      "source": [
        "https://weniv.github.io/game-with-phaser/"
      ],
      "metadata": {
        "id": "Z9jV-4LL9o48"
      },
      "execution_count": null,
      "outputs": []
    },
    {
      "cell_type": "code",
      "source": [
        "# 클래스는 설계 도면\n",
        "# 클래스 내의 변수 - 멤버 또는 애트리뷰트\n",
        "# 클래스 내의 함수 - 메서드\n",
        "\n",
        "# 자동차!\n",
        "# 데이터(멤버, 애트리뷰트) # 클래스 내 변수로 선언됩니다. 이것을 멤버 또는 애트리뷰트라고 합니다.\n",
        "#   * 클래스로 만들어진 자동차에 수\n",
        "#   * 최대 속도\n",
        "#   * 최대 탑승객\n",
        "\n",
        "# 기능(메서드) # 클래스 내 함수로 선언됩니다. 이것을 메서드라고 합니다.\n",
        "#   * 출발\n",
        "#   * 정지"
      ],
      "metadata": {
        "id": "liJxDLZOcC6o"
      },
      "execution_count": null,
      "outputs": []
    },
    {
      "cell_type": "code",
      "source": [
        "class Car:\n",
        "    max_speed = 300\n",
        "    max_people = 5\n",
        "\n",
        "    def start():\n",
        "        pass\n",
        "\n",
        "    def stop():\n",
        "        pass"
      ],
      "metadata": {
        "id": "_v5tcMzJcTyI"
      },
      "execution_count": null,
      "outputs": []
    },
    {
      "cell_type": "code",
      "source": [
        "class Car:\n",
        "    max_speed = 300\n",
        "    max_people = 5\n",
        "\n",
        "    def start(self):\n",
        "        print('출발!')\n",
        "\n",
        "    def stop(self):\n",
        "        print('정지!')\n",
        "\n",
        "car1 = Car()\n",
        "car2 = Car()"
      ],
      "metadata": {
        "id": "Ou0nKRIAcVjn"
      },
      "execution_count": null,
      "outputs": []
    },
    {
      "cell_type": "code",
      "source": [
        "# car1은 Car의 인스턴스입니다!\n",
        "value = 10\n",
        "# value는 int의 인스턴스입니다!\n",
        "value = 10.0\n",
        "# value는 float의 인스턴스입니다!\n",
        "value = [10, 20, 30]\n",
        "# value는 list의 인스턴스입니다!\n",
        "value = (10, 20, 30)\n",
        "# value는 tuple의 인스턴스입니다!"
      ],
      "metadata": {
        "id": "_eNQsVdxcYBU"
      },
      "execution_count": null,
      "outputs": []
    },
    {
      "cell_type": "code",
      "source": [],
      "metadata": {
        "id": "O0j_x0fLcaFy"
      },
      "execution_count": null,
      "outputs": []
    }
  ]
}