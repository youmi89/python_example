{
  "cells": [
    {
      "cell_type": "code",
      "execution_count": 3,
      "metadata": {
        "trusted": true
      },
      "outputs": [
        {
          "ename": "TypeError",
          "evalue": "Assignment to constant variable.",
          "output_type": "error",
          "traceback": [
            "TypeError: Assignment to constant variable.\n    at eval (eval at execute (https://jupyter.weniv.co.kr/extensions/@jupyterlite/javascript-kernel-extension/static/584.7e49152bd31ca0f8291b.js?v=7e49152bd31ca0f8291b:2:13351), <anonymous>:10:3)\n    at eval (<anonymous>)\n    at Object.execute (https://jupyter.weniv.co.kr/extensions/@jupyterlite/javascript-kernel-extension/static/584.7e49152bd31ca0f8291b.js?v=7e49152bd31ca0f8291b:2:13351)\n    at o (https://jupyter.weniv.co.kr/extensions/@jupyterlite/javascript-kernel-extension/static/584.7e49152bd31ca0f8291b.js?v=7e49152bd31ca0f8291b:2:10215)"
          ]
        }
      ],
      "source": [
        "// 아래 코드는 변수 x에 10을 넣는 코드입니다.\n",
        "// 변수(변하는 수)는 let을 사용하고\n",
        "// 상수(변하지 않는 수)는 const를 사용합니다.\n",
        "// 위 키워드는 선언할 때에만 사용합니다.\n",
        "\n",
        "let x = 10\n",
        "const y = 100\n",
        "\n",
        "x = 100\n",
        "// y = 200 // error!! 상수는 변경할 수 없습니다."
      ]
    },
    {
      "cell_type": "code",
      "execution_count": 4,
      "metadata": {
        "trusted": true
      },
      "outputs": [
        {
          "data": {
            "text/plain": [
              "10"
            ]
          },
          "execution_count": 3,
          "metadata": {},
          "output_type": "execute_result"
        }
      ],
      "source": [
        "// var라는 키워드도 자주 봤는데요!?\n",
        "// var는 이제는 거의 쓰지 않습니다.\n",
        "// 전역변수 선언할 때 사용하는데 var를 사용했을 때 문제가 많기 때문에\n",
        "// let과 const가 나온겁니다!\n",
        "\n",
        "var x = 10\n",
        "var y = 20\n",
        "\n",
        "x"
      ]
    },
    {
      "cell_type": "code",
      "execution_count": 5,
      "metadata": {
        "trusted": true
      },
      "outputs": [
        {
          "name": "stdout",
          "output_type": "stream",
          "text": [
            "30 Jun\n"
          ]
        },
        {
          "data": {},
          "execution_count": 4,
          "metadata": {},
          "output_type": "execute_result"
        }
      ],
      "source": [
        "// 앞서 python 에서는 print를 사용했지만\n",
        "// javascript에서는 console.log()를 사용합니다.\n",
        "\n",
        "let age = 30 // 나이 변수\n",
        "let name = 'Jun' // 이름 변수\n",
        "console.log(age, name) // 결과 값은 30 Jun입니다."
      ]
    },
    {
      "cell_type": "code",
      "execution_count": 6,
      "metadata": {
        "trusted": true
      },
      "outputs": [
        {
          "name": "stdout",
          "output_type": "stream",
          "text": [
            "나이는 30 이고, 이름은 Jun이야!\n"
          ]
        },
        {
          "data": {},
          "execution_count": 5,
          "metadata": {},
          "output_type": "execute_result"
        }
      ],
      "source": [
        "// python의 f-string\n",
        "// 앞서 python 에서는 f'{변수} 문자!'을 사용했지만\n",
        "\n",
        "// javascript의 template literals\n",
        "// javascript에서는 `${변수} 문자!`의 형태로 사용합니다.\n",
        "\n",
        "let age = 30 // 나이 변수\n",
        "let name = 'Jun' // 이름 변수\n",
        "console.log(`나이는 ${age} 이고, 이름은 ${name}이야!`)"
      ]
    },
    {
      "cell_type": "code",
      "execution_count": 7,
      "metadata": {
        "trusted": true
      },
      "outputs": [
        {
          "data": {},
          "execution_count": 6,
          "metadata": {},
          "output_type": "execute_result"
        }
      ],
      "source": [
        "// JavaScript는 뒤에 세미콜론을 붙여야 합니다.\n",
        "// 그런데 붙이지 않으셔도 세미콜론이 자동으로 붙어요!\n",
        "// 다만 세미콜론을 붙이지 않았을 경우 의도치 않은 애러가 발생할 수도 있습니다.\n",
        "// 보통은 직접 붙여주는 것이 관례이지만, 회사마다 이를 자동으로 해주는 SW가 있습니다.\n",
        "// 다만 우리 수업은 Python이 주 언어이고, \n",
        "// 혼란을 드리지 않기 위해 교육할 때만 세미콜론을 생략하겠습니다."
      ]
    },
    {
      "cell_type": "code",
      "execution_count": 8,
      "metadata": {
        "trusted": true
      },
      "outputs": [
        {
          "data": {
            "text/plain": [
              "30"
            ]
          },
          "execution_count": 7,
          "metadata": {},
          "output_type": "execute_result"
        }
      ],
      "source": [
        "/*\n",
        "이 코드는 사용자의 나이와 이름을 저장합니다.\n",
        "변수 age는 사용자의 나이를 저장하고,\n",
        "변수 name은 사용자의 이름을 저장합니다.\n",
        "*/\n",
        "let age = 30\n",
        "let name = 'Jun'\n",
        "\n",
        "age"
      ]
    },
    {
      "cell_type": "code",
      "execution_count": 11,
      "metadata": {
        "trusted": true
      },
      "outputs": [
        {
          "ename": "ReferenceError",
          "evalue": "xxx is not defined",
          "output_type": "error",
          "traceback": [
            "ReferenceError: xxx is not defined\n    at eval (eval at execute (https://jupyter.weniv.co.kr/extensions/@jupyterlite/javascript-kernel-extension/static/584.7e49152bd31ca0f8291b.js?v=7e49152bd31ca0f8291b:2:13351), <anonymous>:8:1)\n    at eval (<anonymous>)\n    at Object.execute (https://jupyter.weniv.co.kr/extensions/@jupyterlite/javascript-kernel-extension/static/584.7e49152bd31ca0f8291b.js?v=7e49152bd31ca0f8291b:2:13351)\n    at o (https://jupyter.weniv.co.kr/extensions/@jupyterlite/javascript-kernel-extension/static/584.7e49152bd31ca0f8291b.js?v=7e49152bd31ca0f8291b:2:10215)"
          ]
        }
      ],
      "source": [
        "// var와 let과 const에 간단한 차이\n",
        "\n",
        "if (true){\n",
        "    let xx = 100\n",
        "    const xxx = 100\n",
        "}\n",
        "\n",
        "xxx"
      ]
    },
    {
      "cell_type": "code",
      "execution_count": 12,
      "metadata": {
        "trusted": true
      },
      "outputs": [
        {
          "data": {
            "text/plain": [
              "100"
            ]
          },
          "execution_count": 9,
          "metadata": {},
          "output_type": "execute_result"
        }
      ],
      "source": [
        "// var와 let과 const에 간단한 차이\n",
        "\n",
        "if (true){\n",
        "    var xx = 100\n",
        "}\n",
        "\n",
        "xx"
      ]
    },
    {
      "cell_type": "code",
      "execution_count": 15,
      "metadata": {
        "trusted": true
      },
      "outputs": [
        {
          "name": "stdout",
          "output_type": "stream",
          "text": [
            "number\n",
            "string\n",
            "number\n",
            "string\n"
          ]
        },
        {
          "data": {},
          "execution_count": 12,
          "metadata": {},
          "output_type": "execute_result"
        }
      ],
      "source": [
        "let num = 1234\n",
        "let str = 'jeju'\n",
        "console.log(typeof num) // 'number'\n",
        "console.log(typeof str) // 'string'\n",
        "console.log(typeof(num))\n",
        "console.log(typeof(str))"
      ]
    },
    {
      "cell_type": "code",
      "execution_count": 18,
      "metadata": {
        "trusted": true
      },
      "outputs": [
        {
          "name": "stdout",
          "output_type": "stream",
          "text": [
            "object\n",
            "object\n",
            "object\n"
          ]
        },
        {
          "data": {},
          "execution_count": 15,
          "metadata": {},
          "output_type": "execute_result"
        }
      ],
      "source": [
        "// typeof로 정확한 타입을 알아낼 수가 없다!?\n",
        "\n",
        "let a = [1, 2, 3] // array\n",
        "let b = {'one': 100, 'two': 200} // object\n",
        "console.log(typeof a) // 'object'\n",
        "console.log(typeof b) // 'object'\n",
        "console.log(typeof null) // 'object', javascript를 설계하신 분이 설계가 잘못되었다 인정!\n",
        "// 이처럼 깔끔하지 않다!?"
      ]
    },
    {
      "cell_type": "code",
      "execution_count": 19,
      "metadata": {
        "trusted": true
      },
      "outputs": [
        {
          "name": "stdout",
          "output_type": "stream",
          "text": [
            "array\n",
            "object\n",
            "null\n"
          ]
        },
        {
          "data": {},
          "execution_count": 16,
          "metadata": {},
          "output_type": "execute_result"
        }
      ],
      "source": [
        "function typeCheck(value) {\n",
        "    const return_value = Object.prototype.toString.call(value);\n",
        "    const type = return_value.substring(\n",
        "        return_value.indexOf(\" \") + 1,\n",
        "        return_value.indexOf(\"]\")\n",
        "    );\n",
        "    return type.toLowerCase();\n",
        "}\n",
        "\n",
        "let a = [1, 2, 3] // array\n",
        "let b = {'one': 100, 'two': 200} // object\n",
        "let c = null // null\n",
        "\n",
        "console.log(typeCheck(a))\n",
        "console.log(typeCheck(b))\n",
        "console.log(typeCheck(c))"
      ]
    },
    {
      "cell_type": "code",
      "execution_count": 20,
      "metadata": {
        "trusted": true
      },
      "outputs": [
        {
          "data": {},
          "execution_count": 17,
          "metadata": {},
          "output_type": "execute_result"
        }
      ],
      "source": [
        "let age = 25; // Number 타입\n",
        "let name = 'licat'; // String 타입\n",
        "let isStudent = true; // Boolean 타입\n",
        "let value; // undefined 타입 (값이 할당되지 않음)\n",
        "let emptyValue = null; // null 타입 (의도적으로 값이 없음)"
      ]
    },
    {
      "cell_type": "code",
      "execution_count": 21,
      "metadata": {
        "trusted": true
      },
      "outputs": [
        {
          "data": {
            "text/plain": [
              "'function'"
            ]
          },
          "execution_count": 18,
          "metadata": {},
          "output_type": "execute_result"
        }
      ],
      "source": [
        "let person = {\n",
        "  name: 'Bob',\n",
        "  age: 30,\n",
        "}; // Object 타입\n",
        "let numbers = [1, 2, 3, 4, 5]; // Array 타입\n",
        "function greet() {\n",
        "  console.log('Hello, world!');\n",
        "} // Function 타입\n",
        "\n",
        "typeCheck(greet)"
      ]
    },
    {
      "cell_type": "code",
      "execution_count": 33,
      "metadata": {
        "trusted": true
      },
      "outputs": [
        {
          "name": "stdout",
          "output_type": "stream",
          "text": [
            "19\n",
            "check it out 제껴라 제껴라 huh!\n",
            "check it out check it out check it out huh!\n",
            "!!!-!!!!-!!!!\n",
            "010!1234!1234\n",
            "01012341234\n",
            "what's the name? black mamba\n",
            "WATCH ME WHILE I MAKE IT OUT\n",
            "abc\n"
          ]
        },
        {
          "data": {},
          "execution_count": 28,
          "metadata": {},
          "output_type": "execute_result"
        }
      ],
      "source": [
        "// 문자열의 메서드\n",
        "\n",
        "// 1. indexOf\n",
        "let text = 'weniv ceo leehojun hello world hello world'\n",
        "console.log(text.indexOf('hello')) // 첫번째 만나는 hello를 찾습니다!\n",
        "\n",
        "// 2. replace\n",
        "// javascript는 python과 달리 정규표현식을 import와 같은 문법 없이 기본 메서드에서 사용 가능합니다.\n",
        "console.log('제껴라 제껴라 제껴라 huh!'.replace('제껴라', 'check it out'))\n",
        "console.log('제껴라 제껴라 제껴라 huh!'.replace(/제껴라/g, 'check it out'))\n",
        "console.log('010-1234-1234'.replace(/[0-9]/g, '!'))\n",
        "console.log('010-1234-1234'.replace(/[^0-9]/g, '!'))\n",
        "console.log('010-1234-1234'.replace(/[^0-9]/g, ''))\n",
        "\n",
        "// 3. slice\n",
        "// 'hello world'[2:7]\n",
        "// javascript에서는 위와 같은 슬라이싱 문법이 안됩니다. 그래서 .slice라는 메서드를 사용해야 합니다.\n",
        "'hello world'.slice(2, 7)\n",
        "\n",
        "\n",
        "// 4. split\n",
        "'hello world hello world'.split(' ')\n",
        "'hello world hello world'.split('e')\n",
        "\n",
        "// 5. toLowerCase, toUpperCase\n",
        "console.log(\"What's the name? Black mamba\".toLowerCase());\n",
        "console.log('Watch me while I make it out'.toUpperCase());\n",
        "\n",
        "// 6. trim\n",
        "console.log('         abc  '.trim());"
      ]
    },
    {
      "cell_type": "code",
      "execution_count": 34,
      "metadata": {
        "trusted": true
      },
      "outputs": [
        {
          "data": {
            "text/plain": [
              "20"
            ]
          },
          "execution_count": 29,
          "metadata": {},
          "output_type": "execute_result"
        }
      ],
      "source": [
        "// 증감 연산자\n",
        "\n",
        "let x = 10\n",
        "x += 10\n",
        "x"
      ]
    },
    {
      "cell_type": "code",
      "execution_count": 35,
      "metadata": {
        "trusted": true
      },
      "outputs": [
        {
          "data": {
            "text/plain": [
              "11"
            ]
          },
          "execution_count": 30,
          "metadata": {},
          "output_type": "execute_result"
        }
      ],
      "source": [
        "let x = 10\n",
        "x++\n",
        "x"
      ]
    },
    {
      "cell_type": "code",
      "execution_count": 36,
      "metadata": {
        "trusted": true
      },
      "outputs": [
        {
          "data": {
            "text/plain": [
              "11"
            ]
          },
          "execution_count": 31,
          "metadata": {},
          "output_type": "execute_result"
        }
      ],
      "source": [
        "let x = 10\n",
        "++x\n",
        "x"
      ]
    },
    {
      "cell_type": "code",
      "execution_count": null,
      "metadata": {
        "trusted": true
      },
      "outputs": [],
      "source": [
        "// 파이썬과 다르게 1씩 증가 또는 감소를 시켜주는 코드가 있습니다.\n",
        "// 둘 중에 아무거나 사용하셔도 출력하는 곳만 아니면 문제가 발생하지 않습니다.\n",
        "let num = 3;\n",
        "console.log(`증감연산 : ${++num}`); // 4 (num을 먼저 증가시키고 출력)\n",
        "console.log(`증감연산 : ${num++}`); // 4 (출력 후 num을 증가시킴, 결과적으로 num은 5)\n",
        "console.log(`증감연산 : ${--num}`); // 4 (num을 먼저 감소시키고 출력)\n",
        "console.log(`증감연산 : ${num--}`); // 4 (출력 후 num을 감소시킴, 결과적으로 num은 3)"
      ]
    },
    {
      "cell_type": "code",
      "execution_count": null,
      "metadata": {
        "trusted": true
      },
      "outputs": [
        {
          "data": {
            "text/plain": [
              "false"
            ]
          },
          "execution_count": 34,
          "metadata": {},
          "output_type": "execute_result"
        }
      ],
      "source": [
        "let x = 3\n",
        "let y = 10\n",
        "\n",
        "x > y\n",
        "// python하고 전부 동일하지만 아래 2개가 다릅니다.\n",
        "x == y // 등호가 두개인것은 타입을 보지 않는다.\n",
        "x === y // 등호가 두개이상인것은 타입을 본다"
      ]
    },
    {
      "cell_type": "code",
      "execution_count": 41,
      "metadata": {
        "trusted": true
      },
      "outputs": [
        {
          "data": {
            "text/plain": [
              "false"
            ]
          },
          "execution_count": 36,
          "metadata": {},
          "output_type": "execute_result"
        }
      ],
      "source": [
        "let x = 3\n",
        "let y = '3'\n",
        "\n",
        "x == y // python에는 False이지만, javascript에서는 true입니다!\n",
        "x === y // 우리가 원하는 값, python 에서 등호 == 인 값, 타입을 봅니다!\n",
        "// 무엇을 많이 사용하나요?\n",
        "// javascript에서는 ===를 많이 사용합니다."
      ]
    },
    {
      "cell_type": "code",
      "execution_count": 42,
      "metadata": {
        "trusted": true
      },
      "outputs": [
        {
          "data": {
            "text/plain": [
              "true"
            ]
          },
          "execution_count": 37,
          "metadata": {},
          "output_type": "execute_result"
        }
      ],
      "source": [
        "Infinity > 10 // 파이썬에서는 float('inf')로 사용했습니다!"
      ]
    },
    {
      "cell_type": "code",
      "execution_count": 43,
      "metadata": {
        "trusted": true
      },
      "outputs": [
        {
          "data": {
            "text/plain": [
              "NaN"
            ]
          },
          "execution_count": 38,
          "metadata": {},
          "output_type": "execute_result"
        }
      ],
      "source": [
        "'숫자가 아님' / 2 \n",
        "// python에서는 error! 하지만 JS에서는 NaN이라는 것을 반환!"
      ]
    },
    {
      "cell_type": "code",
      "execution_count": 46,
      "metadata": {
        "trusted": true
      },
      "outputs": [
        {
          "data": {
            "text/plain": [
              "12345678901234567891n"
            ]
          },
          "execution_count": 40,
          "metadata": {},
          "output_type": "execute_result"
        }
      ],
      "source": [
        "let a = 12345678901234567890\n",
        "a + 1 // ?? 이상한 숫자가 나오네요? 특정한 숫자 이상은 처리를 할 수가 없습니다!\n",
        "// 대부분의 언어가 언어마다 정의하고 있는 숫자가 넘어가면 처리를 못하게 되어 있습니다.\n",
        "// 이전에는 그래서 큰 숫자는 문자로 처리했습니다.\n",
        "\n",
        "let b = 12345678901234567890n\n",
        "b + 1n"
      ]
    },
    {
      "cell_type": "code",
      "execution_count": 56,
      "metadata": {
        "trusted": true
      },
      "outputs": [
        {
          "data": {
            "text/plain": [
              "NaN"
            ]
          },
          "execution_count": 50,
          "metadata": {},
          "output_type": "execute_result"
        }
      ],
      "source": [
        "// +'10'\n",
        "+'12hello'"
      ]
    },
    {
      "cell_type": "code",
      "execution_count": 54,
      "metadata": {
        "trusted": true
      },
      "outputs": [
        {
          "data": {
            "text/plain": [
              "12"
            ]
          },
          "execution_count": 48,
          "metadata": {},
          "output_type": "execute_result"
        }
      ],
      "source": [
        "// 위 연산은 안전하지 않은 연산입니다!\n",
        "parseInt('10')\n",
        "parseInt('12hello')"
      ]
    },
    {
      "cell_type": "code",
      "execution_count": 57,
      "metadata": {
        "trusted": true
      },
      "outputs": [
        {
          "data": {
            "text/plain": [
              "10.1"
            ]
          },
          "execution_count": 51,
          "metadata": {},
          "output_type": "execute_result"
        }
      ],
      "source": [
        "parseFloat('10.1')"
      ]
    },
    {
      "cell_type": "code",
      "execution_count": 59,
      "metadata": {
        "trusted": true
      },
      "outputs": [
        {
          "data": {
            "text/plain": [
              "10"
            ]
          },
          "execution_count": 53,
          "metadata": {},
          "output_type": "execute_result"
        }
      ],
      "source": [
        "// 이런 문법은 사용하지 마세요.\n",
        "~~10.1"
      ]
    },
    {
      "cell_type": "code",
      "execution_count": 65,
      "metadata": {
        "trusted": true
      },
      "outputs": [
        {
          "data": {
            "text/plain": [
              "'{\"hello\":\"world\"}'"
            ]
          },
          "execution_count": 59,
          "metadata": {},
          "output_type": "execute_result"
        }
      ],
      "source": [
        "let a = 10\n",
        "let b = [1, 2, 3]\n",
        "let c = {'hello':'world'}\n",
        "a.toString()\n",
        "b.toString() // Python 하는 사람들은 여기서부터 마음이 힘들어요.\n",
        "c.toString() // Python 하는 사람들은 여기서부터 마음이 힘들어요.\n",
        "\n",
        "// js를 하시는 분들은 python처럼 string으로 변환하고 싶을 때, JSON이라는 객체를 사용합니다.\n",
        "JSON.stringify(a)\n",
        "JSON.stringify(b)\n",
        "JSON.stringify(c)"
      ]
    },
    {
      "cell_type": "code",
      "execution_count": 69,
      "metadata": {
        "trusted": true
      },
      "outputs": [
        {
          "data": {
            "text/plain": [
              "6"
            ]
          },
          "execution_count": 63,
          "metadata": {},
          "output_type": "execute_result"
        }
      ],
      "source": [
        "Math.PI\n",
        "Math.max(1, 2, 3, 4, 5, 6)\n",
        "// Math.max([1, 2, 3, 4, 5, 6])\n",
        "Math.max(...[1, 2, 3, 4, 5, 6])"
      ]
    },
    {
      "cell_type": "code",
      "execution_count": null,
      "metadata": {
        "trusted": true
      },
      "outputs": [],
      "source": [
        "// JavaScript는 카멜 표기법을 선호합니다. oneTwoThree\n",
        "// python은 대부분 소문자고, 스네이크 표기법을 선호합니다. one_two_three"
      ]
    },
    {
      "cell_type": "code",
      "execution_count": 70,
      "metadata": {
        "trusted": true
      },
      "outputs": [
        {
          "data": {
            "text/plain": [
              "false"
            ]
          },
          "execution_count": 64,
          "metadata": {},
          "output_type": "execute_result"
        }
      ],
      "source": [
        "// and(&&)는 곱\n",
        "// or(||) 는 합\n",
        "// true      1\n",
        "// false     0\n",
        "true && false"
      ]
    },
    {
      "cell_type": "code",
      "execution_count": null,
      "metadata": {
        "trusted": true
      },
      "outputs": [],
      "source": [
        "// 함수\n",
        "\n",
        "function f(a, b){\n",
        "    return a + b\n",
        "}\n",
        "\n",
        "f(10, 20)"
      ]
    },
    {
      "cell_type": "code",
      "execution_count": 71,
      "metadata": {
        "trusted": true
      },
      "outputs": [
        {
          "data": {
            "text/plain": [
              "30"
            ]
          },
          "execution_count": 65,
          "metadata": {},
          "output_type": "execute_result"
        }
      ],
      "source": [
        "function f(a=10, b=20){\n",
        "    return a + b\n",
        "}\n",
        "\n",
        "f()"
      ]
    },
    {
      "cell_type": "code",
      "execution_count": 73,
      "metadata": {
        "trusted": true
      },
      "outputs": [
        {
          "data": {
            "text/plain": [
              "31"
            ]
          },
          "execution_count": 67,
          "metadata": {},
          "output_type": "execute_result"
        }
      ],
      "source": [
        "function f(a=2, b=3){\n",
        "    return a**2 + b**3\n",
        "}\n",
        "\n",
        "f(b=2, a=3) // javascript는 아규먼트의 순서를 파라미터의 순서로 바꿔주지 않습니다!\n",
        "// 이렇게 되면, 중간에 아규먼트 넣는 순서 틀리면 완전히 잘못된 결과를 받게됩니다!\n",
        "// 그래서 실수가 아주 많았습니다.\n",
        "// 그래서 roro기법이라는 기법이 나오게 됩니다."
      ]
    },
    {
      "cell_type": "code",
      "execution_count": 74,
      "metadata": {
        "trusted": true
      },
      "outputs": [
        {
          "data": {
            "text/plain": [
              "17"
            ]
          },
          "execution_count": 68,
          "metadata": {},
          "output_type": "execute_result"
        }
      ],
      "source": [
        "// 전혀 모르셔도 괜찮지만,\n",
        "// 참고삼아 알아두세요. Python은 이런 문제가 발생하지 않습니다.\n",
        "function f(obj){\n",
        "    return obj['a']**2 + obj['b']**3\n",
        "}\n",
        "\n",
        "f({'b':2, 'a':3})"
      ]
    },
    {
      "cell_type": "code",
      "execution_count": 75,
      "metadata": {
        "trusted": true
      },
      "outputs": [
        {
          "name": "stdout",
          "output_type": "stream",
          "text": [
            "\n"
          ]
        },
        {
          "data": {},
          "execution_count": 69,
          "metadata": {},
          "output_type": "execute_result"
        }
      ],
      "source": [
        "function f(){\n",
        "    return \n",
        "}\n",
        "\n",
        "console.log(f()) // undefined"
      ]
    },
    {
      "cell_type": "code",
      "execution_count": 76,
      "metadata": {
        "trusted": true
      },
      "outputs": [
        {
          "data": {
            "text/plain": [
              "30"
            ]
          },
          "execution_count": 70,
          "metadata": {},
          "output_type": "execute_result"
        }
      ],
      "source": [
        "// 화살표 함수\n",
        "function s(a, b){\n",
        "    return a + b\n",
        "}\n",
        "\n",
        "let ss = (a, b) => a + b\n",
        "\n",
        "ss(10, 20)"
      ]
    },
    {
      "cell_type": "code",
      "execution_count": 77,
      "metadata": {
        "trusted": true
      },
      "outputs": [
        {
          "name": "stdout",
          "output_type": "stream",
          "text": [
            "\n"
          ]
        },
        {
          "data": {},
          "execution_count": 71,
          "metadata": {},
          "output_type": "execute_result"
        }
      ],
      "source": [
        "let a;\n",
        "console.log(a)"
      ]
    },
    {
      "cell_type": "code",
      "execution_count": 78,
      "metadata": {
        "trusted": true
      },
      "outputs": [
        {
          "data": {
            "text/plain": [
              "4"
            ]
          },
          "execution_count": 72,
          "metadata": {},
          "output_type": "execute_result"
        }
      ],
      "source": [
        "// 배열\n",
        "\n",
        "let arr = [10, 20, 30, 40]\n",
        "arr.length"
      ]
    },
    {
      "cell_type": "code",
      "execution_count": 83,
      "metadata": {
        "trusted": true
      },
      "outputs": [
        {
          "data": {
            "text/plain": [
              "[ 1000, 20, 30, 40 ]"
            ]
          },
          "execution_count": 76,
          "metadata": {},
          "output_type": "execute_result"
        }
      ],
      "source": [
        "let arr = [10, 20, 30, 40]\n",
        "\n",
        "// 1. push\n",
        "arr.push(50)\n",
        "arr\n",
        "\n",
        "// 2. pop\n",
        "arr.pop()\n",
        "arr\n",
        "\n",
        "// 3. shift // python에서는 pop(0)를 사용합니다.\n",
        "arr.shift()\n",
        "arr\n",
        "\n",
        "// 4. unshift // python에서는 insert(0, 값)으로 사용합니다.\n",
        "arr.unshift(1000)\n",
        "arr"
      ]
    },
    {
      "cell_type": "code",
      "execution_count": 84,
      "metadata": {
        "trusted": true
      },
      "outputs": [
        {
          "data": {
            "text/plain": [
              "[ 1, 11, 11, 111, 21, 2111, 23, 28, 43 ]"
            ]
          },
          "execution_count": 77,
          "metadata": {},
          "output_type": "execute_result"
        }
      ],
      "source": [
        "let s = [1, 11, 23, 43, 21, 28, 11, 111, 2111]\n",
        "s.sort()\n",
        "// js 는 기본 sort가 사전식 정렬입니다."
      ]
    },
    {
      "cell_type": "code",
      "execution_count": 86,
      "metadata": {
        "trusted": true
      },
      "outputs": [
        {
          "data": {
            "text/plain": [
              "[ 2111, 111, 43, 28, 23, 21, 11, 11, 1 ]"
            ]
          },
          "execution_count": 79,
          "metadata": {},
          "output_type": "execute_result"
        }
      ],
      "source": [
        "let s = [1, 11, 23, 43, 21, 28, 11, 111, 2111]\n",
        "s.sort((a, b) => a - b) // 오름차순\n",
        "s.sort((a, b) => b - a) // 내림차순"
      ]
    }
  ],
  "metadata": {
    "kernelspec": {
      "display_name": "JavaScript (Web Worker)",
      "language": "javascript",
      "name": "javascript"
    },
    "language_info": {
      "codemirror_mode": {
        "name": "javascript"
      },
      "file_extension": ".js",
      "mimetype": "text/javascript",
      "name": "javascript",
      "nbconvert_exporter": "javascript",
      "pygments_lexer": "javascript",
      "version": "es2017"
    }
  },
  "nbformat": 4,
  "nbformat_minor": 4
}
