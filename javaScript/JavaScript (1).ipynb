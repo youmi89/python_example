{
  "metadata": {
    "kernelspec": {
      "name": "javascript",
      "display_name": "JavaScript (Web Worker)",
      "language": "javascript"
    },
    "language_info": {
      "codemirror_mode": {
        "name": "javascript"
      },
      "file_extension": ".js",
      "mimetype": "text/javascript",
      "name": "javascript",
      "nbconvert_exporter": "javascript",
      "pygments_lexer": "javascript",
      "version": "es2017"
    }
  },
  "nbformat_minor": 4,
  "nbformat": 4,
  "cells": [
    {
      "cell_type": "code",
      "source": "// 아래 코드는 변수 x에 10을 넣는 코드입니다.\n// 변수(변하는 수)는 let을 사용하고\n// 상수(변하지 않는 수)는 const를 사용합니다.\n// 위 키워드는 선언할 때에만 사용합니다.\n\nlet x = 10\nconst y = 100\n\nx = 100\n// y = 200 // error!! 상수는 변경할 수 없습니다.",
      "metadata": {
        "trusted": true
      },
      "outputs": [
        {
          "ename": "TypeError",
          "evalue": "Assignment to constant variable.",
          "traceback": [
            "TypeError: Assignment to constant variable.\n    at eval (eval at execute (https://jupyter.weniv.co.kr/extensions/@jupyterlite/javascript-kernel-extension/static/584.7e49152bd31ca0f8291b.js?v=7e49152bd31ca0f8291b:2:13351), <anonymous>:10:3)\n    at eval (<anonymous>)\n    at Object.execute (https://jupyter.weniv.co.kr/extensions/@jupyterlite/javascript-kernel-extension/static/584.7e49152bd31ca0f8291b.js?v=7e49152bd31ca0f8291b:2:13351)\n    at o (https://jupyter.weniv.co.kr/extensions/@jupyterlite/javascript-kernel-extension/static/584.7e49152bd31ca0f8291b.js?v=7e49152bd31ca0f8291b:2:10215)"
          ],
          "output_type": "error"
        }
      ],
      "execution_count": 3
    },
    {
      "cell_type": "code",
      "source": "// var라는 키워드도 자주 봤는데요!?\n// var는 이제는 거의 쓰지 않습니다.\n// 전역변수 선언할 때 사용하는데 var를 사용했을 때 문제가 많기 때문에\n// let과 const가 나온겁니다!\n\nvar x = 10\nvar y = 20\n\nx",
      "metadata": {
        "trusted": true
      },
      "outputs": [
        {
          "execution_count": 3,
          "output_type": "execute_result",
          "data": {
            "text/plain": "10"
          },
          "metadata": {}
        }
      ],
      "execution_count": 4
    },
    {
      "cell_type": "code",
      "source": "// 앞서 python 에서는 print를 사용했지만\n// javascript에서는 console.log()를 사용합니다.\n\nlet age = 30 // 나이 변수\nlet name = 'Jun' // 이름 변수\nconsole.log(age, name) // 결과 값은 30 Jun입니다.",
      "metadata": {
        "trusted": true
      },
      "outputs": [
        {
          "name": "stdout",
          "text": "30 Jun\n",
          "output_type": "stream"
        },
        {
          "execution_count": 4,
          "output_type": "execute_result",
          "data": {},
          "metadata": {}
        }
      ],
      "execution_count": 5
    },
    {
      "cell_type": "code",
      "source": "// python의 f-string\n// 앞서 python 에서는 f'{변수} 문자!'을 사용했지만\n\n// javascript의 template literals\n// javascript에서는 `${변수} 문자!`의 형태로 사용합니다.\n\nlet age = 30 // 나이 변수\nlet name = 'Jun' // 이름 변수\nconsole.log(`나이는 ${age} 이고, 이름은 ${name}이야!`)",
      "metadata": {
        "trusted": true
      },
      "outputs": [
        {
          "name": "stdout",
          "text": "나이는 30 이고, 이름은 Jun이야!\n",
          "output_type": "stream"
        },
        {
          "execution_count": 5,
          "output_type": "execute_result",
          "data": {},
          "metadata": {}
        }
      ],
      "execution_count": 6
    },
    {
      "cell_type": "code",
      "source": "// JavaScript는 뒤에 세미콜론을 붙여야 합니다.\n// 그런데 붙이지 않으셔도 세미콜론이 자동으로 붙어요!\n// 다만 세미콜론을 붙이지 않았을 경우 의도치 않은 애러가 발생할 수도 있습니다.\n// 보통은 직접 붙여주는 것이 관례이지만, 회사마다 이를 자동으로 해주는 SW가 있습니다.\n// 다만 우리 수업은 Python이 주 언어이고, \n// 혼란을 드리지 않기 위해 교육할 때만 세미콜론을 생략하겠습니다.",
      "metadata": {
        "trusted": true
      },
      "outputs": [
        {
          "execution_count": 6,
          "output_type": "execute_result",
          "data": {},
          "metadata": {}
        }
      ],
      "execution_count": 7
    },
    {
      "cell_type": "code",
      "source": "/*\n이 코드는 사용자의 나이와 이름을 저장합니다.\n변수 age는 사용자의 나이를 저장하고,\n변수 name은 사용자의 이름을 저장합니다.\n*/\nlet age = 30\nlet name = 'Jun'\n\nage",
      "metadata": {
        "trusted": true
      },
      "outputs": [
        {
          "execution_count": 7,
          "output_type": "execute_result",
          "data": {
            "text/plain": "30"
          },
          "metadata": {}
        }
      ],
      "execution_count": 8
    },
    {
      "cell_type": "code",
      "source": "// var와 let과 const에 간단한 차이\n\nif (true){\n    let xx = 100\n    const xxx = 100\n}\n\nxxx",
      "metadata": {
        "trusted": true
      },
      "outputs": [
        {
          "ename": "ReferenceError",
          "evalue": "xxx is not defined",
          "traceback": [
            "ReferenceError: xxx is not defined\n    at eval (eval at execute (https://jupyter.weniv.co.kr/extensions/@jupyterlite/javascript-kernel-extension/static/584.7e49152bd31ca0f8291b.js?v=7e49152bd31ca0f8291b:2:13351), <anonymous>:8:1)\n    at eval (<anonymous>)\n    at Object.execute (https://jupyter.weniv.co.kr/extensions/@jupyterlite/javascript-kernel-extension/static/584.7e49152bd31ca0f8291b.js?v=7e49152bd31ca0f8291b:2:13351)\n    at o (https://jupyter.weniv.co.kr/extensions/@jupyterlite/javascript-kernel-extension/static/584.7e49152bd31ca0f8291b.js?v=7e49152bd31ca0f8291b:2:10215)"
          ],
          "output_type": "error"
        }
      ],
      "execution_count": 11
    },
    {
      "cell_type": "code",
      "source": "// var와 let과 const에 간단한 차이\n\nif (true){\n    var xx = 100\n}\n\nxx",
      "metadata": {
        "trusted": true
      },
      "outputs": [
        {
          "execution_count": 9,
          "output_type": "execute_result",
          "data": {
            "text/plain": "100"
          },
          "metadata": {}
        }
      ],
      "execution_count": 12
    },
    {
      "cell_type": "code",
      "source": "let num = 1234\nlet str = 'jeju'\nconsole.log(typeof num) // 'number'\nconsole.log(typeof str) // 'string'\nconsole.log(typeof(num))\nconsole.log(typeof(str))",
      "metadata": {
        "trusted": true
      },
      "outputs": [
        {
          "name": "stdout",
          "text": "number\nstring\nnumber\nstring\n",
          "output_type": "stream"
        },
        {
          "execution_count": 12,
          "output_type": "execute_result",
          "data": {},
          "metadata": {}
        }
      ],
      "execution_count": 15
    },
    {
      "cell_type": "code",
      "source": "// typeof로 정확한 타입을 알아낼 수가 없다!?\n\nlet a = [1, 2, 3] // array\nlet b = {'one': 100, 'two': 200} // object\nconsole.log(typeof a) // 'object'\nconsole.log(typeof b) // 'object'\nconsole.log(typeof null) // 'object', javascript를 설계하신 분이 설계가 잘못되었다 인정!\n// 이처럼 깔끔하지 않다!?",
      "metadata": {
        "trusted": true
      },
      "outputs": [
        {
          "name": "stdout",
          "text": "object\nobject\nobject\n",
          "output_type": "stream"
        },
        {
          "execution_count": 15,
          "output_type": "execute_result",
          "data": {},
          "metadata": {}
        }
      ],
      "execution_count": 18
    },
    {
      "cell_type": "code",
      "source": "function typeCheck(value) {\n    const return_value = Object.prototype.toString.call(value);\n    const type = return_value.substring(\n        return_value.indexOf(\" \") + 1,\n        return_value.indexOf(\"]\")\n    );\n    return type.toLowerCase();\n}\n\nlet a = [1, 2, 3] // array\nlet b = {'one': 100, 'two': 200} // object\nlet c = null // null\n\nconsole.log(typeCheck(a))\nconsole.log(typeCheck(b))\nconsole.log(typeCheck(c))",
      "metadata": {
        "trusted": true
      },
      "outputs": [
        {
          "name": "stdout",
          "text": "array\nobject\nnull\n",
          "output_type": "stream"
        },
        {
          "execution_count": 16,
          "output_type": "execute_result",
          "data": {},
          "metadata": {}
        }
      ],
      "execution_count": 19
    },
    {
      "cell_type": "code",
      "source": "let age = 25; // Number 타입\nlet name = 'licat'; // String 타입\nlet isStudent = true; // Boolean 타입\nlet value; // undefined 타입 (값이 할당되지 않음)\nlet emptyValue = null; // null 타입 (의도적으로 값이 없음)",
      "metadata": {
        "trusted": true
      },
      "outputs": [
        {
          "execution_count": 17,
          "output_type": "execute_result",
          "data": {},
          "metadata": {}
        }
      ],
      "execution_count": 20
    },
    {
      "cell_type": "code",
      "source": "let person = {\n  name: 'Bob',\n  age: 30,\n}; // Object 타입\nlet numbers = [1, 2, 3, 4, 5]; // Array 타입\nfunction greet() {\n  console.log('Hello, world!');\n} // Function 타입\n\ntypeCheck(greet)",
      "metadata": {
        "trusted": true
      },
      "outputs": [
        {
          "execution_count": 18,
          "output_type": "execute_result",
          "data": {
            "text/plain": "'function'"
          },
          "metadata": {}
        }
      ],
      "execution_count": 21
    },
    {
      "cell_type": "code",
      "source": "// 문자열의 메서드\n\n// 1. indexOf\nlet text = 'weniv ceo leehojun hello world hello world'\nconsole.log(text.indexOf('hello')) // 첫번째 만나는 hello를 찾습니다!\n\n// 2. replace\n// javascript는 python과 달리 정규표현식을 import와 같은 문법 없이 기본 메서드에서 사용 가능합니다.\nconsole.log('제껴라 제껴라 제껴라 huh!'.replace('제껴라', 'check it out'))\nconsole.log('제껴라 제껴라 제껴라 huh!'.replace(/제껴라/g, 'check it out'))\nconsole.log('010-1234-1234'.replace(/[0-9]/g, '!'))\nconsole.log('010-1234-1234'.replace(/[^0-9]/g, '!'))\nconsole.log('010-1234-1234'.replace(/[^0-9]/g, ''))\n\n// 3. slice\n// 'hello world'[2:7]\n// javascript에서는 위와 같은 슬라이싱 문법이 안됩니다. 그래서 .slice라는 메서드를 사용해야 합니다.\n'hello world'.slice(2, 7)\n\n\n// 4. split\n'hello world hello world'.split(' ')\n'hello world hello world'.split('e')\n\n// 5. toLowerCase, toUpperCase\nconsole.log(\"What's the name? Black mamba\".toLowerCase());\nconsole.log('Watch me while I make it out'.toUpperCase());\n\n// 6. trim\nconsole.log('         abc  '.trim());",
      "metadata": {
        "trusted": true
      },
      "outputs": [
        {
          "name": "stdout",
          "text": "19\ncheck it out 제껴라 제껴라 huh!\ncheck it out check it out check it out huh!\n!!!-!!!!-!!!!\n010!1234!1234\n01012341234\nwhat's the name? black mamba\nWATCH ME WHILE I MAKE IT OUT\nabc\n",
          "output_type": "stream"
        },
        {
          "execution_count": 28,
          "output_type": "execute_result",
          "data": {},
          "metadata": {}
        }
      ],
      "execution_count": 33
    },
    {
      "cell_type": "code",
      "source": "// 증감 연산자\n\nlet x = 10\nx += 10\nx",
      "metadata": {
        "trusted": true
      },
      "outputs": [
        {
          "execution_count": 29,
          "output_type": "execute_result",
          "data": {
            "text/plain": "20"
          },
          "metadata": {}
        }
      ],
      "execution_count": 34
    },
    {
      "cell_type": "code",
      "source": "let x = 10\nx++\nx",
      "metadata": {
        "trusted": true
      },
      "outputs": [
        {
          "execution_count": 30,
          "output_type": "execute_result",
          "data": {
            "text/plain": "11"
          },
          "metadata": {}
        }
      ],
      "execution_count": 35
    },
    {
      "cell_type": "code",
      "source": "let x = 10\n++x\nx",
      "metadata": {
        "trusted": true
      },
      "outputs": [
        {
          "execution_count": 31,
          "output_type": "execute_result",
          "data": {
            "text/plain": "11"
          },
          "metadata": {}
        }
      ],
      "execution_count": 36
    },
    {
      "cell_type": "code",
      "source": "// 파이썬과 다르게 1씩 증가 또는 감소를 시켜주는 코드가 있습니다.\n// 둘 중에 아무거나 사용하셔도 출력하는 곳만 아니면 문제가 발생하지 않습니다.\nlet num = 3;\nconsole.log(`증감연산 : ${++num}`); // 4 (num을 먼저 증가시키고 출력)\nconsole.log(`증감연산 : ${num++}`); // 4 (출력 후 num을 증가시킴, 결과적으로 num은 5)\nconsole.log(`증감연산 : ${--num}`); // 4 (num을 먼저 감소시키고 출력)\nconsole.log(`증감연산 : ${num--}`); // 4 (출력 후 num을 감소시킴, 결과적으로 num은 3)",
      "metadata": {
        "trusted": true
      },
      "outputs": [],
      "execution_count": null
    },
    {
      "cell_type": "code",
      "source": "let x = 3\nlet y = 10\n\nx > y\n// python하고 전부 동일하지만 아래 2개가 다릅니다.\nx == y\nx === y",
      "metadata": {
        "trusted": true
      },
      "outputs": [
        {
          "execution_count": 34,
          "output_type": "execute_result",
          "data": {
            "text/plain": "false"
          },
          "metadata": {}
        }
      ],
      "execution_count": 39
    },
    {
      "cell_type": "code",
      "source": "let x = 3\nlet y = '3'\n\nx == y // python에는 False이지만, javascript에서는 true입니다!\nx === y // 우리가 원하는 값, python 에서 등호 == 인 값, 타입을 봅니다!\n// 무엇을 많이 사용하나요?\n// javascript에서는 ===를 많이 사용합니다.",
      "metadata": {
        "trusted": true
      },
      "outputs": [
        {
          "execution_count": 36,
          "output_type": "execute_result",
          "data": {
            "text/plain": "false"
          },
          "metadata": {}
        }
      ],
      "execution_count": 41
    },
    {
      "cell_type": "code",
      "source": "Infinity > 10 // 파이썬에서는 float('inf')로 사용했습니다!",
      "metadata": {
        "trusted": true
      },
      "outputs": [
        {
          "execution_count": 37,
          "output_type": "execute_result",
          "data": {
            "text/plain": "true"
          },
          "metadata": {}
        }
      ],
      "execution_count": 42
    },
    {
      "cell_type": "code",
      "source": "'숫자가 아님' / 2 \n// python에서는 error! 하지만 JS에서는 NaN이라는 것을 반환!",
      "metadata": {
        "trusted": true
      },
      "outputs": [
        {
          "execution_count": 38,
          "output_type": "execute_result",
          "data": {
            "text/plain": "NaN"
          },
          "metadata": {}
        }
      ],
      "execution_count": 43
    },
    {
      "cell_type": "code",
      "source": "let a = 12345678901234567890\na + 1 // ?? 이상한 숫자가 나오네요? 특정한 숫자 이상은 처리를 할 수가 없습니다!\n// 대부분의 언어가 언어마다 정의하고 있는 숫자가 넘어가면 처리를 못하게 되어 있습니다.\n// 이전에는 그래서 큰 숫자는 문자로 처리했습니다.\n\nlet b = 12345678901234567890n\nb + 1n",
      "metadata": {
        "trusted": true
      },
      "outputs": [
        {
          "execution_count": 40,
          "output_type": "execute_result",
          "data": {
            "text/plain": "12345678901234567891n"
          },
          "metadata": {}
        }
      ],
      "execution_count": 46
    },
    {
      "cell_type": "code",
      "source": "// +'10'\n+'12hello'",
      "metadata": {
        "trusted": true
      },
      "outputs": [
        {
          "execution_count": 50,
          "output_type": "execute_result",
          "data": {
            "text/plain": "NaN"
          },
          "metadata": {}
        }
      ],
      "execution_count": 56
    },
    {
      "cell_type": "code",
      "source": "// 위 연산은 안전하지 않은 연산입니다!\nparseInt('10')\nparseInt('12hello')",
      "metadata": {
        "trusted": true
      },
      "outputs": [
        {
          "execution_count": 48,
          "output_type": "execute_result",
          "data": {
            "text/plain": "12"
          },
          "metadata": {}
        }
      ],
      "execution_count": 54
    },
    {
      "cell_type": "code",
      "source": "parseFloat('10.1')",
      "metadata": {
        "trusted": true
      },
      "outputs": [
        {
          "execution_count": 51,
          "output_type": "execute_result",
          "data": {
            "text/plain": "10.1"
          },
          "metadata": {}
        }
      ],
      "execution_count": 57
    },
    {
      "cell_type": "code",
      "source": "// 이런 문법은 사용하지 마세요.\n~~10.1",
      "metadata": {
        "trusted": true
      },
      "outputs": [
        {
          "execution_count": 53,
          "output_type": "execute_result",
          "data": {
            "text/plain": "10"
          },
          "metadata": {}
        }
      ],
      "execution_count": 59
    },
    {
      "cell_type": "code",
      "source": "let a = 10\nlet b = [1, 2, 3]\nlet c = {'hello':'world'}\na.toString()\nb.toString() // Python 하는 사람들은 여기서부터 마음이 힘들어요.\nc.toString() // Python 하는 사람들은 여기서부터 마음이 힘들어요.\n\n// js를 하시는 분들은 python처럼 string으로 변환하고 싶을 때, JSON이라는 객체를 사용합니다.\nJSON.stringify(a)\nJSON.stringify(b)\nJSON.stringify(c)",
      "metadata": {
        "trusted": true
      },
      "outputs": [
        {
          "execution_count": 59,
          "output_type": "execute_result",
          "data": {
            "text/plain": "'{\"hello\":\"world\"}'"
          },
          "metadata": {}
        }
      ],
      "execution_count": 65
    },
    {
      "cell_type": "code",
      "source": "Math.PI\nMath.max(1, 2, 3, 4, 5, 6)\n// Math.max([1, 2, 3, 4, 5, 6])\nMath.max(...[1, 2, 3, 4, 5, 6])",
      "metadata": {
        "trusted": true
      },
      "outputs": [
        {
          "execution_count": 63,
          "output_type": "execute_result",
          "data": {
            "text/plain": "6"
          },
          "metadata": {}
        }
      ],
      "execution_count": 69
    },
    {
      "cell_type": "code",
      "source": "// JavaScript는 카멜 표기법을 선호합니다. oneTwoThree\n// python은 대부분 소문자고, 스네이크 표기법을 선호합니다. one_two_three",
      "metadata": {
        "trusted": true
      },
      "outputs": [],
      "execution_count": null
    },
    {
      "cell_type": "code",
      "source": "// and(&&)는 곱\n// or(||) 는 합\n// true      1\n// false     0\ntrue && false",
      "metadata": {
        "trusted": true
      },
      "outputs": [
        {
          "execution_count": 64,
          "output_type": "execute_result",
          "data": {
            "text/plain": "false"
          },
          "metadata": {}
        }
      ],
      "execution_count": 70
    },
    {
      "cell_type": "code",
      "source": "// 함수\n\nfunction f(a, b){\n    return a + b\n}\n\nf(10, 20)",
      "metadata": {
        "trusted": true
      },
      "outputs": [],
      "execution_count": null
    },
    {
      "cell_type": "code",
      "source": "function f(a=10, b=20){\n    return a + b\n}\n\nf()",
      "metadata": {
        "trusted": true
      },
      "outputs": [
        {
          "execution_count": 65,
          "output_type": "execute_result",
          "data": {
            "text/plain": "30"
          },
          "metadata": {}
        }
      ],
      "execution_count": 71
    },
    {
      "cell_type": "code",
      "source": "function f(a=2, b=3){\n    return a**2 + b**3\n}\n\nf(b=2, a=3) // javascript는 아규먼트의 순서를 파라미터의 순서로 바꿔주지 않습니다!\n// 이렇게 되면, 중간에 아규먼트 넣는 순서 틀리면 완전히 잘못된 결과를 받게됩니다!\n// 그래서 실수가 아주 많았습니다.\n// 그래서 roro기법이라는 기법이 나오게 됩니다.",
      "metadata": {
        "trusted": true
      },
      "outputs": [
        {
          "execution_count": 67,
          "output_type": "execute_result",
          "data": {
            "text/plain": "31"
          },
          "metadata": {}
        }
      ],
      "execution_count": 73
    },
    {
      "cell_type": "code",
      "source": "// 전혀 모르셔도 괜찮지만,\n// 참고삼아 알아두세요. Python은 이런 문제가 발생하지 않습니다.\nfunction f(obj){\n    return obj['a']**2 + obj['b']**3\n}\n\nf({'b':2, 'a':3})",
      "metadata": {
        "trusted": true
      },
      "outputs": [
        {
          "execution_count": 68,
          "output_type": "execute_result",
          "data": {
            "text/plain": "17"
          },
          "metadata": {}
        }
      ],
      "execution_count": 74
    },
    {
      "cell_type": "code",
      "source": "function f(){\n    return \n}\n\nconsole.log(f()) // undefined",
      "metadata": {
        "trusted": true
      },
      "outputs": [
        {
          "name": "stdout",
          "text": "\n",
          "output_type": "stream"
        },
        {
          "execution_count": 69,
          "output_type": "execute_result",
          "data": {},
          "metadata": {}
        }
      ],
      "execution_count": 75
    },
    {
      "cell_type": "code",
      "source": "// 화살표 함수\nfunction s(a, b){\n    return a + b\n}\n\nlet ss = (a, b) => a + b\n\nss(10, 20)",
      "metadata": {
        "trusted": true
      },
      "outputs": [
        {
          "execution_count": 70,
          "output_type": "execute_result",
          "data": {
            "text/plain": "30"
          },
          "metadata": {}
        }
      ],
      "execution_count": 76
    },
    {
      "cell_type": "code",
      "source": "let a;\nconsole.log(a)",
      "metadata": {
        "trusted": true
      },
      "outputs": [
        {
          "name": "stdout",
          "text": "\n",
          "output_type": "stream"
        },
        {
          "execution_count": 71,
          "output_type": "execute_result",
          "data": {},
          "metadata": {}
        }
      ],
      "execution_count": 77
    },
    {
      "cell_type": "code",
      "source": "// 배열\n\nlet arr = [10, 20, 30, 40]\narr.length",
      "metadata": {
        "trusted": true
      },
      "outputs": [
        {
          "execution_count": 72,
          "output_type": "execute_result",
          "data": {
            "text/plain": "4"
          },
          "metadata": {}
        }
      ],
      "execution_count": 78
    },
    {
      "cell_type": "code",
      "source": "let arr = [10, 20, 30, 40]\n\n// 1. push\narr.push(50)\narr\n\n// 2. pop\narr.pop()\narr\n\n// 3. shift // python에서는 pop(0)를 사용합니다.\narr.shift()\narr\n\n// 4. unshift // python에서는 insert(0, 값)으로 사용합니다.\narr.unshift(1000)\narr",
      "metadata": {
        "trusted": true
      },
      "outputs": [
        {
          "execution_count": 76,
          "output_type": "execute_result",
          "data": {
            "text/plain": "[ 1000, 20, 30, 40 ]"
          },
          "metadata": {}
        }
      ],
      "execution_count": 83
    },
    {
      "cell_type": "code",
      "source": "let s = [1, 11, 23, 43, 21, 28, 11, 111, 2111]\ns.sort()\n// js 는 기본 sort가 사전식 정렬입니다.",
      "metadata": {
        "trusted": true
      },
      "outputs": [
        {
          "execution_count": 77,
          "output_type": "execute_result",
          "data": {
            "text/plain": "[ 1, 11, 11, 111, 21, 2111, 23, 28, 43 ]"
          },
          "metadata": {}
        }
      ],
      "execution_count": 84
    },
    {
      "cell_type": "code",
      "source": "let s = [1, 11, 23, 43, 21, 28, 11, 111, 2111]\ns.sort((a, b) => a - b) // 오름차순\ns.sort((a, b) => b - a) // 내림차순",
      "metadata": {
        "trusted": true
      },
      "outputs": [
        {
          "execution_count": 79,
          "output_type": "execute_result",
          "data": {
            "text/plain": "[ 2111, 111, 43, 28, 23, 21, 11, 11, 1 ]"
          },
          "metadata": {}
        }
      ],
      "execution_count": 86
    }
  ]
}