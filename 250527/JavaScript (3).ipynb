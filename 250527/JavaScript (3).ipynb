{
  "metadata": {
    "kernelspec": {
      "name": "javascript",
      "display_name": "JavaScript (Web Worker)",
      "language": "javascript"
    },
    "language_info": {
      "codemirror_mode": {
        "name": "javascript"
      },
      "file_extension": ".js",
      "mimetype": "text/javascript",
      "name": "javascript",
      "nbconvert_exporter": "javascript",
      "pygments_lexer": "javascript",
      "version": "es2017"
    }
  },
  "nbformat_minor": 4,
  "nbformat": 4,
  "cells": [
    {
      "cell_type": "code",
      "source": "// 아래 코드는 변수 x에 10을 넣는 코드입니다.\n// 변수(변하는 수)는 let을 사용하고\n// 상수(변하지 않는 수)는 const를 사용합니다.\n// 위 키워드는 선언할 때에만 사용합니다.\n\nlet x = 10\nconst y = 100\n\nx = 100\n// y = 200 // error!! 상수는 변경할 수 없습니다.",
      "metadata": {
        "trusted": true
      },
      "outputs": [
        {
          "ename": "TypeError",
          "evalue": "Assignment to constant variable.",
          "traceback": [
            "TypeError: Assignment to constant variable.\n    at eval (eval at execute (https://jupyter.weniv.co.kr/extensions/@jupyterlite/javascript-kernel-extension/static/584.7e49152bd31ca0f8291b.js?v=7e49152bd31ca0f8291b:2:13351), <anonymous>:10:3)\n    at eval (<anonymous>)\n    at Object.execute (https://jupyter.weniv.co.kr/extensions/@jupyterlite/javascript-kernel-extension/static/584.7e49152bd31ca0f8291b.js?v=7e49152bd31ca0f8291b:2:13351)\n    at o (https://jupyter.weniv.co.kr/extensions/@jupyterlite/javascript-kernel-extension/static/584.7e49152bd31ca0f8291b.js?v=7e49152bd31ca0f8291b:2:10215)"
          ],
          "output_type": "error"
        }
      ],
      "execution_count": 3
    },
    {
      "cell_type": "code",
      "source": "// var라는 키워드도 자주 봤는데요!?\n// var는 이제는 거의 쓰지 않습니다.\n// 전역변수 선언할 때 사용하는데 var를 사용했을 때 문제가 많기 때문에\n// let과 const가 나온겁니다!\n\nvar x = 10\nvar y = 20\n\nx",
      "metadata": {
        "trusted": true
      },
      "outputs": [
        {
          "execution_count": 3,
          "output_type": "execute_result",
          "data": {
            "text/plain": "10"
          },
          "metadata": {}
        }
      ],
      "execution_count": 4
    },
    {
      "cell_type": "code",
      "source": "// 앞서 python 에서는 print를 사용했지만\n// javascript에서는 console.log()를 사용합니다.\n\nlet age = 30 // 나이 변수\nlet name = 'Jun' // 이름 변수\nconsole.log(age, name) // 결과 값은 30 Jun입니다.",
      "metadata": {
        "trusted": true
      },
      "outputs": [
        {
          "name": "stdout",
          "text": "30 Jun\n",
          "output_type": "stream"
        },
        {
          "execution_count": 4,
          "output_type": "execute_result",
          "data": {},
          "metadata": {}
        }
      ],
      "execution_count": 5
    },
    {
      "cell_type": "code",
      "source": "// python의 f-string\n// 앞서 python 에서는 f'{변수} 문자!'을 사용했지만\n\n// javascript의 template literals\n// javascript에서는 `${변수} 문자!`의 형태로 사용합니다.\n\nlet age = 30 // 나이 변수\nlet name = 'Jun' // 이름 변수\nconsole.log(`나이는 ${age} 이고, 이름은 ${name}이야!`)",
      "metadata": {
        "trusted": true
      },
      "outputs": [
        {
          "name": "stdout",
          "text": "나이는 30 이고, 이름은 Jun이야!\n",
          "output_type": "stream"
        },
        {
          "execution_count": 5,
          "output_type": "execute_result",
          "data": {},
          "metadata": {}
        }
      ],
      "execution_count": 6
    },
    {
      "cell_type": "code",
      "source": "// JavaScript는 뒤에 세미콜론을 붙여야 합니다.\n// 그런데 붙이지 않으셔도 세미콜론이 자동으로 붙어요!\n// 다만 세미콜론을 붙이지 않았을 경우 의도치 않은 애러가 발생할 수도 있습니다.\n// 보통은 직접 붙여주는 것이 관례이지만, 회사마다 이를 자동으로 해주는 SW가 있습니다.\n// 다만 우리 수업은 Python이 주 언어이고, \n// 혼란을 드리지 않기 위해 교육할 때만 세미콜론을 생략하겠습니다.",
      "metadata": {
        "trusted": true
      },
      "outputs": [
        {
          "execution_count": 6,
          "output_type": "execute_result",
          "data": {},
          "metadata": {}
        }
      ],
      "execution_count": 7
    },
    {
      "cell_type": "code",
      "source": "/*\n이 코드는 사용자의 나이와 이름을 저장합니다.\n변수 age는 사용자의 나이를 저장하고,\n변수 name은 사용자의 이름을 저장합니다.\n*/\nlet age = 30\nlet name = 'Jun'\n\nage",
      "metadata": {
        "trusted": true
      },
      "outputs": [
        {
          "execution_count": 7,
          "output_type": "execute_result",
          "data": {
            "text/plain": "30"
          },
          "metadata": {}
        }
      ],
      "execution_count": 8
    },
    {
      "cell_type": "code",
      "source": "// var와 let과 const에 간단한 차이\n\nif (true){\n    let xx = 100\n    const xxx = 100\n}\n\nxxx",
      "metadata": {
        "trusted": true
      },
      "outputs": [
        {
          "ename": "ReferenceError",
          "evalue": "xxx is not defined",
          "traceback": [
            "ReferenceError: xxx is not defined\n    at eval (eval at execute (https://jupyter.weniv.co.kr/extensions/@jupyterlite/javascript-kernel-extension/static/584.7e49152bd31ca0f8291b.js?v=7e49152bd31ca0f8291b:2:13351), <anonymous>:8:1)\n    at eval (<anonymous>)\n    at Object.execute (https://jupyter.weniv.co.kr/extensions/@jupyterlite/javascript-kernel-extension/static/584.7e49152bd31ca0f8291b.js?v=7e49152bd31ca0f8291b:2:13351)\n    at o (https://jupyter.weniv.co.kr/extensions/@jupyterlite/javascript-kernel-extension/static/584.7e49152bd31ca0f8291b.js?v=7e49152bd31ca0f8291b:2:10215)"
          ],
          "output_type": "error"
        }
      ],
      "execution_count": 11
    },
    {
      "cell_type": "code",
      "source": "// var와 let과 const에 간단한 차이\n\nif (true){\n    var xx = 100\n}\n\nxx",
      "metadata": {
        "trusted": true
      },
      "outputs": [
        {
          "execution_count": 9,
          "output_type": "execute_result",
          "data": {
            "text/plain": "100"
          },
          "metadata": {}
        }
      ],
      "execution_count": 12
    },
    {
      "cell_type": "code",
      "source": "let num = 1234\nlet str = 'jeju'\nconsole.log(typeof num) // 'number'\nconsole.log(typeof str) // 'string'\nconsole.log(typeof(num))\nconsole.log(typeof(str))",
      "metadata": {
        "trusted": true
      },
      "outputs": [
        {
          "name": "stdout",
          "text": "number\nstring\nnumber\nstring\n",
          "output_type": "stream"
        },
        {
          "execution_count": 12,
          "output_type": "execute_result",
          "data": {},
          "metadata": {}
        }
      ],
      "execution_count": 15
    },
    {
      "cell_type": "code",
      "source": "// typeof로 정확한 타입을 알아낼 수가 없다!?\n\nlet a = [1, 2, 3] // array\nlet b = {'one': 100, 'two': 200} // object\nconsole.log(typeof a) // 'object'\nconsole.log(typeof b) // 'object'\nconsole.log(typeof null) // 'object', javascript를 설계하신 분이 설계가 잘못되었다 인정!\n// 이처럼 깔끔하지 않다!?",
      "metadata": {
        "trusted": true
      },
      "outputs": [
        {
          "name": "stdout",
          "text": "object\nobject\nobject\n",
          "output_type": "stream"
        },
        {
          "execution_count": 15,
          "output_type": "execute_result",
          "data": {},
          "metadata": {}
        }
      ],
      "execution_count": 18
    },
    {
      "cell_type": "code",
      "source": "function typeCheck(value) {\n    const return_value = Object.prototype.toString.call(value);\n    const type = return_value.substring(\n        return_value.indexOf(\" \") + 1,\n        return_value.indexOf(\"]\")\n    );\n    return type.toLowerCase();\n}\n\nlet a = [1, 2, 3] // array\nlet b = {'one': 100, 'two': 200} // object\nlet c = null // null\n\nconsole.log(typeCheck(a))\nconsole.log(typeCheck(b))\nconsole.log(typeCheck(c))",
      "metadata": {
        "trusted": true
      },
      "outputs": [
        {
          "name": "stdout",
          "text": "array\nobject\nnull\n",
          "output_type": "stream"
        },
        {
          "execution_count": 16,
          "output_type": "execute_result",
          "data": {},
          "metadata": {}
        }
      ],
      "execution_count": 19
    },
    {
      "cell_type": "code",
      "source": "let age = 25; // Number 타입\nlet name = 'licat'; // String 타입\nlet isStudent = true; // Boolean 타입\nlet value; // undefined 타입 (값이 할당되지 않음)\nlet emptyValue = null; // null 타입 (의도적으로 값이 없음)",
      "metadata": {
        "trusted": true
      },
      "outputs": [
        {
          "execution_count": 17,
          "output_type": "execute_result",
          "data": {},
          "metadata": {}
        }
      ],
      "execution_count": 20
    },
    {
      "cell_type": "code",
      "source": "let person = {\n  name: 'Bob',\n  age: 30,\n}; // Object 타입\nlet numbers = [1, 2, 3, 4, 5]; // Array 타입\nfunction greet() {\n  console.log('Hello, world!');\n} // Function 타입\n\ntypeCheck(greet)",
      "metadata": {
        "trusted": true
      },
      "outputs": [
        {
          "execution_count": 18,
          "output_type": "execute_result",
          "data": {
            "text/plain": "'function'"
          },
          "metadata": {}
        }
      ],
      "execution_count": 21
    },
    {
      "cell_type": "code",
      "source": "// 문자열의 메서드\n\n// 1. indexOf\nlet text = 'weniv ceo leehojun hello world hello world'\nconsole.log(text.indexOf('hello')) // 첫번째 만나는 hello를 찾습니다!\n\n// 2. replace\n// javascript는 python과 달리 정규표현식을 import와 같은 문법 없이 기본 메서드에서 사용 가능합니다.\nconsole.log('제껴라 제껴라 제껴라 huh!'.replace('제껴라', 'check it out'))\nconsole.log('제껴라 제껴라 제껴라 huh!'.replace(/제껴라/g, 'check it out'))\nconsole.log('010-1234-1234'.replace(/[0-9]/g, '!'))\nconsole.log('010-1234-1234'.replace(/[^0-9]/g, '!'))\nconsole.log('010-1234-1234'.replace(/[^0-9]/g, ''))\n\n// 3. slice\n// 'hello world'[2:7]\n// javascript에서는 위와 같은 슬라이싱 문법이 안됩니다. 그래서 .slice라는 메서드를 사용해야 합니다.\n'hello world'.slice(2, 7)\n\n\n// 4. split\n'hello world hello world'.split(' ')\n'hello world hello world'.split('e')\n\n// 5. toLowerCase, toUpperCase\nconsole.log(\"What's the name? Black mamba\".toLowerCase());\nconsole.log('Watch me while I make it out'.toUpperCase());\n\n// 6. trim\nconsole.log('         abc  '.trim());",
      "metadata": {
        "trusted": true
      },
      "outputs": [
        {
          "name": "stdout",
          "text": "19\ncheck it out 제껴라 제껴라 huh!\ncheck it out check it out check it out huh!\n!!!-!!!!-!!!!\n010!1234!1234\n01012341234\nwhat's the name? black mamba\nWATCH ME WHILE I MAKE IT OUT\nabc\n",
          "output_type": "stream"
        },
        {
          "execution_count": 28,
          "output_type": "execute_result",
          "data": {},
          "metadata": {}
        }
      ],
      "execution_count": 33
    },
    {
      "cell_type": "code",
      "source": "// 증감 연산자\n\nlet x = 10\nx += 10\nx",
      "metadata": {
        "trusted": true
      },
      "outputs": [
        {
          "execution_count": 29,
          "output_type": "execute_result",
          "data": {
            "text/plain": "20"
          },
          "metadata": {}
        }
      ],
      "execution_count": 34
    },
    {
      "cell_type": "code",
      "source": "let x = 10\nx++\nx",
      "metadata": {
        "trusted": true
      },
      "outputs": [
        {
          "execution_count": 30,
          "output_type": "execute_result",
          "data": {
            "text/plain": "11"
          },
          "metadata": {}
        }
      ],
      "execution_count": 35
    },
    {
      "cell_type": "code",
      "source": "let x = 10\n++x\nx",
      "metadata": {
        "trusted": true
      },
      "outputs": [
        {
          "execution_count": 31,
          "output_type": "execute_result",
          "data": {
            "text/plain": "11"
          },
          "metadata": {}
        }
      ],
      "execution_count": 36
    },
    {
      "cell_type": "code",
      "source": "// 파이썬과 다르게 1씩 증가 또는 감소를 시켜주는 코드가 있습니다.\n// 둘 중에 아무거나 사용하셔도 출력하는 곳만 아니면 문제가 발생하지 않습니다.\nlet num = 3;\nconsole.log(`증감연산 : ${++num}`); // 4 (num을 먼저 증가시키고 출력)\nconsole.log(`증감연산 : ${num++}`); // 4 (출력 후 num을 증가시킴, 결과적으로 num은 5)\nconsole.log(`증감연산 : ${--num}`); // 4 (num을 먼저 감소시키고 출력)\nconsole.log(`증감연산 : ${num--}`); // 4 (출력 후 num을 감소시킴, 결과적으로 num은 3)",
      "metadata": {
        "trusted": true
      },
      "outputs": [],
      "execution_count": null
    },
    {
      "cell_type": "code",
      "source": "let x = 3\nlet y = 10\n\nx > y\n// python하고 전부 동일하지만 아래 2개가 다릅니다.\nx == y\nx === y",
      "metadata": {
        "trusted": true
      },
      "outputs": [
        {
          "execution_count": 34,
          "output_type": "execute_result",
          "data": {
            "text/plain": "false"
          },
          "metadata": {}
        }
      ],
      "execution_count": 39
    },
    {
      "cell_type": "code",
      "source": "let x = 3\nlet y = '3'\n\nx == y // python에는 False이지만, javascript에서는 true입니다!\nx === y // 우리가 원하는 값, python 에서 등호 == 인 값, 타입을 봅니다!\n// 무엇을 많이 사용하나요?\n// javascript에서는 ===를 많이 사용합니다.",
      "metadata": {
        "trusted": true
      },
      "outputs": [
        {
          "execution_count": 36,
          "output_type": "execute_result",
          "data": {
            "text/plain": "false"
          },
          "metadata": {}
        }
      ],
      "execution_count": 41
    },
    {
      "cell_type": "code",
      "source": "Infinity > 10 // 파이썬에서는 float('inf')로 사용했습니다!",
      "metadata": {
        "trusted": true
      },
      "outputs": [
        {
          "execution_count": 37,
          "output_type": "execute_result",
          "data": {
            "text/plain": "true"
          },
          "metadata": {}
        }
      ],
      "execution_count": 42
    },
    {
      "cell_type": "code",
      "source": "'숫자가 아님' / 2 \n// python에서는 error! 하지만 JS에서는 NaN이라는 것을 반환!",
      "metadata": {
        "trusted": true
      },
      "outputs": [
        {
          "execution_count": 38,
          "output_type": "execute_result",
          "data": {
            "text/plain": "NaN"
          },
          "metadata": {}
        }
      ],
      "execution_count": 43
    },
    {
      "cell_type": "code",
      "source": "let a = 12345678901234567890\na + 1 // ?? 이상한 숫자가 나오네요? 특정한 숫자 이상은 처리를 할 수가 없습니다!\n// 대부분의 언어가 언어마다 정의하고 있는 숫자가 넘어가면 처리를 못하게 되어 있습니다.\n// 이전에는 그래서 큰 숫자는 문자로 처리했습니다.\n\nlet b = 12345678901234567890n\nb + 1n",
      "metadata": {
        "trusted": true
      },
      "outputs": [
        {
          "execution_count": 40,
          "output_type": "execute_result",
          "data": {
            "text/plain": "12345678901234567891n"
          },
          "metadata": {}
        }
      ],
      "execution_count": 46
    },
    {
      "cell_type": "code",
      "source": "// +'10'\n+'12hello'",
      "metadata": {
        "trusted": true
      },
      "outputs": [
        {
          "execution_count": 50,
          "output_type": "execute_result",
          "data": {
            "text/plain": "NaN"
          },
          "metadata": {}
        }
      ],
      "execution_count": 56
    },
    {
      "cell_type": "code",
      "source": "// 위 연산은 안전하지 않은 연산입니다!\nparseInt('10')\nparseInt('12hello')",
      "metadata": {
        "trusted": true
      },
      "outputs": [
        {
          "execution_count": 48,
          "output_type": "execute_result",
          "data": {
            "text/plain": "12"
          },
          "metadata": {}
        }
      ],
      "execution_count": 54
    },
    {
      "cell_type": "code",
      "source": "parseFloat('10.1')",
      "metadata": {
        "trusted": true
      },
      "outputs": [
        {
          "execution_count": 51,
          "output_type": "execute_result",
          "data": {
            "text/plain": "10.1"
          },
          "metadata": {}
        }
      ],
      "execution_count": 57
    },
    {
      "cell_type": "code",
      "source": "// 이런 문법은 사용하지 마세요.\n~~10.1",
      "metadata": {
        "trusted": true
      },
      "outputs": [
        {
          "execution_count": 53,
          "output_type": "execute_result",
          "data": {
            "text/plain": "10"
          },
          "metadata": {}
        }
      ],
      "execution_count": 59
    },
    {
      "cell_type": "code",
      "source": "let a = 10\nlet b = [1, 2, 3]\nlet c = {'hello':'world'}\na.toString()\nb.toString() // Python 하는 사람들은 여기서부터 마음이 힘들어요.\nc.toString() // Python 하는 사람들은 여기서부터 마음이 힘들어요.\n\n// js를 하시는 분들은 python처럼 string으로 변환하고 싶을 때, JSON이라는 객체를 사용합니다.\nJSON.stringify(a)\nJSON.stringify(b)\nJSON.stringify(c)",
      "metadata": {
        "trusted": true
      },
      "outputs": [
        {
          "execution_count": 59,
          "output_type": "execute_result",
          "data": {
            "text/plain": "'{\"hello\":\"world\"}'"
          },
          "metadata": {}
        }
      ],
      "execution_count": 65
    },
    {
      "cell_type": "code",
      "source": "Math.PI\nMath.max(1, 2, 3, 4, 5, 6)\n// Math.max([1, 2, 3, 4, 5, 6])\nMath.max(...[1, 2, 3, 4, 5, 6])",
      "metadata": {
        "trusted": true
      },
      "outputs": [
        {
          "execution_count": 63,
          "output_type": "execute_result",
          "data": {
            "text/plain": "6"
          },
          "metadata": {}
        }
      ],
      "execution_count": 69
    },
    {
      "cell_type": "code",
      "source": "// JavaScript는 카멜 표기법을 선호합니다. oneTwoThree\n// python은 대부분 소문자고, 스네이크 표기법을 선호합니다. one_two_three",
      "metadata": {
        "trusted": true
      },
      "outputs": [],
      "execution_count": null
    },
    {
      "cell_type": "code",
      "source": "// and(&&)는 곱\n// or(||) 는 합\n// true      1\n// false     0\ntrue && false",
      "metadata": {
        "trusted": true
      },
      "outputs": [
        {
          "execution_count": 64,
          "output_type": "execute_result",
          "data": {
            "text/plain": "false"
          },
          "metadata": {}
        }
      ],
      "execution_count": 70
    },
    {
      "cell_type": "code",
      "source": "// 함수\n\nfunction f(a, b){\n    return a + b\n}\n\nf(10, 20)",
      "metadata": {
        "trusted": true
      },
      "outputs": [],
      "execution_count": null
    },
    {
      "cell_type": "code",
      "source": "function f(a=10, b=20){\n    return a + b\n}\n\nf()",
      "metadata": {
        "trusted": true
      },
      "outputs": [
        {
          "execution_count": 65,
          "output_type": "execute_result",
          "data": {
            "text/plain": "30"
          },
          "metadata": {}
        }
      ],
      "execution_count": 71
    },
    {
      "cell_type": "code",
      "source": "function f(a=2, b=3){\n    return a**2 + b**3\n}\n\nf(b=2, a=3) // javascript는 아규먼트의 순서를 파라미터의 순서로 바꿔주지 않습니다!\n// 이렇게 되면, 중간에 아규먼트 넣는 순서 틀리면 완전히 잘못된 결과를 받게됩니다!\n// 그래서 실수가 아주 많았습니다.\n// 그래서 roro기법이라는 기법이 나오게 됩니다.",
      "metadata": {
        "trusted": true
      },
      "outputs": [
        {
          "execution_count": 67,
          "output_type": "execute_result",
          "data": {
            "text/plain": "31"
          },
          "metadata": {}
        }
      ],
      "execution_count": 73
    },
    {
      "cell_type": "code",
      "source": "// 전혀 모르셔도 괜찮지만,\n// 참고삼아 알아두세요. Python은 이런 문제가 발생하지 않습니다.\nfunction f(obj){\n    return obj['a']**2 + obj['b']**3\n}\n\nf({'b':2, 'a':3})",
      "metadata": {
        "trusted": true
      },
      "outputs": [
        {
          "execution_count": 68,
          "output_type": "execute_result",
          "data": {
            "text/plain": "17"
          },
          "metadata": {}
        }
      ],
      "execution_count": 74
    },
    {
      "cell_type": "code",
      "source": "function f(){\n    return \n}\n\nconsole.log(f()) // undefined",
      "metadata": {
        "trusted": true
      },
      "outputs": [
        {
          "name": "stdout",
          "text": "\n",
          "output_type": "stream"
        },
        {
          "execution_count": 69,
          "output_type": "execute_result",
          "data": {},
          "metadata": {}
        }
      ],
      "execution_count": 75
    },
    {
      "cell_type": "code",
      "source": "// 화살표 함수\nfunction s(a, b){\n    return a + b\n}\n\nlet ss = (a, b) => a + b\n\nss(10, 20)",
      "metadata": {
        "trusted": true
      },
      "outputs": [
        {
          "execution_count": 70,
          "output_type": "execute_result",
          "data": {
            "text/plain": "30"
          },
          "metadata": {}
        }
      ],
      "execution_count": 76
    },
    {
      "cell_type": "code",
      "source": "let a;\nconsole.log(a)",
      "metadata": {
        "trusted": true
      },
      "outputs": [
        {
          "name": "stdout",
          "text": "\n",
          "output_type": "stream"
        },
        {
          "execution_count": 71,
          "output_type": "execute_result",
          "data": {},
          "metadata": {}
        }
      ],
      "execution_count": 77
    },
    {
      "cell_type": "code",
      "source": "// 배열\n\nlet arr = [10, 20, 30, 40]\narr.length",
      "metadata": {
        "trusted": true
      },
      "outputs": [
        {
          "execution_count": 72,
          "output_type": "execute_result",
          "data": {
            "text/plain": "4"
          },
          "metadata": {}
        }
      ],
      "execution_count": 78
    },
    {
      "cell_type": "code",
      "source": "let arr = [10, 20, 30, 40]\n\n// 1. push\narr.push(50)\narr\n\n// 2. pop\narr.pop()\narr\n\n// 3. shift // python에서는 pop(0)를 사용합니다.\narr.shift()\narr\n\n// 4. unshift // python에서는 insert(0, 값)으로 사용합니다.\narr.unshift(1000)\narr",
      "metadata": {
        "trusted": true
      },
      "outputs": [
        {
          "execution_count": 76,
          "output_type": "execute_result",
          "data": {
            "text/plain": "[ 1000, 20, 30, 40 ]"
          },
          "metadata": {}
        }
      ],
      "execution_count": 83
    },
    {
      "cell_type": "code",
      "source": "let s = [1, 11, 23, 43, 21, 28, 11, 111, 2111]\ns.sort()\n// js 는 기본 sort가 사전식 정렬입니다.",
      "metadata": {
        "trusted": true
      },
      "outputs": [
        {
          "execution_count": 77,
          "output_type": "execute_result",
          "data": {
            "text/plain": "[ 1, 11, 11, 111, 21, 2111, 23, 28, 43 ]"
          },
          "metadata": {}
        }
      ],
      "execution_count": 84
    },
    {
      "cell_type": "code",
      "source": "let s = [1, 11, 23, 43, 21, 28, 11, 111, 2111]\ns.sort((a, b) => a - b) // 오름차순\ns.sort((a, b) => b - a) // 내림차순",
      "metadata": {
        "trusted": true
      },
      "outputs": [
        {
          "execution_count": 79,
          "output_type": "execute_result",
          "data": {
            "text/plain": "[ 2111, 111, 43, 28, 23, 21, 11, 11, 1 ]"
          },
          "metadata": {}
        }
      ],
      "execution_count": 86
    },
    {
      "cell_type": "code",
      "source": "// forEach 많이 사용합니다! 기억해주세요!\n// return하는 값을 사용하진 않습니다!\nconst arr = [10, 20, 30, 40, 50]\n\nfunction f(value, index){\n    console.log(value, index)\n}\n\narr.forEach(f) // 이 f 자리를 콜백펑션이라고 얘기합니다.",
      "metadata": {
        "trusted": true
      },
      "outputs": [
        {
          "name": "stdout",
          "text": "10 0\n20 1\n30 2\n40 3\n50 4\n",
          "output_type": "stream"
        },
        {
          "execution_count": 1,
          "output_type": "execute_result",
          "data": {},
          "metadata": {}
        }
      ],
      "execution_count": 1
    },
    {
      "cell_type": "code",
      "source": "// 이렇게 화살표 함수로 더 많이 사용합니다.\nconst arr = [10, 20, 30, 40, 50]\n\narr.forEach((v, i) => {\n    console.log(v)\n    console.log(i)\n    console.log('------')\n})",
      "metadata": {
        "trusted": true
      },
      "outputs": [
        {
          "name": "stdout",
          "text": "10\n0\n------\n20\n1\n------\n30\n2\n------\n40\n3\n------\n50\n4\n------\n",
          "output_type": "stream"
        },
        {
          "execution_count": 4,
          "output_type": "execute_result",
          "data": {},
          "metadata": {}
        }
      ],
      "execution_count": 4
    },
    {
      "cell_type": "code",
      "source": "const arr = [10, 20, 30, 40, 50]\n\nfunction f(v, i){\n    console.log(v)\n    console.log(i)\n    console.log('------')\n}\n\narr.forEach(f)",
      "metadata": {
        "trusted": true
      },
      "outputs": [
        {
          "name": "stdout",
          "text": "10\n0\n------\n20\n1\n------\n30\n2\n------\n40\n3\n------\n50\n4\n------\n",
          "output_type": "stream"
        },
        {
          "execution_count": 5,
          "output_type": "execute_result",
          "data": {},
          "metadata": {}
        }
      ],
      "execution_count": 5
    },
    {
      "cell_type": "code",
      "source": "// map\n// python에서의 map은 새로운 list를 생성하거나, 데이터를 추출하는 용도로 사용!\n// javascript에서의 map도 동일한 기능을 하지만, 데이터를 추출하는 용도로 더 많이 사용합니다.",
      "metadata": {
        "trusted": true
      },
      "outputs": [],
      "execution_count": null
    },
    {
      "cell_type": "code",
      "source": "arr = [10, 20, 30, 40]\n\nfunction f(v, i){\n    return 10\n}\n\narr.map(f)",
      "metadata": {
        "trusted": true
      },
      "outputs": [
        {
          "execution_count": 6,
          "output_type": "execute_result",
          "data": {
            "text/plain": "[ 10, 10, 10, 10 ]"
          },
          "metadata": {}
        }
      ],
      "execution_count": 6
    },
    {
      "cell_type": "code",
      "source": "arr = [10, 20, 30, 40]\n\nfunction f(v, i){\n    return v**2\n}\n\narr.map(f)",
      "metadata": {
        "trusted": true
      },
      "outputs": [
        {
          "execution_count": 7,
          "output_type": "execute_result",
          "data": {
            "text/plain": "[ 100, 400, 900, 1600 ]"
          },
          "metadata": {}
        }
      ],
      "execution_count": 7
    },
    {
      "cell_type": "code",
      "source": "// forEach는 return이 없었고\n// map은 return이 있습니다.\n\n// forEach는 각각의 순회에 return 값이 아무 기능을 하지 않습니다.\n// map 은 return 값으로 새로운 배열을 만들죠!",
      "metadata": {
        "trusted": true
      },
      "outputs": [],
      "execution_count": null
    },
    {
      "cell_type": "code",
      "source": "// 이 코드와\n\narr = [10, 20, 30, 40]\n\narr.map((v, i) => {\n    return v**2\n})",
      "metadata": {
        "trusted": true
      },
      "outputs": [],
      "execution_count": null
    },
    {
      "cell_type": "code",
      "source": "// 이 코드는 같은 코드입니다.\n\narr = [10, 20, 30, 40]\n\narr.map((v, i) => v**2)",
      "metadata": {
        "trusted": true
      },
      "outputs": [],
      "execution_count": null
    },
    {
      "cell_type": "code",
      "source": "// 아래와 같이 데이터를 추출하는 용도로 더 많이 사용합니다.\n\nconst data = [\n  {\n    _id: '642ba3980785cecff3f39a8d',\n    index: 0,\n    age: 28,\n    eyeColor: 'green',\n    name: 'Annette Middleton',\n    gender: 'female',\n    company: 'KINETICA',\n  },\n  {\n    _id: '642ba398d0fed6e17f2f50c9',\n    index: 1,\n    age: 37,\n    eyeColor: 'green',\n    name: 'Kidd Roman',\n    gender: 'male',\n    company: 'AUSTECH',\n  },\n  {\n    _id: '642ba39827d809511d00dd8d',\n    index: 2,\n    age: 39,\n    eyeColor: 'brown',\n    name: 'Best Ratliff',\n    gender: 'male',\n    company: 'PRISMATIC',\n  },\n];\n\n// const ages = data.map(item => item.age);\nconst ages = data.map((item) => item['age']);\n// console.log(ages);\nages",
      "metadata": {
        "trusted": true
      },
      "outputs": [
        {
          "execution_count": 10,
          "output_type": "execute_result",
          "data": {
            "text/plain": "[ 28, 37, 39 ]"
          },
          "metadata": {}
        }
      ],
      "execution_count": 10
    },
    {
      "cell_type": "code",
      "source": "// 아래와 같이 데이터를 추출하는 용도로 더 많이 사용합니다.\n\nconst data = [\n  {\n    _id: '642ba3980785cecff3f39a8d',\n    index: 0,\n    age: 28,\n    eyeColor: 'green',\n    name: 'Annette Middleton',\n    gender: 'female',\n    company: 'KINETICA',\n  },\n  {\n    _id: '642ba398d0fed6e17f2f50c9',\n    index: 1,\n    age: 37,\n    eyeColor: 'green',\n    name: 'Kidd Roman',\n    gender: 'male',\n    company: 'AUSTECH',\n  },\n  {\n    _id: '642ba39827d809511d00dd8d',\n    index: 2,\n    age: 39,\n    eyeColor: 'brown',\n    name: 'Best Ratliff',\n    gender: 'male',\n    company: 'PRISMATIC',\n  },\n];\n\n\nconst ages = []\ndata.forEach((item) => {\n    ages.push(item['age'])\n});\n\nages",
      "metadata": {
        "trusted": true
      },
      "outputs": [
        {
          "execution_count": 11,
          "output_type": "execute_result",
          "data": {
            "text/plain": "[ 28, 37, 39 ]"
          },
          "metadata": {}
        }
      ],
      "execution_count": 11
    },
    {
      "cell_type": "code",
      "source": "// in은 JavaScript에서는 완전히 다른 의미로 사용이 됩니다.",
      "metadata": {
        "trusted": true
      },
      "outputs": [
        {
          "execution_count": 12,
          "output_type": "execute_result",
          "data": {},
          "metadata": {}
        }
      ],
      "execution_count": 12
    },
    {
      "cell_type": "code",
      "source": "const arr = [10, 20, 30]\narr.includes(20)\n\nconst arr2 = ['hello', 'world']\narr2.includes('hello')",
      "metadata": {
        "trusted": true
      },
      "outputs": [
        {
          "execution_count": 14,
          "output_type": "execute_result",
          "data": {
            "text/plain": "true"
          },
          "metadata": {}
        }
      ],
      "execution_count": 14
    },
    {
      "cell_type": "code",
      "source": "// python 방식: '!'.join(arr)\n// javascript 방식: arr.join('!')\n\nconst arr = ['hello', 'world']\narr.join('!!')",
      "metadata": {
        "trusted": true
      },
      "outputs": [
        {
          "execution_count": 15,
          "output_type": "execute_result",
          "data": {
            "text/plain": "'hello!!world'"
          },
          "metadata": {}
        }
      ],
      "execution_count": 15
    },
    {
      "cell_type": "code",
      "source": "// 파이썬의 딕셔너리 형태 => 자바스크립트의 오브젝트 형태\n// 다만 파이썬의 딕셔너리는 매우 다양한 메서드를 가지고 있습니다.\n// 그런데 자바스크립트의 오브젝트는 할 수 있는 것이 별로 없습니다.\n\nconst obj = {'one': 'hello', 'two': 'world'}\nobj",
      "metadata": {
        "trusted": true
      },
      "outputs": [
        {
          "execution_count": 16,
          "output_type": "execute_result",
          "data": {
            "text/plain": "{ one: 'hello', two: 'world' }"
          },
          "metadata": {}
        }
      ],
      "execution_count": 16
    },
    {
      "cell_type": "code",
      "source": "const obj = {\n    one: 'hello', \n    two: 'world'\n}\nobj",
      "metadata": {
        "trusted": true
      },
      "outputs": [
        {
          "execution_count": 17,
          "output_type": "execute_result",
          "data": {
            "text/plain": "{ one: 'hello', two: 'world' }"
          },
          "metadata": {}
        }
      ],
      "execution_count": 17
    },
    {
      "cell_type": "code",
      "source": "// 인덱싱\nconst obj = {\n    one: 'hello', \n    two: 'world'\n}\n\nobj['one']",
      "metadata": {
        "trusted": true
      },
      "outputs": [
        {
          "execution_count": 18,
          "output_type": "execute_result",
          "data": {
            "text/plain": "'hello'"
          },
          "metadata": {}
        }
      ],
      "execution_count": 18
    },
    {
      "cell_type": "code",
      "source": "// key만 추출\nconst obj = {\n    one: 'hello', \n    two: 'world'\n}\n\n// python에서는 obj.keys()\n// 그런데 자바스크립트에서는 이게 안됩니다!?\n\nObject.keys(obj)\nObject.values(obj)\nObject.entries(obj)\n\n// 아니? 왜 이렇게 불편하게 써야하죠?\n// 설계가 잘못된겁니다.ㅜㅜ",
      "metadata": {
        "trusted": true
      },
      "outputs": [
        {
          "execution_count": 22,
          "output_type": "execute_result",
          "data": {
            "text/plain": "[ [ 'one', 'hello' ], [ 'two', 'world' ] ]"
          },
          "metadata": {}
        }
      ],
      "execution_count": 24
    },
    {
      "cell_type": "code",
      "source": "typeof [10, 20, 30]\ntypeof null\ntypeof {'hello': 'world'}",
      "metadata": {
        "trusted": true
      },
      "outputs": [
        {
          "execution_count": 25,
          "output_type": "execute_result",
          "data": {
            "text/plain": "'object'"
          },
          "metadata": {}
        }
      ],
      "execution_count": 27
    },
    {
      "cell_type": "code",
      "source": "// Map\n// Set",
      "metadata": {
        "trusted": true
      },
      "outputs": [],
      "execution_count": null
    },
    {
      "cell_type": "code",
      "source": "if (false){\n    console.log('hello')\n} else if(true) {\n    console.log('world')\n} else if(false) {\n    console.log('!')\n} else {\n    console.log('!!')\n}",
      "metadata": {
        "trusted": true
      },
      "outputs": [
        {
          "name": "stdout",
          "text": "world\n",
          "output_type": "stream"
        },
        {
          "execution_count": 26,
          "output_type": "execute_result",
          "data": {},
          "metadata": {}
        }
      ],
      "execution_count": 28
    },
    {
      "cell_type": "code",
      "source": "switch ('one'){\n    case 'one':\n        console.log('one')\n        break\n    case 'two':\n        console.log('two')\n        break\n    case 'three':\n        console.log('three')\n        break\n    case 'four':\n        console.log('four')\n        break\n}",
      "metadata": {
        "trusted": true
      },
      "outputs": [
        {
          "name": "stdout",
          "text": "one\n",
          "output_type": "stream"
        },
        {
          "execution_count": 27,
          "output_type": "execute_result",
          "data": {},
          "metadata": {}
        }
      ],
      "execution_count": 29
    },
    {
      "cell_type": "code",
      "source": "switch ('one'){\n    case 'one':\n        console.log('one') \n    case 'two':\n        console.log('two')\n    case 'three':\n        console.log('three')\n    case 'four':\n        console.log('four')   \n}",
      "metadata": {
        "trusted": true
      },
      "outputs": [
        {
          "name": "stdout",
          "text": "one\ntwo\nthree\nfour\n",
          "output_type": "stream"
        },
        {
          "execution_count": 28,
          "output_type": "execute_result",
          "data": {},
          "metadata": {}
        }
      ],
      "execution_count": 30
    },
    {
      "cell_type": "code",
      "source": "switch ('two'){\n    case 'one':\n        console.log('one')\n        break\n    case 'two':\n    case 'three':\n        console.log('three')\n        break\n    case 'four':\n        console.log('four')\n        break\n}",
      "metadata": {
        "trusted": true
      },
      "outputs": [
        {
          "name": "stdout",
          "text": "three\n",
          "output_type": "stream"
        },
        {
          "execution_count": 29,
          "output_type": "execute_result",
          "data": {},
          "metadata": {}
        }
      ],
      "execution_count": 31
    },
    {
      "cell_type": "code",
      "source": "new Date().getDay()",
      "metadata": {
        "trusted": true
      },
      "outputs": [
        {
          "execution_count": 30,
          "output_type": "execute_result",
          "data": {
            "text/plain": "1"
          },
          "metadata": {}
        }
      ],
      "execution_count": 32
    },
    {
      "cell_type": "code",
      "source": "console.log(new Date().getDay()); // 요일은 숫자로 표현됩니다.\n\nswitch (new Date().getDay()) {\n  case 1:\n    console.log('월요일입니다.');\n    break;\n  case 2:\n    console.log('화요일입니다.');\n    break;\n  case 3:\n    console.log('수요일입니다.');\n    break;\n  case 4:\n    console.log('목요일입니다.');\n    break;\n  case 5:\n    console.log('금요일입니다.');\n    break;\n  default:\n    console.log('주말입니다.');\n    break;\n}",
      "metadata": {
        "trusted": true
      },
      "outputs": [
        {
          "name": "stdout",
          "text": "1\n월요일입니다.\n",
          "output_type": "stream"
        },
        {
          "execution_count": 31,
          "output_type": "execute_result",
          "data": {},
          "metadata": {}
        }
      ],
      "execution_count": 33
    },
    {
      "cell_type": "code",
      "source": "// 반복문\n\nfor(let i = 0; i < 10; ++i){\n    console.log(i)\n}",
      "metadata": {
        "trusted": true
      },
      "outputs": [
        {
          "name": "stdout",
          "text": "0\n1\n2\n3\n4\n5\n6\n7\n8\n9\n",
          "output_type": "stream"
        },
        {
          "execution_count": 32,
          "output_type": "execute_result",
          "data": {},
          "metadata": {}
        }
      ],
      "execution_count": 34
    },
    {
      "cell_type": "code",
      "source": "const arr = [10, 20, 30, 40]\n\nfor (let i = 0; i < arr.length; ++i){\n    console.log(arr[i])\n}\n\n// 너무 힘들다!!!\n// 그래서 생긴 문법이 for of 문입니다.",
      "metadata": {
        "trusted": true
      },
      "outputs": [
        {
          "name": "stdout",
          "text": "10\n20\n30\n40\n",
          "output_type": "stream"
        },
        {
          "execution_count": 33,
          "output_type": "execute_result",
          "data": {},
          "metadata": {}
        }
      ],
      "execution_count": 35
    },
    {
      "cell_type": "code",
      "source": "const arr = [10, 20, 30, 40]\n\nfor (let i of arr){\n    console.log(i)\n}",
      "metadata": {
        "trusted": true
      },
      "outputs": [
        {
          "name": "stdout",
          "text": "10\n20\n30\n40\n",
          "output_type": "stream"
        },
        {
          "execution_count": 34,
          "output_type": "execute_result",
          "data": {},
          "metadata": {}
        }
      ],
      "execution_count": 36
    },
    {
      "cell_type": "code",
      "source": "const arr = [10, 20, 30, 40]\n\nfor (let i in arr){\n    console.log(i)\n}",
      "metadata": {
        "trusted": true
      },
      "outputs": [
        {
          "name": "stdout",
          "text": "0\n1\n2\n3\n",
          "output_type": "stream"
        },
        {
          "execution_count": 35,
          "output_type": "execute_result",
          "data": {},
          "metadata": {}
        }
      ],
      "execution_count": 37
    },
    {
      "cell_type": "code",
      "source": "const obj = {\n    one: 'hello',\n    two: 'world'\n}\n\nfor (let i of obj){\n    console.log(i)\n}",
      "metadata": {
        "trusted": true
      },
      "outputs": [
        {
          "ename": "TypeError",
          "evalue": "obj is not iterable",
          "traceback": [
            "TypeError: obj is not iterable\n    at eval (eval at execute (https://jupyter.weniv.co.kr/extensions/@jupyterlite/javascript-kernel-extension/static/584.7e49152bd31ca0f8291b.js?v=7e49152bd31ca0f8291b:2:13351), <anonymous>:6:15)\n    at eval (<anonymous>)\n    at Object.execute (https://jupyter.weniv.co.kr/extensions/@jupyterlite/javascript-kernel-extension/static/584.7e49152bd31ca0f8291b.js?v=7e49152bd31ca0f8291b:2:13351)\n    at o (https://jupyter.weniv.co.kr/extensions/@jupyterlite/javascript-kernel-extension/static/584.7e49152bd31ca0f8291b.js?v=7e49152bd31ca0f8291b:2:10215)"
          ],
          "output_type": "error"
        }
      ],
      "execution_count": 38
    },
    {
      "cell_type": "code",
      "source": "const obj = {\n    one: 'hello',\n    two: 'world'\n}\n\nfor (let i in obj){\n    console.log(i)\n}",
      "metadata": {
        "trusted": true
      },
      "outputs": [
        {
          "name": "stdout",
          "text": "one\ntwo\n",
          "output_type": "stream"
        },
        {
          "execution_count": 36,
          "output_type": "execute_result",
          "data": {},
          "metadata": {}
        }
      ],
      "execution_count": 39
    },
    {
      "cell_type": "code",
      "source": "const obj = {\n    one: 'hello',\n    two: 'world'\n}\n\n// 보통 for문 안에서는 let을 사용합니다.\nfor (const i in obj){\n    console.log(i)\n}",
      "metadata": {
        "trusted": true
      },
      "outputs": [
        {
          "name": "stdout",
          "text": "one\ntwo\n",
          "output_type": "stream"
        },
        {
          "execution_count": 37,
          "output_type": "execute_result",
          "data": {},
          "metadata": {}
        }
      ],
      "execution_count": 40
    },
    {
      "cell_type": "code",
      "source": "// 문제입니다.\n// 1. 1부터 10까지 짝수를 더해주세요.\nlet result = 0\nfor (let i = 0; i < 11; i += 2){\n    result += i\n}\nconsole.log(result)\n// 2. 1부터 10까지 출력하는데 4까지 출력하고 5에서 멈출 수 있도록 해주세요.(break 사용)\nlet i = 0;\nwhile (i < 10){\n    if (i === 5) {\n        break\n    }\n    console.log(i)\n    i++\n}\n\n// 3. switch 구문을 사용해서 '월', '화' .. 등을 입력받은 다음 평일과 주말로 출력해주세요.\nlet 요일 = '토'\nswitch (요일){\n    case '월':\n    case '화':\n    case '수':\n    case '목':\n    case '금':\n        console.log('평일')\n        break\n    case '토':\n    case '일':\n        console.log('주말')\n        break\n    default:\n        console.log('요일을 입력햇!')\n        break\n}\n// 4. [2, 4, 5, 3, 6, 5, 4, 1]에서 짝수만 더해주세요.\n// 기본 방식\nlet s = [2, 4, 5, 3, 6, 5, 4, 1]\nlet result2 = 0\nfor (let i of s){\n    if (i % 2 === 0){\n        result2 += i\n    }\n}\nconsole.log(result2)\n\n// 실무에서 사용하는 방식\ns.filter(v => !(v % 2)) // 이 코드는 어렵습니다.\ns.filter(v => v % 2 === 0)\n// 아쉽게도 js에 sum이라고 하는 함수가 없습니다!\ns.filter(v => v % 2 === 0).reduce((a, c) => a + c, 0)",
      "metadata": {
        "trusted": true
      },
      "outputs": [
        {
          "name": "stdout",
          "text": "30\n0\n1\n2\n3\n4\n주말\n16\n",
          "output_type": "stream"
        },
        {
          "execution_count": 45,
          "output_type": "execute_result",
          "data": {
            "text/plain": "16"
          },
          "metadata": {}
        }
      ],
      "execution_count": 49
    },
    {
      "cell_type": "code",
      "source": "let s = [2, 4, 5, 3, 6, 5, 4, 1]\ns.reduce((a, c) => a + c)",
      "metadata": {
        "trusted": true
      },
      "outputs": [
        {
          "execution_count": 46,
          "output_type": "execute_result",
          "data": {
            "text/plain": "30"
          },
          "metadata": {}
        }
      ],
      "execution_count": 50
    },
    {
      "cell_type": "code",
      "source": "let s = []\ns.reduce((a, c) => a + c, 0) // 0이 없으면 감점입니다!",
      "metadata": {
        "trusted": true
      },
      "outputs": [
        {
          "execution_count": 47,
          "output_type": "execute_result",
          "data": {
            "text/plain": "0"
          },
          "metadata": {}
        }
      ],
      "execution_count": 52
    },
    {
      "cell_type": "code",
      "source": "for (let i = 0; i < 10; i++){\n    if (i === 3){\n        continue\n    }\n    console.log(i)\n}",
      "metadata": {
        "trusted": true
      },
      "outputs": [
        {
          "name": "stdout",
          "text": "0\n1\n2\n4\n5\n6\n7\n8\n9\n",
          "output_type": "stream"
        },
        {
          "execution_count": 48,
          "output_type": "execute_result",
          "data": {},
          "metadata": {}
        }
      ],
      "execution_count": 53
    },
    {
      "cell_type": "code",
      "source": "// 전개 구문\n\nMath.max(1, 2, 3, 100, 5, 6, 7)\nMath.max([1, 2, 3, 100, 5, 6, 7])\nMath.max(...[1, 2, 3, 100, 5, 6, 7])",
      "metadata": {
        "trusted": true
      },
      "outputs": [
        {
          "execution_count": 51,
          "output_type": "execute_result",
          "data": {
            "text/plain": "100"
          },
          "metadata": {}
        }
      ],
      "execution_count": 56
    },
    {
      "cell_type": "code",
      "source": "let a = [10, 20, 30]\nlet b = [40, 50, 60]\nlet c = [...a, ...b]\nc",
      "metadata": {
        "trusted": true
      },
      "outputs": [
        {
          "execution_count": 52,
          "output_type": "execute_result",
          "data": {
            "text/plain": "[ 10, 20, 30, 40, 50, 60 ]"
          },
          "metadata": {}
        }
      ],
      "execution_count": 57
    },
    {
      "cell_type": "code",
      "source": "let a = [10, 20, 30]\nlet b = [40, 50, 60]\nlet c = [a, b]\nc",
      "metadata": {
        "trusted": true
      },
      "outputs": [
        {
          "execution_count": 53,
          "output_type": "execute_result",
          "data": {
            "text/plain": "[ [ 10, 20, 30 ], [ 40, 50, 60 ] ]"
          },
          "metadata": {}
        }
      ],
      "execution_count": 58
    },
    {
      "cell_type": "code",
      "source": "// this는 나 자신을 호출한 객체라고 먼저 암기를 하고, 예외 케이스를 암기하는 방식으로 이해해주세요.",
      "metadata": {
        "trusted": true
      },
      "outputs": [],
      "execution_count": null
    },
    {
      "cell_type": "code",
      "source": "console.log(this) // console에서는 전역 객체를 나타내는 window가 출력됩니다.",
      "metadata": {
        "trusted": true
      },
      "outputs": [
        {
          "name": "stdout",
          "text": "[object DedicatedWorkerGlobalScope]\n",
          "output_type": "stream"
        },
        {
          "execution_count": 54,
          "output_type": "execute_result",
          "data": {},
          "metadata": {}
        }
      ],
      "execution_count": 59
    },
    {
      "cell_type": "code",
      "source": "const obj = {\n  name: 'licat',\n  f: function () {\n    console.log(this);\n  },\n};\n \nobj.f(); // obj",
      "metadata": {
        "trusted": true
      },
      "outputs": [
        {
          "name": "stdout",
          "text": "[object Object]\n",
          "output_type": "stream"
        },
        {
          "execution_count": 55,
          "output_type": "execute_result",
          "data": {},
          "metadata": {}
        }
      ],
      "execution_count": 60
    },
    {
      "cell_type": "code",
      "source": "function Person(name) {\n  this.name = name;\n  console.log(this);\n}\n\nconst value = Person('test'); \n// Window 객체를 출력하고 undefined를 반환\n\nconst person1 = new Person('licat'); // new라는 키워드는 함수 마지막에 return this를 합니다.\n// Person { name: \"licat\" }\n\nconst person2 = new Person('mura'); \n// Person { name: \"mura\" }",
      "metadata": {
        "trusted": true
      },
      "outputs": [
        {
          "name": "stdout",
          "text": "[object Object]\n",
          "output_type": "stream"
        },
        {
          "execution_count": 56,
          "output_type": "execute_result",
          "data": {},
          "metadata": {}
        }
      ],
      "execution_count": 61
    },
    {
      "cell_type": "code",
      "source": "// 파이썬에서는 아래와 같이 Book을 찍어낼 수 있습니다!\n// class Book:\n//     def __init__(self, title, author, pages):\n//         self.title = title\n//         self.author = author\n//         self.pages = pages\n\n//     def __str__(self):\n//         return f\"{self.title} by {self.author}\"\n\n// book1 = Book(\"The Great Gatsby\", \"F. Scott Fitzgerald\", 180)\n// book2 = Book(\"Pages\", \"HojunLee\", 200)\n\n// print(book1)",
      "metadata": {
        "trusted": true
      },
      "outputs": [],
      "execution_count": null
    },
    {
      "cell_type": "code",
      "source": "function Book(name, author, pages){\n    this.name = name\n    this.author = author\n    this.pages = pages\n    // return this\n}\n\nbook1 = new Book(\"The Great Gatsby\", \"F. Scott Fitzgerald\", 180)\nbook2 = new Book(\"Pages\", \"HojunLee\", 200)\n\nbook1.name\nbook1.author\nbook1.pages",
      "metadata": {
        "trusted": true
      },
      "outputs": [
        {
          "execution_count": 59,
          "output_type": "execute_result",
          "data": {
            "text/plain": "180"
          },
          "metadata": {}
        }
      ],
      "execution_count": 64
    },
    {
      "cell_type": "code",
      "source": "function Book(name, author, pages){\n    this.name = name\n    this.author = author\n    this.pages = pages\n}\n\nbook1 = new Book(\"The Great Gatsby\", \"F. Scott Fitzgerald\", 180)\nbook2 = new Book(\"Pages\", \"HojunLee\", 200)\n\nbook1.name\nbook1.author\nbook1.pages",
      "metadata": {
        "trusted": true
      },
      "outputs": [],
      "execution_count": null
    },
    {
      "cell_type": "code",
      "source": "// for in은 key로 순회\n// for of는 value로 순회, objects가 순회가 되지 않습니다.",
      "metadata": {
        "trusted": true
      },
      "outputs": [
        {
          "execution_count": 60,
          "output_type": "execute_result",
          "data": {},
          "metadata": {}
        }
      ],
      "execution_count": 65
    },
    {
      "cell_type": "code",
      "source": "// for in은 익스플로러도 되기 때문에 부담없이 사용할 수 있습니다.\nconst a = [10, 20, 30, 40]\n// const a = {\n//     0: 10,\n//     1: 20,\n//     2: 30,\n//     3: 40\n// }\nconst b = {\n    one: 'hello',\n    two: 'world'\n}\n\nfor (let i in a){\n    console.log(i)\n}\n\nfor (let i in b){\n    console.log(i)\n}",
      "metadata": {
        "trusted": true
      },
      "outputs": [
        {
          "name": "stdout",
          "text": "0\n1\n2\n3\none\ntwo\n",
          "output_type": "stream"
        },
        {
          "execution_count": 62,
          "output_type": "execute_result",
          "data": {},
          "metadata": {}
        }
      ],
      "execution_count": 67
    },
    {
      "cell_type": "code",
      "source": "// for of는 익스플로러가 지원하지 않기 때문에,\n// 민원이 발생할 수 있습니다.\nconst a = [10, 20, 30, 40]\n// const a = {\n//     0: 10,\n//     1: 20,\n//     2: 30,\n//     3: 40\n// }\nconst b = {\n    one: 'hello',\n    two: 'world'\n}\n\n// 이 코드도 전혀 작동하지 않습니다. 익스플로러에서요.\nfor (let i of a){\n    console.log(i)\n}\n\nfor (let i of b){\n    console.log(i)\n}",
      "metadata": {
        "trusted": true
      },
      "outputs": [
        {
          "name": "stdout",
          "text": "10\n20\n30\n40\n",
          "output_type": "stream"
        },
        {
          "ename": "TypeError",
          "evalue": "b is not iterable",
          "traceback": [
            "TypeError: b is not iterable\n    at eval (eval at execute (https://jupyter.weniv.co.kr/extensions/@jupyterlite/javascript-kernel-extension/static/584.7e49152bd31ca0f8291b.js?v=7e49152bd31ca0f8291b:2:13351), <anonymous>:13:15)\n    at eval (<anonymous>)\n    at Object.execute (https://jupyter.weniv.co.kr/extensions/@jupyterlite/javascript-kernel-extension/static/584.7e49152bd31ca0f8291b.js?v=7e49152bd31ca0f8291b:2:13351)\n    at o (https://jupyter.weniv.co.kr/extensions/@jupyterlite/javascript-kernel-extension/static/584.7e49152bd31ca0f8291b.js?v=7e49152bd31ca0f8291b:2:10215)"
          ],
          "output_type": "error"
        }
      ],
      "execution_count": 68
    },
    {
      "cell_type": "code",
      "source": "let m = new Map();\n\nm.set('하나', '1');\nm.set(1, '하나');\nm.set(true, 1);\nm.set(false, 0);\n\nm = [...m] // 위니북스에서만 이렇게 사용\n\nconsole.log(m);",
      "metadata": {
        "trusted": true
      },
      "outputs": [
        {
          "name": "stdout",
          "text": "하나,1,1,하나,true,1,false,0\n",
          "output_type": "stream"
        },
        {
          "execution_count": 64,
          "output_type": "execute_result",
          "data": {},
          "metadata": {}
        }
      ],
      "execution_count": 70
    },
    {
      "cell_type": "code",
      "source": "let m = new Map();\n\nm.set('하나', '1');\nm.set('둘', '2');\nm.set('셋', '3');\n\nm.size\nm.keys()\nm.values()\nm.entries()\nm",
      "metadata": {
        "trusted": true
      },
      "outputs": [
        {
          "execution_count": 75,
          "output_type": "execute_result",
          "data": {
            "text/plain": "Map (3) {'하나' => '1', '둘' => '2', '셋' => '3'}"
          },
          "metadata": {}
        }
      ],
      "execution_count": 82
    },
    {
      "cell_type": "code",
      "source": "let m = new Map();\n\nm.set('하나', '1');\nm.set('둘', '2');\nm.set('셋', '3');\n\nfor (let [a, b] of m.entries()){\n    console.log(a)\n    console.log(b)\n}",
      "metadata": {
        "trusted": true
      },
      "outputs": [
        {
          "name": "stdout",
          "text": "하나\n1\n둘\n2\n셋\n3\n",
          "output_type": "stream"
        },
        {
          "execution_count": 66,
          "output_type": "execute_result",
          "data": {},
          "metadata": {}
        }
      ],
      "execution_count": 72
    },
    {
      "cell_type": "code",
      "source": "let m = new Map();\n\nm.set('하나', '1');\nm.set('둘', '2');\nm.set('셋', '3');\n\nm.get('하나')",
      "metadata": {
        "trusted": true
      },
      "outputs": [
        {
          "execution_count": 67,
          "output_type": "execute_result",
          "data": {
            "text/plain": "'1'"
          },
          "metadata": {}
        }
      ],
      "execution_count": 73
    },
    {
      "cell_type": "code",
      "source": "let m = new Map();\n\nm.set('하나', '1');\nm.set('둘', '2');\nm.set('셋', '3');\n\nconsole.log(m.delete('하나')); // true\nconsole.log(m.has('하나')); // false\n\n[...m.keys()]",
      "metadata": {
        "trusted": true
      },
      "outputs": [
        {
          "name": "stdout",
          "text": "true\nfalse\n",
          "output_type": "stream"
        },
        {
          "execution_count": 69,
          "output_type": "execute_result",
          "data": {
            "text/plain": "[ '둘', '셋' ]"
          },
          "metadata": {}
        }
      ],
      "execution_count": 76
    },
    {
      "cell_type": "code",
      "source": "let obj = { hi: 1, hi2: 2, hi3: 3, hi4: 4 };\nobj.length",
      "metadata": {
        "trusted": true
      },
      "outputs": [
        {
          "execution_count": 70,
          "output_type": "execute_result",
          "data": {},
          "metadata": {}
        }
      ],
      "execution_count": 77
    },
    {
      "cell_type": "code",
      "source": "// 1. Map은 keys, values, entries가 모두 메서드로 있다!\n// 2. has도 바로 체크 가능하다\n// 3. 길이도 object는 length가 없지만, Map은 size가 있어서 길이를 바로 알 수 있다.",
      "metadata": {
        "trusted": true
      },
      "outputs": [],
      "execution_count": null
    },
    {
      "cell_type": "code",
      "source": "// set\n\nlet s = new Set()\ns.add(1)\ns.add(1)\ns.add(1)\ns.add(2)\ns.add(2)\ns.add(3)\ns.add(3)\ns.add(3)\n\ns",
      "metadata": {
        "trusted": true
      },
      "outputs": [
        {
          "execution_count": 71,
          "output_type": "execute_result",
          "data": {
            "text/plain": "Set (3) {1, 2, 3}"
          },
          "metadata": {}
        }
      ],
      "execution_count": 78
    },
    {
      "cell_type": "code",
      "source": "let s = new Set('abcdeeeeeeeee');\ns\n// console.log(s.size);",
      "metadata": {
        "trusted": true
      },
      "outputs": [
        {
          "execution_count": 74,
          "output_type": "execute_result",
          "data": {
            "text/plain": "Set (5) {'a', 'b', 'c', 'd', 'e'}"
          },
          "metadata": {}
        }
      ],
      "execution_count": 81
    },
    {
      "cell_type": "code",
      "source": "let setA = new Set(['apple', 'banana', 'orange']);\nlet setB = new Set(['banana', 'kiwi', 'orange']);\n\n// 교집합\nlet intersection = new Set([...setA].filter(x => setB.has(x)));\nintersection\n\n// 합집합\nlet union = new Set([...setA, ...setB]);\nunion\n\n// 차집합\nlet difference = new Set([...setA].filter(x => !setB.has(x)));\ndifference",
      "metadata": {
        "trusted": true
      },
      "outputs": [
        {
          "execution_count": 77,
          "output_type": "execute_result",
          "data": {
            "text/plain": "Set (1) {'apple'}"
          },
          "metadata": {}
        }
      ],
      "execution_count": 84
    },
    {
      "cell_type": "code",
      "source": "// Map에서 아래 것만 기억해주세요.\n// get, set, size\n// .keys(), .values(), .entries()",
      "metadata": {
        "trusted": true
      },
      "outputs": [],
      "execution_count": null
    },
    {
      "cell_type": "code",
      "source": "// a = [1, 2, 3]\n// b = [1, 2, 3]\n\n// a == b\n// python은 True인데!?\n\nconst a = [1, 2, 3]\nconst b = [1, 2, 3]\n\na == b // false <-- a와 b가 메모리 주소가 다르다!",
      "metadata": {
        "trusted": true
      },
      "outputs": [
        {
          "execution_count": 78,
          "output_type": "execute_result",
          "data": {
            "text/plain": "false"
          },
          "metadata": {}
        }
      ],
      "execution_count": 85
    },
    {
      "cell_type": "code",
      "source": "const a = [1, 2, 3]\nconst b = [1, 2, 3]\n\nJSON.stringify(a)\nJSON.stringify(b)\nJSON.stringify(a) == JSON.stringify(b)",
      "metadata": {
        "trusted": true
      },
      "outputs": [
        {
          "execution_count": 81,
          "output_type": "execute_result",
          "data": {
            "text/plain": "true"
          },
          "metadata": {}
        }
      ],
      "execution_count": 88
    },
    {
      "cell_type": "code",
      "source": "// JSON !== JavaScript object\n// JSON이 좀 더 엄격합니다.\n// key값에 쌍따옴표 붙입니다.\n// 앞에는 한 칸 안띄고, 뒤에는 한 칸 띕니다.\n// {\"key\": \"value\"}",
      "metadata": {
        "trusted": true
      },
      "outputs": [],
      "execution_count": null
    },
    {
      "cell_type": "code",
      "source": "const json = '[1, 2, [1, 2, 3]]'; // 이렇게 다른 언어에서 string으로 받았으면\nconst obj = JSON.parse(json); // 내부에서 사용할 수 있는 객체로 변환\nobj",
      "metadata": {
        "trusted": true
      },
      "outputs": [
        {
          "execution_count": 83,
          "output_type": "execute_result",
          "data": {
            "text/plain": "[ 1, 2, [ 1, 2, 3 ] ]"
          },
          "metadata": {}
        }
      ],
      "execution_count": 90
    },
    {
      "cell_type": "code",
      "source": "const a = [1, 2, 3]\nconst b = {\n    one: 'hello',\n    two: 'world'\n}\n\nJSON.stringify(a) // 외부로 데이터 전송할 때에는 이렇게 문자열로 변환해 전송\nJSON.stringify(b) // 외부로 데이터 전송할 때에는 이렇게 문자열로 변환해 전송",
      "metadata": {
        "trusted": true
      },
      "outputs": [
        {
          "execution_count": 85,
          "output_type": "execute_result",
          "data": {
            "text/plain": "'{\"one\":\"hello\",\"two\":\"world\"}'"
          },
          "metadata": {}
        }
      ],
      "execution_count": 92
    },
    {
      "cell_type": "code",
      "source": "// 이 코드를 암기하시면 실무에서 자주 사용하는 패턴 3개를 한꺼번에 익히실 수 있습니다.\n// 정답 코드를 손으로도 여러번 써보세요.\n// 팬을 들고요.\nconst data = [\n  {\n    \"_id\": \"998e1c16-6a80-4cb5-Cfaa-95e5b9f8cd0d\",\n    \"index\": \"1\",\n    \"name\": \"원윤슬\",\n    \"email\": \"user-qn97dcg@Curabitur.biz\",\n    \"phone\": \"010-9963-0904\",\n    \"country\": \"마카오\",\n    \"address\": \"양평로 94-5\",\n    \"age\": \"36\",\n    \"job\": \"식품공학기술자\"\n  },\n  {\n    \"_id\": \"8c93c034-a1e5-4ce0-C974-c6544801aa20\",\n    \"index\": \"2\",\n    \"name\": \"난시원\",\n    \"email\": \"user-bh7qncs@Eget.com\",\n    \"phone\": \"010-3095-1880\",\n    \"country\": \"키리바시\",\n    \"address\": \"양재로 75-6\",\n    \"age\": \"47\",\n    \"job\": \"생물공학연구원\"\n  },\n  {\n    \"_id\": \"36da5180-a858-4203-Aee9-e5a30ecdaaef\",\n    \"index\": \"3\",\n    \"name\": \"도태림\",\n    \"email\": \"user-7qmj5al@Quisque.co.kr\",\n    \"phone\": \"010-5681-9837\",\n    \"country\": \"르완다\",\n    \"address\": \"강변북로 35-8\",\n    \"age\": \"49\",\n    \"job\": \"회계사\"\n  },\n  {\n    \"_id\": \"752fb846-86ec-46e7-C38a-06e5eed26a5f\",\n    \"index\": \"4\",\n    \"name\": \"갈영현\",\n    \"email\": \"user-txs2nnu@Molestie.co.kr\",\n    \"phone\": \"010-3581-4638\",\n    \"country\": \"마셜 제도\",\n    \"address\": \"용산로 56-1\",\n    \"age\": \"40\",\n    \"job\": \"방송연출가\"\n  },\n  {\n    \"_id\": \"09ff1f9e-7887-4fef-B4c6-a85c576ad261\",\n    \"index\": \"5\",\n    \"name\": \"팽지호\",\n    \"email\": \"user-hai4w0q@Donec.org\",\n    \"phone\": \"010-5765-4652\",\n    \"country\": \"세인트헬레나\",\n    \"address\": \"노량진로 24-2\",\n    \"age\": \"33\",\n    \"job\": \"생물공학연구원\"\n  }\n]\n// 35살 이상이신 분들의 평균\nconst len = data.length\nconst fiteringdata = data.filter(v => parseInt(v['age']) >= 35)\nconst ages = fiteringdata.map(v => parseInt(v['age']))\nconst sum = ages.reduce((a, c) => a + c, 0)\nsum / len",
      "metadata": {
        "trusted": true
      },
      "outputs": [
        {
          "execution_count": 89,
          "output_type": "execute_result",
          "data": {
            "text/plain": "34.4"
          },
          "metadata": {}
        }
      ],
      "execution_count": 96
    },
    {
      "cell_type": "code",
      "source": "// 전부 array 메서드입니다!\n// filter\n// reduce\n// map",
      "metadata": {
        "trusted": true
      },
      "outputs": [
        {
          "execution_count": 90,
          "output_type": "execute_result",
          "data": {},
          "metadata": {}
        }
      ],
      "execution_count": 97
    },
    {
      "cell_type": "code",
      "source": "[10, 20, 30, 40].reduce((a, c) => {\n    console.log(a)\n    console.log(c)\n    console.log('------')\n    return a + c\n})",
      "metadata": {
        "trusted": true
      },
      "outputs": [
        {
          "name": "stdout",
          "text": "10\n20\n------\n30\n30\n------\n60\n40\n------\n",
          "output_type": "stream"
        },
        {
          "execution_count": 93,
          "output_type": "execute_result",
          "data": {
            "text/plain": "100"
          },
          "metadata": {}
        }
      ],
      "execution_count": 100
    },
    {
      "cell_type": "code",
      "source": "[10, 20, 30, 40].reduce((a, c) => {\n    console.log(a)\n    console.log(c)\n    console.log('------')\n    return 100\n})",
      "metadata": {
        "trusted": true
      },
      "outputs": [
        {
          "name": "stdout",
          "text": "10\n20\n------\n100\n30\n------\n100\n40\n------\n",
          "output_type": "stream"
        },
        {
          "execution_count": 92,
          "output_type": "execute_result",
          "data": {
            "text/plain": "100"
          },
          "metadata": {}
        }
      ],
      "execution_count": 99
    },
    {
      "cell_type": "code",
      "source": "[1, 2, 3, 4, 5].filter(x => x >= 3)",
      "metadata": {
        "trusted": true
      },
      "outputs": [
        {
          "execution_count": 94,
          "output_type": "execute_result",
          "data": {
            "text/plain": "[ 3, 4, 5 ]"
          },
          "metadata": {}
        }
      ],
      "execution_count": 101
    },
    {
      "cell_type": "code",
      "source": "function f(x){\n    return x >= 3\n}\n\n[1, 2, 3, 4, 5].filter(f)",
      "metadata": {
        "trusted": true
      },
      "outputs": [
        {
          "execution_count": 95,
          "output_type": "execute_result",
          "data": {
            "text/plain": "[ 3, 4, 5 ]"
          },
          "metadata": {}
        }
      ],
      "execution_count": 102
    },
    {
      "cell_type": "code",
      "source": "[1, 2, 3, 4, 5].map(x => x >= 3) // 데이터 추출로 더 많이 사용",
      "metadata": {
        "trusted": true
      },
      "outputs": [
        {
          "execution_count": 96,
          "output_type": "execute_result",
          "data": {
            "text/plain": "[ false, false, true, true, true ]"
          },
          "metadata": {}
        }
      ],
      "execution_count": 103
    },
    {
      "cell_type": "code",
      "source": "// # Array 메서드 실무 연습 문제 10개\n\n// ## 문제 1: 숫자 배열 필터링\n// `[1, 5, 10, 15, 20, 25, 30]`에서 15 이상인 수만 추출하세요.\nconst data1 = [1, 5, 10, 15, 20, 25, 30]\ndata1.filter(x => x >= 15)\n\n// ## 문제 2: 문자열 배열 변환\n// `['apple', 'banana', 'cherry']`를 모두 대문자로 변환하세요.\nconst data2 = ['apple', 'banana', 'cherry']\ndata2.map(x => x.toUpperCase())\n\n// ## 문제 3: 숫자 합계\n// `[100, 200, 300, 400, 500]`의 총합을 구하세요.\nconst data3 = [100, 200, 300, 400, 500]\ndata3.reduce((a, c) => a + c, 0)\n\n// ## 문제 4: 이름 배열에서 특정 길이\n// `['김철수', '이영희', '박민수진', '최지']`에서 3글자인 이름만 찾으세요.\nconst data4 = ['김철수', '이영희', '박민수진', '최지']\ndata4.filter(x => x.length === 3)\n\n// ## 문제 5: 점수 평균 계산\n// `[85, 92, 78, 96, 88]` 점수들의 평균을 구하세요.\nconst data5 = [85, 92, 78, 96, 88]\nconst len = data5.length\ndata5.reduce((a, c) => a + c, 0) / len\n\n// ## 문제 6: 제품 데이터 처리\n// const products = [\n//   { name: '노트북', price: 1000000, category: '전자제품' },\n//   { name: '마우스', price: 30000, category: '전자제품' },\n//   { name: '책상', price: 200000, category: '가구' }\n// ];\n// 전자제품 카테고리의 제품명만 추출하세요.\nconst data6 = [\n  { name: '노트북', price: 1000000, category: '전자제품' },\n  { name: '마우스', price: 30000, category: '전자제품' },\n  { name: '책상', price: 200000, category: '가구' }\n];\ndata6.map(v => v['name'])\n\n// ## 문제 7: 짝수/홀수 확인\n// `[2, 4, 6, 8, 10]` 배열이 모두 짝수인지 확인하세요.\nconst data7 = [2, 4, 6, 8, 10]\ndata7.filter(v => v % 2 === 0).length === data7.length\n// data7.every(v => v % 2 === 0)\n\n// ## 문제 8: 최대값 찾기\n// `[45, 23, 89, 12, 67, 34]`에서 가장 큰 수를 찾으세요.\nMath.max(...[45, 23, 89, 12, 67, 34])\n\nconst numbers = [45, 23, 89, 12, 67, 34];\nconst result = numbers.reduce((max, num) => num > max ? num : max);\n// 잘 풀었지만 우리에겐 Math.max가 있습니다!\n\n// ## 문제 9: 단어 길이 변환\n// `['자바스크립트', '리액트', '뷰', '앵귤러']`를 각 단어의 글자 수로 변환하세요.\nconst data8 = ['자바스크립트', '리액트', '뷰', '앵귤러']\ndata8.map(v => v.length)\n\n// ## 문제 10: 조건부 합계\n// `[10, -5, 20, -15, 30, -8]`에서 양수만 골라서 합계를 구하세요.\nconst data9 = [10, -5, 20, -15, 30, -8]\ndata9.filter(x => x > 0).reduce((a, c) => a + c, 0)",
      "metadata": {
        "trusted": true
      },
      "outputs": [
        {
          "execution_count": 107,
          "output_type": "execute_result",
          "data": {
            "text/plain": "60"
          },
          "metadata": {}
        }
      ],
      "execution_count": 115
    },
    {
      "cell_type": "code",
      "source": "10 > 5 ? 'hello' : 'world'",
      "metadata": {
        "trusted": true
      },
      "outputs": [
        {
          "execution_count": 104,
          "output_type": "execute_result",
          "data": {
            "text/plain": "'hello'"
          },
          "metadata": {}
        }
      ],
      "execution_count": 112
    },
    {
      "cell_type": "code",
      "source": "const value = 10 > 5 ? 'hello' : 'world'\nvalue",
      "metadata": {
        "trusted": true
      },
      "outputs": [
        {
          "execution_count": 105,
          "output_type": "execute_result",
          "data": {
            "text/plain": "'hello'"
          },
          "metadata": {}
        }
      ],
      "execution_count": 113
    },
    {
      "cell_type": "code",
      "source": "// https://school.programmers.co.kr/learn/courses/30/lessons/120871",
      "metadata": {
        "trusted": true
      },
      "outputs": [],
      "execution_count": null
    },
    {
      "cell_type": "code",
      "source": "Array(10).fill(1)\nArray(10).fill(1).map((v, i) => v + i)",
      "metadata": {
        "trusted": true
      },
      "outputs": [
        {
          "execution_count": 109,
          "output_type": "execute_result",
          "data": {
            "text/plain": "[ 1, 2, 3, 4, 5, 6, 7, 8, 9, 10 ]"
          },
          "metadata": {}
        }
      ],
      "execution_count": 117
    },
    {
      "cell_type": "code",
      "source": "// 첫번째 방식(제가 즐겨하는 방식)\n// 배열을 만들어 놓고 시작하는 방식\nArray(100)\n    .fill(1)\n    .map((v, i) => v + i)\n    .filter(x => x % 3 !== 0)\n    .filter(x => !x.toString().includes('3'))",
      "metadata": {
        "trusted": true
      },
      "outputs": [
        {
          "execution_count": 14,
          "output_type": "execute_result",
          "data": {
            "text/plain": "[ 1, 2, 4, 5, 7, 8, 10, 11, 14, 16, 17, 19, 20, 22, 25, 26, 28, 29, 40, 41, 44, 46, 47, 49, 50, 52, 55, 56, 58, 59, 61, 62, 64, 65, 67, 68, 70, 71, 74, 76, 77, 79, 80, 82, 85, 86, 88, 89, 91, 92, 94, 95, 97, 98, 100 ]"
          },
          "metadata": {}
        }
      ],
      "execution_count": 16
    },
    {
      "cell_type": "code",
      "source": "Array(100)\n    .fill(1)\n    .map((v, i) => v + i)\n    .filter(x => x % 3 !== 0)\n    .filter(x => !/3/.test(x))",
      "metadata": {
        "trusted": true
      },
      "outputs": [
        {
          "execution_count": 10,
          "output_type": "execute_result",
          "data": {
            "text/plain": "[ 1, 2, 4, 5, 7, 8, 10, 11, 14, 16, 17, 19, 20, 22, 25, 26, 28, 29, 40, 41, 44, 46, 47, 49, 50, 52, 55, 56, 58, 59, 61, 62, 64, 65, 67, 68, 70, 71, 74, 76, 77, 79, 80, 82, 85, 86, 88, 89, 91, 92, 94, 95, 97, 98, 100 ]"
          },
          "metadata": {}
        }
      ],
      "execution_count": 12
    },
    {
      "cell_type": "code",
      "source": "Array(100)\n    .fill(1)\n    .map((v, i) => v + i)\n    .filter(x => x % 3 !== 0)\n    .filter(x => !/3/.test(x))[14]",
      "metadata": {
        "trusted": true
      },
      "outputs": [
        {
          "execution_count": 12,
          "output_type": "execute_result",
          "data": {
            "text/plain": "25"
          },
          "metadata": {}
        }
      ],
      "execution_count": 14
    },
    {
      "cell_type": "code",
      "source": "// /3/.test(33)\n// /3/.test(123)\n/3/.test(12)",
      "metadata": {
        "trusted": true
      },
      "outputs": [],
      "execution_count": null
    },
    {
      "cell_type": "code",
      "source": "'hello'.includes('h')",
      "metadata": {
        "trusted": true
      },
      "outputs": [
        {
          "execution_count": 13,
          "output_type": "execute_result",
          "data": {
            "text/plain": "true"
          },
          "metadata": {}
        }
      ],
      "execution_count": 15
    },
    {
      "cell_type": "code",
      "source": "// 두번째 방식\n// 배열을 만들어놓지 않고, 실시간으로 연산해 나가면서 풀이하는 방식",
      "metadata": {
        "trusted": true
      },
      "outputs": [
        {
          "execution_count": 15,
          "output_type": "execute_result",
          "data": {},
          "metadata": {}
        }
      ],
      "execution_count": 17
    },
    {
      "cell_type": "code",
      "source": "function solution(n){\n    let count3x = 0\n    while (n > 0) {\n        count3x++\n        if (count3x.toString().includes('3')){\n            continue\n        }\n        if (count3x % 3 == 0) {\n            continue\n        }\n        n--\n    }\n    return count3x\n}\n\nsolution(15)",
      "metadata": {
        "trusted": true
      },
      "outputs": [
        {
          "execution_count": 18,
          "output_type": "execute_result",
          "data": {
            "text/plain": "25"
          },
          "metadata": {}
        }
      ],
      "execution_count": 21
    },
    {
      "cell_type": "code",
      "source": "let n = 15\nlet count3x = 0\nfor (let i = 0; i < n + 1; i++) {\n    count3x++\n    while (count3x.toString().includes('3')){\n        count3x++\n    }\n    while (count3x % 3 === 0) {\n        count3x++\n    }\n    console.log(count3x)\n}",
      "metadata": {
        "trusted": true
      },
      "outputs": [
        {
          "name": "stdout",
          "text": "1\n2\n4\n5\n7\n8\n10\n11\n13\n14\n16\n17\n19\n20\n22\n25\n",
          "output_type": "stream"
        },
        {
          "execution_count": 24,
          "output_type": "execute_result",
          "data": {},
          "metadata": {}
        }
      ],
      "execution_count": 27
    },
    {
      "cell_type": "code",
      "source": "// 파이썬에서는 아래와 같이 Book을 찍어낼 수 있습니다!\n// class Book:\n//     def __init__(self, title, author, pages):\n//         self.title = title\n//         self.author = author\n//         self.pages = pages\n\n//     def __str__(self):\n//         return f\"{self.title} by {self.author}\"\n\n// book1 = Book(\"The Great Gatsby\", \"F. Scott Fitzgerald\", 180)\n// book2 = Book(\"Pages\", \"HojunLee\", 200)\n\n// print(book1)\n\nclass Book {\n    constructor(name, author, pages){\n        this.name = name\n        this.author = author\n        this.pages = pages\n    }\n\n    introduce(){\n        return `이 책의 이름은 ${this.name}이고 이 책의 저는 ${this.author}입니다.`\n    }\n}\n\nbook1 = new Book(\"The Great Gatsby\", \"F. Scott Fitzgerald\", 180)\nbook2 = new Book(\"Pages\", \"HojunLee\", 200)\nbook1.introduce()",
      "metadata": {
        "trusted": true
      },
      "outputs": [
        {
          "execution_count": 1,
          "output_type": "execute_result",
          "data": {
            "text/plain": "'이 책의 이름은 The Great Gatsby이고 이 책의 저는 F. Scott Fitzgerald입니다.'"
          },
          "metadata": {}
        }
      ],
      "execution_count": 2
    },
    {
      "cell_type": "code",
      "source": "class Animal {\n    constructor(name){\n        this.name = name\n    }\n\n    say(){\n        return `내 이름은 ${this.name}이야!`\n    }\n}\n\nclass Dog extends Animal {\n    constructor(name){\n        super(name)\n    }\n}\n\nclass Cat extends Animal {\n    constructor(name){\n        super(name)\n    }\n}\n\n개 = new Dog(\"흰둥이\")\n고양이 = new Cat(\"냐옹이\")\n\n개.say()\n고양이.say()",
      "metadata": {
        "trusted": true
      },
      "outputs": [
        {
          "execution_count": 3,
          "output_type": "execute_result",
          "data": {
            "text/plain": "'내 이름은 냐옹이이야!'"
          },
          "metadata": {}
        }
      ],
      "execution_count": 4
    },
    {
      "cell_type": "code",
      "source": "class Animal {\n    constructor(name){\n        this.name = name\n    }\n\n    say(){\n        return `내 이름은 ${this.name}이야!`\n    }\n}\n\nclass Dog extends Animal {\n    constructor(name){\n        super(name)\n    }\n    say(){\n        return `멍멍!`\n    }\n}\n\nclass Cat extends Animal {\n    constructor(name){\n        super(name)\n    }\n    say(){\n        return `냐옹!`\n    }\n}\n\n개 = new Dog(\"흰둥이\")\n고양이 = new Cat(\"냐옹이\")\n\n개.say()\n고양이.say()",
      "metadata": {
        "trusted": true
      },
      "outputs": [
        {
          "execution_count": 4,
          "output_type": "execute_result",
          "data": {
            "text/plain": "'냐옹!'"
          },
          "metadata": {}
        }
      ],
      "execution_count": 5
    },
    {
      "cell_type": "code",
      "source": "class Robot {\n  #password;\n\n  constructor(name, pw) {\n    this.name = name;\n    this.#password = pw;\n  }\n\n  sayYourName() {\n    console.log(`삐리비리. 제 이름은 ${this.name}입니다. 주인님.`);\n  }\n\n  get password() {\n    console.log('get password 호출')\n    return this.#password;\n  }\n\n  set password(pw) {\n    console.log('set password 호출')\n    this.#password = pw;\n  }\n}\n\n// get과 set사용\nconst bot = new Robot('재현', 1234);\n\nconsole.log(bot.password); // 1234\nbot.password = 5678;\nconsole.log(bot.password); // 5678",
      "metadata": {
        "trusted": true
      },
      "outputs": [],
      "execution_count": null
    }
  ]
}